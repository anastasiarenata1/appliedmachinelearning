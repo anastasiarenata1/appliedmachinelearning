{
  "cells": [
    {
      "cell_type": "markdown",
      "metadata": {
        "id": "HbMztNXx2OQs"
      },
      "source": [
        "## **Homework 1 | Applied Machine Learning**\n",
        "\n",
        "\n",
        "---\n",
        "####*Ziqing Li (zl648), Renata Anastasia (ra568)*"
      ]
    },
    {
      "cell_type": "markdown",
      "metadata": {
        "id": "U52t7G04iRf1"
      },
      "source": [
        "##I. The Housing Prices"
      ]
    },
    {
      "cell_type": "code",
      "execution_count": null,
      "metadata": {
        "id": "SLn4gTNhr40E"
      },
      "outputs": [],
      "source": [
        "import pandas as pd\n",
        "import numpy as np\n",
        "from sklearn.linear_model import LinearRegression"
      ]
    },
    {
      "cell_type": "markdown",
      "metadata": {
        "id": "zhFrQBVBv5Nn"
      },
      "source": [
        "####Question 1. Join the House Prices - Advanced Regression Techniques competition on Kaggle. Download the training and test data."
      ]
    },
    {
      "cell_type": "markdown",
      "metadata": {
        "id": "pvnK0IcZy01l"
      },
      "source": [
        "Import train data"
      ]
    },
    {
      "cell_type": "code",
      "execution_count": null,
      "metadata": {
        "colab": {
          "base_uri": "https://localhost:8080/",
          "height": 74,
          "resources": {
            "http://localhost:8080/nbextensions/google.colab/files.js": {
              "data": "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",
              "headers": [
                [
                  "content-type",
                  "application/javascript"
                ]
              ],
              "ok": true,
              "status": 200,
              "status_text": ""
            }
          }
        },
        "id": "FvemQdNrh-KD",
        "outputId": "2844df87-eccc-4d61-9990-5f230ff208a2"
      },
      "outputs": [
        {
          "output_type": "display_data",
          "data": {
            "text/plain": [
              "<IPython.core.display.HTML object>"
            ],
            "text/html": [
              "\n",
              "     <input type=\"file\" id=\"files-4cd3db44-78ce-41a1-8140-e2713fb56f09\" name=\"files[]\" multiple disabled\n",
              "        style=\"border:none\" />\n",
              "     <output id=\"result-4cd3db44-78ce-41a1-8140-e2713fb56f09\">\n",
              "      Upload widget is only available when the cell has been executed in the\n",
              "      current browser session. Please rerun this cell to enable.\n",
              "      </output>\n",
              "      <script src=\"/nbextensions/google.colab/files.js\"></script> "
            ]
          },
          "metadata": {}
        },
        {
          "output_type": "stream",
          "name": "stdout",
          "text": [
            "Saving train.csv to train (10).csv\n"
          ]
        }
      ],
      "source": [
        "from google.colab import files\n",
        "uploaded = files.upload()"
      ]
    },
    {
      "cell_type": "code",
      "execution_count": null,
      "metadata": {
        "colab": {
          "base_uri": "https://localhost:8080/",
          "height": 456
        },
        "id": "pSwluUcPiHQp",
        "outputId": "1cb8b9a6-c613-4af5-8f02-496034d9a016"
      },
      "outputs": [
        {
          "output_type": "execute_result",
          "data": {
            "text/plain": [
              "   MSSubClass MSZoning  LotFrontage  LotArea Street Alley LotShape  \\\n",
              "0          60       RL         65.0     8450   Pave   NaN      Reg   \n",
              "1          20       RL         80.0     9600   Pave   NaN      Reg   \n",
              "2          60       RL         68.0    11250   Pave   NaN      IR1   \n",
              "3          70       RL         60.0     9550   Pave   NaN      IR1   \n",
              "4          60       RL         84.0    14260   Pave   NaN      IR1   \n",
              "5          50       RL         85.0    14115   Pave   NaN      IR1   \n",
              "6          20       RL         75.0    10084   Pave   NaN      Reg   \n",
              "7          60       RL          NaN    10382   Pave   NaN      IR1   \n",
              "8          50       RM         51.0     6120   Pave   NaN      Reg   \n",
              "9         190       RL         50.0     7420   Pave   NaN      Reg   \n",
              "\n",
              "  LandContour Utilities LotConfig  ... PoolArea PoolQC  Fence MiscFeature  \\\n",
              "0         Lvl    AllPub    Inside  ...        0    NaN    NaN         NaN   \n",
              "1         Lvl    AllPub       FR2  ...        0    NaN    NaN         NaN   \n",
              "2         Lvl    AllPub    Inside  ...        0    NaN    NaN         NaN   \n",
              "3         Lvl    AllPub    Corner  ...        0    NaN    NaN         NaN   \n",
              "4         Lvl    AllPub       FR2  ...        0    NaN    NaN         NaN   \n",
              "5         Lvl    AllPub    Inside  ...        0    NaN  MnPrv        Shed   \n",
              "6         Lvl    AllPub    Inside  ...        0    NaN    NaN         NaN   \n",
              "7         Lvl    AllPub    Corner  ...        0    NaN    NaN        Shed   \n",
              "8         Lvl    AllPub    Inside  ...        0    NaN    NaN         NaN   \n",
              "9         Lvl    AllPub    Corner  ...        0    NaN    NaN         NaN   \n",
              "\n",
              "  MiscVal MoSold  YrSold  SaleType  SaleCondition  SalePrice  \n",
              "0       0      2    2008        WD         Normal     208500  \n",
              "1       0      5    2007        WD         Normal     181500  \n",
              "2       0      9    2008        WD         Normal     223500  \n",
              "3       0      2    2006        WD        Abnorml     140000  \n",
              "4       0     12    2008        WD         Normal     250000  \n",
              "5     700     10    2009        WD         Normal     143000  \n",
              "6       0      8    2007        WD         Normal     307000  \n",
              "7     350     11    2009        WD         Normal     200000  \n",
              "8       0      4    2008        WD        Abnorml     129900  \n",
              "9       0      1    2008        WD         Normal     118000  \n",
              "\n",
              "[10 rows x 80 columns]"
            ],
            "text/html": [
              "\n",
              "  <div id=\"df-5772d52a-ac4b-47ef-a794-308ac35b0125\">\n",
              "    <div class=\"colab-df-container\">\n",
              "      <div>\n",
              "<style scoped>\n",
              "    .dataframe tbody tr th:only-of-type {\n",
              "        vertical-align: middle;\n",
              "    }\n",
              "\n",
              "    .dataframe tbody tr th {\n",
              "        vertical-align: top;\n",
              "    }\n",
              "\n",
              "    .dataframe thead th {\n",
              "        text-align: right;\n",
              "    }\n",
              "</style>\n",
              "<table border=\"1\" class=\"dataframe\">\n",
              "  <thead>\n",
              "    <tr style=\"text-align: right;\">\n",
              "      <th></th>\n",
              "      <th>MSSubClass</th>\n",
              "      <th>MSZoning</th>\n",
              "      <th>LotFrontage</th>\n",
              "      <th>LotArea</th>\n",
              "      <th>Street</th>\n",
              "      <th>Alley</th>\n",
              "      <th>LotShape</th>\n",
              "      <th>LandContour</th>\n",
              "      <th>Utilities</th>\n",
              "      <th>LotConfig</th>\n",
              "      <th>...</th>\n",
              "      <th>PoolArea</th>\n",
              "      <th>PoolQC</th>\n",
              "      <th>Fence</th>\n",
              "      <th>MiscFeature</th>\n",
              "      <th>MiscVal</th>\n",
              "      <th>MoSold</th>\n",
              "      <th>YrSold</th>\n",
              "      <th>SaleType</th>\n",
              "      <th>SaleCondition</th>\n",
              "      <th>SalePrice</th>\n",
              "    </tr>\n",
              "  </thead>\n",
              "  <tbody>\n",
              "    <tr>\n",
              "      <th>0</th>\n",
              "      <td>60</td>\n",
              "      <td>RL</td>\n",
              "      <td>65.0</td>\n",
              "      <td>8450</td>\n",
              "      <td>Pave</td>\n",
              "      <td>NaN</td>\n",
              "      <td>Reg</td>\n",
              "      <td>Lvl</td>\n",
              "      <td>AllPub</td>\n",
              "      <td>Inside</td>\n",
              "      <td>...</td>\n",
              "      <td>0</td>\n",
              "      <td>NaN</td>\n",
              "      <td>NaN</td>\n",
              "      <td>NaN</td>\n",
              "      <td>0</td>\n",
              "      <td>2</td>\n",
              "      <td>2008</td>\n",
              "      <td>WD</td>\n",
              "      <td>Normal</td>\n",
              "      <td>208500</td>\n",
              "    </tr>\n",
              "    <tr>\n",
              "      <th>1</th>\n",
              "      <td>20</td>\n",
              "      <td>RL</td>\n",
              "      <td>80.0</td>\n",
              "      <td>9600</td>\n",
              "      <td>Pave</td>\n",
              "      <td>NaN</td>\n",
              "      <td>Reg</td>\n",
              "      <td>Lvl</td>\n",
              "      <td>AllPub</td>\n",
              "      <td>FR2</td>\n",
              "      <td>...</td>\n",
              "      <td>0</td>\n",
              "      <td>NaN</td>\n",
              "      <td>NaN</td>\n",
              "      <td>NaN</td>\n",
              "      <td>0</td>\n",
              "      <td>5</td>\n",
              "      <td>2007</td>\n",
              "      <td>WD</td>\n",
              "      <td>Normal</td>\n",
              "      <td>181500</td>\n",
              "    </tr>\n",
              "    <tr>\n",
              "      <th>2</th>\n",
              "      <td>60</td>\n",
              "      <td>RL</td>\n",
              "      <td>68.0</td>\n",
              "      <td>11250</td>\n",
              "      <td>Pave</td>\n",
              "      <td>NaN</td>\n",
              "      <td>IR1</td>\n",
              "      <td>Lvl</td>\n",
              "      <td>AllPub</td>\n",
              "      <td>Inside</td>\n",
              "      <td>...</td>\n",
              "      <td>0</td>\n",
              "      <td>NaN</td>\n",
              "      <td>NaN</td>\n",
              "      <td>NaN</td>\n",
              "      <td>0</td>\n",
              "      <td>9</td>\n",
              "      <td>2008</td>\n",
              "      <td>WD</td>\n",
              "      <td>Normal</td>\n",
              "      <td>223500</td>\n",
              "    </tr>\n",
              "    <tr>\n",
              "      <th>3</th>\n",
              "      <td>70</td>\n",
              "      <td>RL</td>\n",
              "      <td>60.0</td>\n",
              "      <td>9550</td>\n",
              "      <td>Pave</td>\n",
              "      <td>NaN</td>\n",
              "      <td>IR1</td>\n",
              "      <td>Lvl</td>\n",
              "      <td>AllPub</td>\n",
              "      <td>Corner</td>\n",
              "      <td>...</td>\n",
              "      <td>0</td>\n",
              "      <td>NaN</td>\n",
              "      <td>NaN</td>\n",
              "      <td>NaN</td>\n",
              "      <td>0</td>\n",
              "      <td>2</td>\n",
              "      <td>2006</td>\n",
              "      <td>WD</td>\n",
              "      <td>Abnorml</td>\n",
              "      <td>140000</td>\n",
              "    </tr>\n",
              "    <tr>\n",
              "      <th>4</th>\n",
              "      <td>60</td>\n",
              "      <td>RL</td>\n",
              "      <td>84.0</td>\n",
              "      <td>14260</td>\n",
              "      <td>Pave</td>\n",
              "      <td>NaN</td>\n",
              "      <td>IR1</td>\n",
              "      <td>Lvl</td>\n",
              "      <td>AllPub</td>\n",
              "      <td>FR2</td>\n",
              "      <td>...</td>\n",
              "      <td>0</td>\n",
              "      <td>NaN</td>\n",
              "      <td>NaN</td>\n",
              "      <td>NaN</td>\n",
              "      <td>0</td>\n",
              "      <td>12</td>\n",
              "      <td>2008</td>\n",
              "      <td>WD</td>\n",
              "      <td>Normal</td>\n",
              "      <td>250000</td>\n",
              "    </tr>\n",
              "    <tr>\n",
              "      <th>5</th>\n",
              "      <td>50</td>\n",
              "      <td>RL</td>\n",
              "      <td>85.0</td>\n",
              "      <td>14115</td>\n",
              "      <td>Pave</td>\n",
              "      <td>NaN</td>\n",
              "      <td>IR1</td>\n",
              "      <td>Lvl</td>\n",
              "      <td>AllPub</td>\n",
              "      <td>Inside</td>\n",
              "      <td>...</td>\n",
              "      <td>0</td>\n",
              "      <td>NaN</td>\n",
              "      <td>MnPrv</td>\n",
              "      <td>Shed</td>\n",
              "      <td>700</td>\n",
              "      <td>10</td>\n",
              "      <td>2009</td>\n",
              "      <td>WD</td>\n",
              "      <td>Normal</td>\n",
              "      <td>143000</td>\n",
              "    </tr>\n",
              "    <tr>\n",
              "      <th>6</th>\n",
              "      <td>20</td>\n",
              "      <td>RL</td>\n",
              "      <td>75.0</td>\n",
              "      <td>10084</td>\n",
              "      <td>Pave</td>\n",
              "      <td>NaN</td>\n",
              "      <td>Reg</td>\n",
              "      <td>Lvl</td>\n",
              "      <td>AllPub</td>\n",
              "      <td>Inside</td>\n",
              "      <td>...</td>\n",
              "      <td>0</td>\n",
              "      <td>NaN</td>\n",
              "      <td>NaN</td>\n",
              "      <td>NaN</td>\n",
              "      <td>0</td>\n",
              "      <td>8</td>\n",
              "      <td>2007</td>\n",
              "      <td>WD</td>\n",
              "      <td>Normal</td>\n",
              "      <td>307000</td>\n",
              "    </tr>\n",
              "    <tr>\n",
              "      <th>7</th>\n",
              "      <td>60</td>\n",
              "      <td>RL</td>\n",
              "      <td>NaN</td>\n",
              "      <td>10382</td>\n",
              "      <td>Pave</td>\n",
              "      <td>NaN</td>\n",
              "      <td>IR1</td>\n",
              "      <td>Lvl</td>\n",
              "      <td>AllPub</td>\n",
              "      <td>Corner</td>\n",
              "      <td>...</td>\n",
              "      <td>0</td>\n",
              "      <td>NaN</td>\n",
              "      <td>NaN</td>\n",
              "      <td>Shed</td>\n",
              "      <td>350</td>\n",
              "      <td>11</td>\n",
              "      <td>2009</td>\n",
              "      <td>WD</td>\n",
              "      <td>Normal</td>\n",
              "      <td>200000</td>\n",
              "    </tr>\n",
              "    <tr>\n",
              "      <th>8</th>\n",
              "      <td>50</td>\n",
              "      <td>RM</td>\n",
              "      <td>51.0</td>\n",
              "      <td>6120</td>\n",
              "      <td>Pave</td>\n",
              "      <td>NaN</td>\n",
              "      <td>Reg</td>\n",
              "      <td>Lvl</td>\n",
              "      <td>AllPub</td>\n",
              "      <td>Inside</td>\n",
              "      <td>...</td>\n",
              "      <td>0</td>\n",
              "      <td>NaN</td>\n",
              "      <td>NaN</td>\n",
              "      <td>NaN</td>\n",
              "      <td>0</td>\n",
              "      <td>4</td>\n",
              "      <td>2008</td>\n",
              "      <td>WD</td>\n",
              "      <td>Abnorml</td>\n",
              "      <td>129900</td>\n",
              "    </tr>\n",
              "    <tr>\n",
              "      <th>9</th>\n",
              "      <td>190</td>\n",
              "      <td>RL</td>\n",
              "      <td>50.0</td>\n",
              "      <td>7420</td>\n",
              "      <td>Pave</td>\n",
              "      <td>NaN</td>\n",
              "      <td>Reg</td>\n",
              "      <td>Lvl</td>\n",
              "      <td>AllPub</td>\n",
              "      <td>Corner</td>\n",
              "      <td>...</td>\n",
              "      <td>0</td>\n",
              "      <td>NaN</td>\n",
              "      <td>NaN</td>\n",
              "      <td>NaN</td>\n",
              "      <td>0</td>\n",
              "      <td>1</td>\n",
              "      <td>2008</td>\n",
              "      <td>WD</td>\n",
              "      <td>Normal</td>\n",
              "      <td>118000</td>\n",
              "    </tr>\n",
              "  </tbody>\n",
              "</table>\n",
              "<p>10 rows × 80 columns</p>\n",
              "</div>\n",
              "      <button class=\"colab-df-convert\" onclick=\"convertToInteractive('df-5772d52a-ac4b-47ef-a794-308ac35b0125')\"\n",
              "              title=\"Convert this dataframe to an interactive table.\"\n",
              "              style=\"display:none;\">\n",
              "        \n",
              "  <svg xmlns=\"http://www.w3.org/2000/svg\" height=\"24px\"viewBox=\"0 0 24 24\"\n",
              "       width=\"24px\">\n",
              "    <path d=\"M0 0h24v24H0V0z\" fill=\"none\"/>\n",
              "    <path d=\"M18.56 5.44l.94 2.06.94-2.06 2.06-.94-2.06-.94-.94-2.06-.94 2.06-2.06.94zm-11 1L8.5 8.5l.94-2.06 2.06-.94-2.06-.94L8.5 2.5l-.94 2.06-2.06.94zm10 10l.94 2.06.94-2.06 2.06-.94-2.06-.94-.94-2.06-.94 2.06-2.06.94z\"/><path d=\"M17.41 7.96l-1.37-1.37c-.4-.4-.92-.59-1.43-.59-.52 0-1.04.2-1.43.59L10.3 9.45l-7.72 7.72c-.78.78-.78 2.05 0 2.83L4 21.41c.39.39.9.59 1.41.59.51 0 1.02-.2 1.41-.59l7.78-7.78 2.81-2.81c.8-.78.8-2.07 0-2.86zM5.41 20L4 18.59l7.72-7.72 1.47 1.35L5.41 20z\"/>\n",
              "  </svg>\n",
              "      </button>\n",
              "      \n",
              "  <style>\n",
              "    .colab-df-container {\n",
              "      display:flex;\n",
              "      flex-wrap:wrap;\n",
              "      gap: 12px;\n",
              "    }\n",
              "\n",
              "    .colab-df-convert {\n",
              "      background-color: #E8F0FE;\n",
              "      border: none;\n",
              "      border-radius: 50%;\n",
              "      cursor: pointer;\n",
              "      display: none;\n",
              "      fill: #1967D2;\n",
              "      height: 32px;\n",
              "      padding: 0 0 0 0;\n",
              "      width: 32px;\n",
              "    }\n",
              "\n",
              "    .colab-df-convert:hover {\n",
              "      background-color: #E2EBFA;\n",
              "      box-shadow: 0px 1px 2px rgba(60, 64, 67, 0.3), 0px 1px 3px 1px rgba(60, 64, 67, 0.15);\n",
              "      fill: #174EA6;\n",
              "    }\n",
              "\n",
              "    [theme=dark] .colab-df-convert {\n",
              "      background-color: #3B4455;\n",
              "      fill: #D2E3FC;\n",
              "    }\n",
              "\n",
              "    [theme=dark] .colab-df-convert:hover {\n",
              "      background-color: #434B5C;\n",
              "      box-shadow: 0px 1px 3px 1px rgba(0, 0, 0, 0.15);\n",
              "      filter: drop-shadow(0px 1px 2px rgba(0, 0, 0, 0.3));\n",
              "      fill: #FFFFFF;\n",
              "    }\n",
              "  </style>\n",
              "\n",
              "      <script>\n",
              "        const buttonEl =\n",
              "          document.querySelector('#df-5772d52a-ac4b-47ef-a794-308ac35b0125 button.colab-df-convert');\n",
              "        buttonEl.style.display =\n",
              "          google.colab.kernel.accessAllowed ? 'block' : 'none';\n",
              "\n",
              "        async function convertToInteractive(key) {\n",
              "          const element = document.querySelector('#df-5772d52a-ac4b-47ef-a794-308ac35b0125');\n",
              "          const dataTable =\n",
              "            await google.colab.kernel.invokeFunction('convertToInteractive',\n",
              "                                                     [key], {});\n",
              "          if (!dataTable) return;\n",
              "\n",
              "          const docLinkHtml = 'Like what you see? Visit the ' +\n",
              "            '<a target=\"_blank\" href=https://colab.research.google.com/notebooks/data_table.ipynb>data table notebook</a>'\n",
              "            + ' to learn more about interactive tables.';\n",
              "          element.innerHTML = '';\n",
              "          dataTable['output_type'] = 'display_data';\n",
              "          await google.colab.output.renderOutput(dataTable, element);\n",
              "          const docLink = document.createElement('div');\n",
              "          docLink.innerHTML = docLinkHtml;\n",
              "          element.appendChild(docLink);\n",
              "        }\n",
              "      </script>\n",
              "    </div>\n",
              "  </div>\n",
              "  "
            ]
          },
          "metadata": {},
          "execution_count": 586
        }
      ],
      "source": [
        "import io\n",
        "df = pd.read_csv(io.BytesIO(uploaded['train.csv'])).drop(columns=['Id'])\n",
        "df.head(10)"
      ]
    },
    {
      "cell_type": "code",
      "execution_count": null,
      "metadata": {
        "colab": {
          "base_uri": "https://localhost:8080/"
        },
        "id": "kkJSMJ3zTJS9",
        "outputId": "1cb95779-5bb6-4e4b-d8f6-990ddc3a71db"
      },
      "outputs": [
        {
          "output_type": "execute_result",
          "data": {
            "text/plain": [
              "(1460, 80)"
            ]
          },
          "metadata": {},
          "execution_count": 587
        }
      ],
      "source": [
        "df.shape"
      ]
    },
    {
      "cell_type": "markdown",
      "metadata": {
        "id": "hIL2Ew4uy8UK"
      },
      "source": [
        "Import test data"
      ]
    },
    {
      "cell_type": "code",
      "execution_count": null,
      "metadata": {
        "colab": {
          "base_uri": "https://localhost:8080/",
          "height": 74,
          "resources": {
            "http://localhost:8080/nbextensions/google.colab/files.js": {
              "data": "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",
              "headers": [
                [
                  "content-type",
                  "application/javascript"
                ]
              ],
              "ok": true,
              "status": 200,
              "status_text": ""
            }
          }
        },
        "id": "rtSP-2Ftyp12",
        "outputId": "83b4211e-782a-4ef8-aeaf-06e886f2538c"
      },
      "outputs": [
        {
          "output_type": "display_data",
          "data": {
            "text/plain": [
              "<IPython.core.display.HTML object>"
            ],
            "text/html": [
              "\n",
              "     <input type=\"file\" id=\"files-39434ca7-c4a8-458a-aa87-aebc34c0e61c\" name=\"files[]\" multiple disabled\n",
              "        style=\"border:none\" />\n",
              "     <output id=\"result-39434ca7-c4a8-458a-aa87-aebc34c0e61c\">\n",
              "      Upload widget is only available when the cell has been executed in the\n",
              "      current browser session. Please rerun this cell to enable.\n",
              "      </output>\n",
              "      <script src=\"/nbextensions/google.colab/files.js\"></script> "
            ]
          },
          "metadata": {}
        },
        {
          "output_type": "stream",
          "name": "stdout",
          "text": [
            "Saving test.csv to test (9).csv\n"
          ]
        }
      ],
      "source": [
        "from google.colab import files\n",
        "uploaded = files.upload()"
      ]
    },
    {
      "cell_type": "code",
      "execution_count": null,
      "metadata": {
        "colab": {
          "base_uri": "https://localhost:8080/"
        },
        "id": "dgh3q3NEyzLF",
        "outputId": "d558e261-d281-468b-9ebe-e09efe7d3db1"
      },
      "outputs": [
        {
          "output_type": "execute_result",
          "data": {
            "text/plain": [
              "(1459, 80)"
            ]
          },
          "metadata": {},
          "execution_count": 589
        }
      ],
      "source": [
        "df_t = pd.read_csv(io.BytesIO(uploaded['test.csv']))\n",
        "df_t.head(10)\n",
        "df_t.shape"
      ]
    },
    {
      "cell_type": "markdown",
      "metadata": {
        "id": "a8n2IiiVqc87"
      },
      "source": [
        "####Question 2. Give 3 examples of continuous and categorical features in the dataset; choose one feature of each type and plot the histogram to illustrate the distribution.\n",
        "\n"
      ]
    },
    {
      "cell_type": "markdown",
      "metadata": {
        "id": "naCnSWgwqqkh"
      },
      "source": [
        "Continous features:\n",
        "1. LotFrontage: Linear feet of street connected to the property\n",
        "2. LotArea: Lot size in square feet\n",
        "3. BsmtFinSF2: Type 2 finished square feet"
      ]
    },
    {
      "cell_type": "markdown",
      "metadata": {
        "id": "28KamWDGrArd"
      },
      "source": [
        "Categorical features:\n",
        "1. MSSubClass: Type of dwelling involved in the sale\n",
        "2. MSZoning: General zoning classification of the sale\n",
        "3. Street: Type of road access to property"
      ]
    },
    {
      "cell_type": "code",
      "execution_count": null,
      "metadata": {
        "colab": {
          "base_uri": "https://localhost:8080/",
          "height": 312
        },
        "id": "3wXXJRkeqmtE",
        "outputId": "eabe166e-6b71-4831-e963-dbd920552e25"
      },
      "outputs": [
        {
          "output_type": "execute_result",
          "data": {
            "text/plain": [
              "[Text(0.5, 1.0, 'Histogram of LotFrontage')]"
            ]
          },
          "metadata": {},
          "execution_count": 590
        },
        {
          "output_type": "display_data",
          "data": {
            "text/plain": [
              "<Figure size 432x288 with 1 Axes>"
            ],
            "image/png": "[encoded data removed]"
          },
          "metadata": {
            "needs_background": "light"
          }
        }
      ],
      "source": [
        "import seaborn as sns\n",
        "import matplotlib.pyplot as plt\n",
        "#Plot histogram for continous features (LotFrontage)\n",
        "sns.histplot(data=df, x='LotFrontage',kde=True).set(title=\n",
        "                                                    'Histogram of LotFrontage')"
      ]
    },
    {
      "cell_type": "code",
      "execution_count": null,
      "metadata": {
        "colab": {
          "base_uri": "https://localhost:8080/",
          "height": 402
        },
        "id": "Vunn8P14sC01",
        "outputId": "c76b8c3b-6980-46c3-a454-cfb375bfdd27"
      },
      "outputs": [
        {
          "output_type": "execute_result",
          "data": {
            "text/plain": [
              "<seaborn.axisgrid.FacetGrid at 0x7f4f99621710>"
            ]
          },
          "metadata": {},
          "execution_count": 591
        },
        {
          "output_type": "display_data",
          "data": {
            "text/plain": [
              "<Figure size 360x360 with 1 Axes>"
            ],
            "image/png": "[encoded data removed]"
          },
          "metadata": {
            "needs_background": "light"
          }
        }
      ],
      "source": [
        "#Plot histogram for categorical features (MSSubClass)\n",
        "sns.catplot(x='MSSubClass', kind=\"count\",data=df).set(title=\n",
        "                                                      'Histogram of MSSubClass')"
      ]
    },
    {
      "cell_type": "markdown",
      "metadata": {
        "id": "WmvltWsvyt_y"
      },
      "source": [
        "\n",
        "\n",
        "---\n",
        "\n",
        "\n",
        "## In order to predict house prices using given data, we will follow the steps below:\n",
        "\n",
        "- Pre-processing\n",
        "1. Impute missing data for all training dataset\n",
        "2. Add some calculated features\n",
        "3. Normalize continous variable and OHE for categorical feature\n",
        "4. Split training data into Train Data and Holdout data (70:30)\n",
        "\n",
        "- Model Training & Selection\n",
        "5. Check significance of variable for Train Data and remove variable with high correlation\n",
        "6. Select features and create OLS model using Train Data\n",
        "7. Evaluate model to Holdout data and measure the R2\n",
        "8. If the model is not perfroming well, repeat step 6-7; Until the model is performing well, re-train the model now using all training dataset\n",
        "\n",
        "- Prediction\n",
        "9. Predict the housing price using test data\n",
        "\n",
        "\n",
        "\n",
        "---\n",
        "\n"
      ]
    },
    {
      "cell_type": "markdown",
      "metadata": {
        "id": "9FeWp1pqw_7o"
      },
      "source": [
        "####Question 3. Pre-process your data, explain your pre-processing steps, and the reasons why you need them. (Hint: data pre-processing steps can include but are not restricted to: dealing with missing values,normalizing numerical values, dealing with categorical values etc.)\n"
      ]
    },
    {
      "cell_type": "markdown",
      "metadata": {
        "id": "ZDnRnlsOuHTI"
      },
      "source": [
        "#####1. Impute missing data for all training dataset"
      ]
    },
    {
      "cell_type": "code",
      "execution_count": null,
      "metadata": {
        "colab": {
          "base_uri": "https://localhost:8080/"
        },
        "id": "WBLR2JaaxGdt",
        "outputId": "1628ed58-e3a9-4932-acf0-3923ba98e07e"
      },
      "outputs": [
        {
          "output_type": "execute_result",
          "data": {
            "text/plain": [
              "PoolQC          1453\n",
              "MiscFeature     1406\n",
              "Alley           1369\n",
              "Fence           1179\n",
              "FireplaceQu      690\n",
              "LotFrontage      259\n",
              "GarageYrBlt       81\n",
              "GarageCond        81\n",
              "GarageType        81\n",
              "GarageFinish      81\n",
              "GarageQual        81\n",
              "BsmtExposure      38\n",
              "BsmtFinType2      38\n",
              "BsmtCond          37\n",
              "BsmtQual          37\n",
              "BsmtFinType1      37\n",
              "MasVnrArea         8\n",
              "MasVnrType         8\n",
              "Electrical         1\n",
              "MSSubClass         0\n",
              "dtype: int64"
            ]
          },
          "metadata": {},
          "execution_count": 592
        }
      ],
      "source": [
        "#Impute column means or fill default values to missing or null values\n",
        "df.isnull().sum().sort_values(ascending=False).head(20)"
      ]
    },
    {
      "cell_type": "markdown",
      "metadata": {
        "id": "5WvTlvYS0Exh"
      },
      "source": [
        "As we can see from above, these are variables that contain null values. In order to overcome that, Imputation is needed to avoid distortion in the variable distribution. We also dropped some data that has majority null values as it shows low variance."
      ]
    },
    {
      "cell_type": "code",
      "execution_count": null,
      "metadata": {
        "id": "VumRWcTCyH3Q"
      },
      "outputs": [],
      "source": [
        " #Drop data when majority of data is null (low variance)\n",
        "df=df.drop(columns=['Alley','PoolQC', 'MiscFeature'])\n",
        "\n",
        "#Impute missing continuous values\n",
        "df['LotFrontage'].fillna(df['LotFrontage'].median(), inplace=True) \n",
        "\n",
        "df['MasVnrArea'].fillna(0, inplace=True) \n",
        "#For this feature, na means no/0 Masonry veneer\n",
        "df['GarageYrBlt'].fillna(df['GarageYrBlt'].median(), inplace=True)\n",
        "\n",
        "\n",
        "#Replace missing categorical values as 'none' \n",
        "#(meaning the houses do not have such features like garage, fence)\n",
        "df['Fence'].fillna('NoFence', inplace=True)\n",
        "df['FireplaceQu'].fillna('None', inplace=True)\n",
        "df['GarageType'].fillna('None', inplace=True)\n",
        "df['GarageFinish'].fillna('None', inplace=True)\n",
        "df['GarageQual'].fillna('None', inplace=True)\n",
        "df['GarageCond'].fillna('None', inplace=True)\n",
        "df['BsmtExposure'].fillna('None', inplace=True)\n",
        "df['BsmtFinType2'].fillna('None', inplace=True)\n",
        "df['BsmtQual'].fillna('None', inplace=True)\n",
        "df['BsmtCond'].fillna('None', inplace=True)\n",
        "df['BsmtFinType1'].fillna('None', inplace=True)\n",
        "df['MasVnrType'].fillna('None', inplace=True)\n",
        "df['Electrical'].fillna(df['Electrical'].mode()[0], inplace=True)"
      ]
    },
    {
      "cell_type": "code",
      "execution_count": null,
      "metadata": {
        "colab": {
          "base_uri": "https://localhost:8080/"
        },
        "id": "k8plVnn_0tLn",
        "outputId": "56b2489f-4c75-4e59-f94a-265000530325"
      },
      "outputs": [
        {
          "output_type": "execute_result",
          "data": {
            "text/plain": [
              "MSSubClass      0\n",
              "BedroomAbvGr    0\n",
              "GarageType      0\n",
              "FireplaceQu     0\n",
              "Fireplaces      0\n",
              "Functional      0\n",
              "TotRmsAbvGrd    0\n",
              "KitchenQual     0\n",
              "KitchenAbvGr    0\n",
              "HalfBath        0\n",
              "CentralAir      0\n",
              "FullBath        0\n",
              "BsmtHalfBath    0\n",
              "BsmtFullBath    0\n",
              "GrLivArea       0\n",
              "LowQualFinSF    0\n",
              "2ndFlrSF        0\n",
              "1stFlrSF        0\n",
              "GarageYrBlt     0\n",
              "GarageFinish    0\n",
              "dtype: int64"
            ]
          },
          "metadata": {},
          "execution_count": 594
        }
      ],
      "source": [
        "#Confirm there's no null value left\n",
        "df.isnull().sum().sort_values(ascending=False).head(20)"
      ]
    },
    {
      "cell_type": "markdown",
      "metadata": {
        "id": "Et4l1c6az-jN"
      },
      "source": [
        "####2. Add some calculated features"
      ]
    },
    {
      "cell_type": "code",
      "execution_count": null,
      "metadata": {
        "id": "u8BQwNPBfzwQ"
      },
      "outputs": [],
      "source": [
        "# Add some calculated features that could be helpful & drop the original features\n",
        "\n",
        "#the age of the house might impact the saleprice\n",
        "df['building_age']=df['YrSold']-df['YearRemodAdd']\n",
        "\n",
        "#the number of conditions exist in the house might impact saleprice\n",
        "df['condition_ct']=2-(df['Condition1']=='Norm').astype(int)-(df[\n",
        "    'Condition2']=='Norm').astype(int)\n",
        "\n",
        "#Group style of houses by # of floors\n",
        "df['Floor']=df['HouseStyle'].map({\n",
        "       '1Story':1,\n",
        "       '1.5Fin':1.5,\n",
        "       '1.5Unf':1.5,\n",
        "       '2Story':2,\n",
        "       '2.5Fin':2.5,\n",
        "       '2.5Unf':2.5,\n",
        "       'SFoyer':2,\n",
        "       'SLvl':2\n",
        "})\n",
        "\n",
        "# turn some of the quality/condition evaluations into numerics\n",
        "df['ExterCond2']=df['ExterCond'].map({\n",
        "       'Ex':5,\n",
        "       'Gd':4,\n",
        "       'TA':3,\n",
        "       'Fa':2,\n",
        "       'Po':1\n",
        "})\n",
        "df['ExterCond2']=df['ExterQual'].map({\n",
        "       'Ex':5,\n",
        "       'Gd':4,\n",
        "       'TA':3,\n",
        "       'Fa':2,\n",
        "       'Po':1\n",
        "})\n",
        "df['BsmtQual2']=df['BsmtQual'].map({\n",
        "       'Ex':5,\n",
        "       'Gd':4,\n",
        "       'TA':3,\n",
        "       'Fa':2,\n",
        "       'Po':1,\n",
        "       'None':0\n",
        "})\n",
        "df['BsmtCond2']=df['BsmtCond'].map({\n",
        "       'Ex':5,\n",
        "       'Gd':4,\n",
        "       'TA':3,\n",
        "       'Fa':2,\n",
        "       'Po':1,\n",
        "       'None':0\n",
        "})\n",
        "df['HeatingQC2']=df['HeatingQC'].map({\n",
        "       'Ex':5,\n",
        "       'Gd':4,\n",
        "       'TA':3,\n",
        "       'Fa':2,\n",
        "       'Po':1\n",
        "})\n",
        "df['KitchenQual2']=df['KitchenQual'].map({\n",
        "       'Ex':5,\n",
        "       'Gd':4,\n",
        "       'TA':3,\n",
        "       'Fa':2,\n",
        "       'Po':1\n",
        "})\n",
        "df['GarageCond2']=df['GarageCond'].map({\n",
        "       'Ex':5,\n",
        "       'Gd':4,\n",
        "       'TA':3,\n",
        "       'Fa':2,\n",
        "       'Po':1,\n",
        "       'None':0\n",
        "})\n",
        "df['FireplaceQu2']=df['FireplaceQu'].map({\n",
        "       'Ex':5,\n",
        "       'Gd':4,\n",
        "       'TA':3,\n",
        "       'Fa':2,\n",
        "       'Po':1,\n",
        "       'None':0\n",
        "})\n",
        "df['GarageQual2']=df['GarageQual'].map({\n",
        "       'Ex':5,\n",
        "       'Gd':4,\n",
        "       'TA':3,\n",
        "       'Fa':2,\n",
        "       'Po':1,\n",
        "       'None':0\n",
        "})\n",
        "df['GarageCond2']=df['GarageCond'].map({\n",
        "       'Ex':5,\n",
        "       'Gd':4,\n",
        "       'TA':3,\n",
        "       'Fa':2,\n",
        "       'Po':1,\n",
        "       'None':0\n",
        "})\n",
        "\n",
        "\n",
        "to_drop = ['Condition1','Condition2','HouseStyle','ExterCond','ExterQual',\n",
        "           'BsmtQual','BsmtCond','HeatingQC','KitchenQual','GarageCond',\n",
        "           'FireplaceQu','GarageQual','GarageCond','YearRemodAdd','YearBuilt']\n",
        "\n",
        "df.drop(to_drop, inplace=True, axis=1)"
      ]
    },
    {
      "cell_type": "code",
      "execution_count": null,
      "metadata": {
        "colab": {
          "base_uri": "https://localhost:8080/"
        },
        "id": "yO0FKuG8xZ2w",
        "outputId": "81a73a20-4657-40a8-e041-fd6ce83eacc5"
      },
      "outputs": [
        {
          "output_type": "execute_result",
          "data": {
            "text/plain": [
              "array([3, 2, 0, 4, 1, 5])"
            ]
          },
          "metadata": {},
          "execution_count": 596
        }
      ],
      "source": [
        "#Check mapping result\n",
        "df['GarageCond2'].unique()"
      ]
    },
    {
      "cell_type": "markdown",
      "metadata": {
        "id": "cs_4B0IduPiz"
      },
      "source": [
        "#####3. Normalize continous variable and OHE for categorical feature\n",
        "a. Normalize continous variable:\n",
        "Normalizing data is important if variable is measured with different scales without distorting differences in the range of values\n"
      ]
    },
    {
      "cell_type": "code",
      "execution_count": null,
      "metadata": {
        "id": "H6tVBVlpejPs"
      },
      "outputs": [],
      "source": [
        "#List all Continuous Variables\n",
        "continous_var= ['LotFrontage','LotArea','MasVnrArea','BsmtFinSF1','BsmtFinSF2',\n",
        "            'BsmtUnfSF', 'TotalBsmtSF','1stFlrSF', '2ndFlrSF','GrLivArea',\n",
        "            'GarageArea','WoodDeckSF','OpenPorchSF','EnclosedPorch','3SsnPorch',\n",
        "           'ScreenPorch','MiscVal','YrSold','building_age']"
      ]
    },
    {
      "cell_type": "code",
      "execution_count": null,
      "metadata": {
        "colab": {
          "base_uri": "https://localhost:8080/",
          "height": 488
        },
        "id": "fBd-qDUeLRjj",
        "outputId": "3a3d58ce-a116-433f-85fc-4b39f66dcadf"
      },
      "outputs": [
        {
          "output_type": "execute_result",
          "data": {
            "text/plain": [
              "      MSSubClass MSZoning  LotFrontage   LotArea Street LotShape LandContour  \\\n",
              "0             60       RL    -0.220875 -0.207142   Pave      Reg         Lvl   \n",
              "1             20       RL     0.460320 -0.091886   Pave      Reg         Lvl   \n",
              "2             60       RL    -0.084636  0.073480   Pave      IR1         Lvl   \n",
              "3             70       RL    -0.447940 -0.096897   Pave      IR1         Lvl   \n",
              "4             60       RL     0.641972  0.375148   Pave      IR1         Lvl   \n",
              "...          ...      ...          ...       ...    ...      ...         ...   \n",
              "1455          60       RL    -0.357114 -0.260560   Pave      Reg         Lvl   \n",
              "1456          20       RL     0.687385  0.266407   Pave      Reg         Lvl   \n",
              "1457          70       RL    -0.175462 -0.147810   Pave      Reg         Lvl   \n",
              "1458          20       RL    -0.084636 -0.080160   Pave      Reg         Lvl   \n",
              "1459          20       RL     0.233255 -0.058112   Pave      Reg         Lvl   \n",
              "\n",
              "     Utilities LotConfig LandSlope  ... condition_ct Floor  ExterCond2  \\\n",
              "0       AllPub    Inside       Gtl  ...            0   2.0           4   \n",
              "1       AllPub       FR2       Gtl  ...            1   1.0           3   \n",
              "2       AllPub    Inside       Gtl  ...            0   2.0           4   \n",
              "3       AllPub    Corner       Gtl  ...            0   2.0           3   \n",
              "4       AllPub       FR2       Gtl  ...            0   2.0           4   \n",
              "...        ...       ...       ...  ...          ...   ...         ...   \n",
              "1455    AllPub    Inside       Gtl  ...            0   2.0           3   \n",
              "1456    AllPub    Inside       Gtl  ...            0   1.0           3   \n",
              "1457    AllPub    Inside       Gtl  ...            0   2.0           5   \n",
              "1458    AllPub    Inside       Gtl  ...            0   1.0           3   \n",
              "1459    AllPub    Inside       Gtl  ...            0   1.0           4   \n",
              "\n",
              "      BsmtQual2 BsmtCond2 HeatingQC2 KitchenQual2 GarageCond2 FireplaceQu2  \\\n",
              "0             4         3          5            4           3            0   \n",
              "1             4         3          5            3           3            3   \n",
              "2             4         3          5            4           3            3   \n",
              "3             3         4          4            4           3            4   \n",
              "4             4         3          5            4           3            3   \n",
              "...         ...       ...        ...          ...         ...          ...   \n",
              "1455          4         3          5            3           3            3   \n",
              "1456          4         3          3            3           3            3   \n",
              "1457          3         4          5            4           3            4   \n",
              "1458          3         3          4            4           3            0   \n",
              "1459          3         3          4            3           3            0   \n",
              "\n",
              "      GarageQual2  \n",
              "0               3  \n",
              "1               3  \n",
              "2               3  \n",
              "3               3  \n",
              "4               3  \n",
              "...           ...  \n",
              "1455            3  \n",
              "1456            3  \n",
              "1457            3  \n",
              "1458            3  \n",
              "1459            3  \n",
              "\n",
              "[1460 rows x 74 columns]"
            ],
            "text/html": [
              "\n",
              "  <div id=\"df-da46f11a-887b-4729-9023-f14ff77845eb\">\n",
              "    <div class=\"colab-df-container\">\n",
              "      <div>\n",
              "<style scoped>\n",
              "    .dataframe tbody tr th:only-of-type {\n",
              "        vertical-align: middle;\n",
              "    }\n",
              "\n",
              "    .dataframe tbody tr th {\n",
              "        vertical-align: top;\n",
              "    }\n",
              "\n",
              "    .dataframe thead th {\n",
              "        text-align: right;\n",
              "    }\n",
              "</style>\n",
              "<table border=\"1\" class=\"dataframe\">\n",
              "  <thead>\n",
              "    <tr style=\"text-align: right;\">\n",
              "      <th></th>\n",
              "      <th>MSSubClass</th>\n",
              "      <th>MSZoning</th>\n",
              "      <th>LotFrontage</th>\n",
              "      <th>LotArea</th>\n",
              "      <th>Street</th>\n",
              "      <th>LotShape</th>\n",
              "      <th>LandContour</th>\n",
              "      <th>Utilities</th>\n",
              "      <th>LotConfig</th>\n",
              "      <th>LandSlope</th>\n",
              "      <th>...</th>\n",
              "      <th>condition_ct</th>\n",
              "      <th>Floor</th>\n",
              "      <th>ExterCond2</th>\n",
              "      <th>BsmtQual2</th>\n",
              "      <th>BsmtCond2</th>\n",
              "      <th>HeatingQC2</th>\n",
              "      <th>KitchenQual2</th>\n",
              "      <th>GarageCond2</th>\n",
              "      <th>FireplaceQu2</th>\n",
              "      <th>GarageQual2</th>\n",
              "    </tr>\n",
              "  </thead>\n",
              "  <tbody>\n",
              "    <tr>\n",
              "      <th>0</th>\n",
              "      <td>60</td>\n",
              "      <td>RL</td>\n",
              "      <td>-0.220875</td>\n",
              "      <td>-0.207142</td>\n",
              "      <td>Pave</td>\n",
              "      <td>Reg</td>\n",
              "      <td>Lvl</td>\n",
              "      <td>AllPub</td>\n",
              "      <td>Inside</td>\n",
              "      <td>Gtl</td>\n",
              "      <td>...</td>\n",
              "      <td>0</td>\n",
              "      <td>2.0</td>\n",
              "      <td>4</td>\n",
              "      <td>4</td>\n",
              "      <td>3</td>\n",
              "      <td>5</td>\n",
              "      <td>4</td>\n",
              "      <td>3</td>\n",
              "      <td>0</td>\n",
              "      <td>3</td>\n",
              "    </tr>\n",
              "    <tr>\n",
              "      <th>1</th>\n",
              "      <td>20</td>\n",
              "      <td>RL</td>\n",
              "      <td>0.460320</td>\n",
              "      <td>-0.091886</td>\n",
              "      <td>Pave</td>\n",
              "      <td>Reg</td>\n",
              "      <td>Lvl</td>\n",
              "      <td>AllPub</td>\n",
              "      <td>FR2</td>\n",
              "      <td>Gtl</td>\n",
              "      <td>...</td>\n",
              "      <td>1</td>\n",
              "      <td>1.0</td>\n",
              "      <td>3</td>\n",
              "      <td>4</td>\n",
              "      <td>3</td>\n",
              "      <td>5</td>\n",
              "      <td>3</td>\n",
              "      <td>3</td>\n",
              "      <td>3</td>\n",
              "      <td>3</td>\n",
              "    </tr>\n",
              "    <tr>\n",
              "      <th>2</th>\n",
              "      <td>60</td>\n",
              "      <td>RL</td>\n",
              "      <td>-0.084636</td>\n",
              "      <td>0.073480</td>\n",
              "      <td>Pave</td>\n",
              "      <td>IR1</td>\n",
              "      <td>Lvl</td>\n",
              "      <td>AllPub</td>\n",
              "      <td>Inside</td>\n",
              "      <td>Gtl</td>\n",
              "      <td>...</td>\n",
              "      <td>0</td>\n",
              "      <td>2.0</td>\n",
              "      <td>4</td>\n",
              "      <td>4</td>\n",
              "      <td>3</td>\n",
              "      <td>5</td>\n",
              "      <td>4</td>\n",
              "      <td>3</td>\n",
              "      <td>3</td>\n",
              "      <td>3</td>\n",
              "    </tr>\n",
              "    <tr>\n",
              "      <th>3</th>\n",
              "      <td>70</td>\n",
              "      <td>RL</td>\n",
              "      <td>-0.447940</td>\n",
              "      <td>-0.096897</td>\n",
              "      <td>Pave</td>\n",
              "      <td>IR1</td>\n",
              "      <td>Lvl</td>\n",
              "      <td>AllPub</td>\n",
              "      <td>Corner</td>\n",
              "      <td>Gtl</td>\n",
              "      <td>...</td>\n",
              "      <td>0</td>\n",
              "      <td>2.0</td>\n",
              "      <td>3</td>\n",
              "      <td>3</td>\n",
              "      <td>4</td>\n",
              "      <td>4</td>\n",
              "      <td>4</td>\n",
              "      <td>3</td>\n",
              "      <td>4</td>\n",
              "      <td>3</td>\n",
              "    </tr>\n",
              "    <tr>\n",
              "      <th>4</th>\n",
              "      <td>60</td>\n",
              "      <td>RL</td>\n",
              "      <td>0.641972</td>\n",
              "      <td>0.375148</td>\n",
              "      <td>Pave</td>\n",
              "      <td>IR1</td>\n",
              "      <td>Lvl</td>\n",
              "      <td>AllPub</td>\n",
              "      <td>FR2</td>\n",
              "      <td>Gtl</td>\n",
              "      <td>...</td>\n",
              "      <td>0</td>\n",
              "      <td>2.0</td>\n",
              "      <td>4</td>\n",
              "      <td>4</td>\n",
              "      <td>3</td>\n",
              "      <td>5</td>\n",
              "      <td>4</td>\n",
              "      <td>3</td>\n",
              "      <td>3</td>\n",
              "      <td>3</td>\n",
              "    </tr>\n",
              "    <tr>\n",
              "      <th>...</th>\n",
              "      <td>...</td>\n",
              "      <td>...</td>\n",
              "      <td>...</td>\n",
              "      <td>...</td>\n",
              "      <td>...</td>\n",
              "      <td>...</td>\n",
              "      <td>...</td>\n",
              "      <td>...</td>\n",
              "      <td>...</td>\n",
              "      <td>...</td>\n",
              "      <td>...</td>\n",
              "      <td>...</td>\n",
              "      <td>...</td>\n",
              "      <td>...</td>\n",
              "      <td>...</td>\n",
              "      <td>...</td>\n",
              "      <td>...</td>\n",
              "      <td>...</td>\n",
              "      <td>...</td>\n",
              "      <td>...</td>\n",
              "      <td>...</td>\n",
              "    </tr>\n",
              "    <tr>\n",
              "      <th>1455</th>\n",
              "      <td>60</td>\n",
              "      <td>RL</td>\n",
              "      <td>-0.357114</td>\n",
              "      <td>-0.260560</td>\n",
              "      <td>Pave</td>\n",
              "      <td>Reg</td>\n",
              "      <td>Lvl</td>\n",
              "      <td>AllPub</td>\n",
              "      <td>Inside</td>\n",
              "      <td>Gtl</td>\n",
              "      <td>...</td>\n",
              "      <td>0</td>\n",
              "      <td>2.0</td>\n",
              "      <td>3</td>\n",
              "      <td>4</td>\n",
              "      <td>3</td>\n",
              "      <td>5</td>\n",
              "      <td>3</td>\n",
              "      <td>3</td>\n",
              "      <td>3</td>\n",
              "      <td>3</td>\n",
              "    </tr>\n",
              "    <tr>\n",
              "      <th>1456</th>\n",
              "      <td>20</td>\n",
              "      <td>RL</td>\n",
              "      <td>0.687385</td>\n",
              "      <td>0.266407</td>\n",
              "      <td>Pave</td>\n",
              "      <td>Reg</td>\n",
              "      <td>Lvl</td>\n",
              "      <td>AllPub</td>\n",
              "      <td>Inside</td>\n",
              "      <td>Gtl</td>\n",
              "      <td>...</td>\n",
              "      <td>0</td>\n",
              "      <td>1.0</td>\n",
              "      <td>3</td>\n",
              "      <td>4</td>\n",
              "      <td>3</td>\n",
              "      <td>3</td>\n",
              "      <td>3</td>\n",
              "      <td>3</td>\n",
              "      <td>3</td>\n",
              "      <td>3</td>\n",
              "    </tr>\n",
              "    <tr>\n",
              "      <th>1457</th>\n",
              "      <td>70</td>\n",
              "      <td>RL</td>\n",
              "      <td>-0.175462</td>\n",
              "      <td>-0.147810</td>\n",
              "      <td>Pave</td>\n",
              "      <td>Reg</td>\n",
              "      <td>Lvl</td>\n",
              "      <td>AllPub</td>\n",
              "      <td>Inside</td>\n",
              "      <td>Gtl</td>\n",
              "      <td>...</td>\n",
              "      <td>0</td>\n",
              "      <td>2.0</td>\n",
              "      <td>5</td>\n",
              "      <td>3</td>\n",
              "      <td>4</td>\n",
              "      <td>5</td>\n",
              "      <td>4</td>\n",
              "      <td>3</td>\n",
              "      <td>4</td>\n",
              "      <td>3</td>\n",
              "    </tr>\n",
              "    <tr>\n",
              "      <th>1458</th>\n",
              "      <td>20</td>\n",
              "      <td>RL</td>\n",
              "      <td>-0.084636</td>\n",
              "      <td>-0.080160</td>\n",
              "      <td>Pave</td>\n",
              "      <td>Reg</td>\n",
              "      <td>Lvl</td>\n",
              "      <td>AllPub</td>\n",
              "      <td>Inside</td>\n",
              "      <td>Gtl</td>\n",
              "      <td>...</td>\n",
              "      <td>0</td>\n",
              "      <td>1.0</td>\n",
              "      <td>3</td>\n",
              "      <td>3</td>\n",
              "      <td>3</td>\n",
              "      <td>4</td>\n",
              "      <td>4</td>\n",
              "      <td>3</td>\n",
              "      <td>0</td>\n",
              "      <td>3</td>\n",
              "    </tr>\n",
              "    <tr>\n",
              "      <th>1459</th>\n",
              "      <td>20</td>\n",
              "      <td>RL</td>\n",
              "      <td>0.233255</td>\n",
              "      <td>-0.058112</td>\n",
              "      <td>Pave</td>\n",
              "      <td>Reg</td>\n",
              "      <td>Lvl</td>\n",
              "      <td>AllPub</td>\n",
              "      <td>Inside</td>\n",
              "      <td>Gtl</td>\n",
              "      <td>...</td>\n",
              "      <td>0</td>\n",
              "      <td>1.0</td>\n",
              "      <td>4</td>\n",
              "      <td>3</td>\n",
              "      <td>3</td>\n",
              "      <td>4</td>\n",
              "      <td>3</td>\n",
              "      <td>3</td>\n",
              "      <td>0</td>\n",
              "      <td>3</td>\n",
              "    </tr>\n",
              "  </tbody>\n",
              "</table>\n",
              "<p>1460 rows × 74 columns</p>\n",
              "</div>\n",
              "      <button class=\"colab-df-convert\" onclick=\"convertToInteractive('df-da46f11a-887b-4729-9023-f14ff77845eb')\"\n",
              "              title=\"Convert this dataframe to an interactive table.\"\n",
              "              style=\"display:none;\">\n",
              "        \n",
              "  <svg xmlns=\"http://www.w3.org/2000/svg\" height=\"24px\"viewBox=\"0 0 24 24\"\n",
              "       width=\"24px\">\n",
              "    <path d=\"M0 0h24v24H0V0z\" fill=\"none\"/>\n",
              "    <path d=\"M18.56 5.44l.94 2.06.94-2.06 2.06-.94-2.06-.94-.94-2.06-.94 2.06-2.06.94zm-11 1L8.5 8.5l.94-2.06 2.06-.94-2.06-.94L8.5 2.5l-.94 2.06-2.06.94zm10 10l.94 2.06.94-2.06 2.06-.94-2.06-.94-.94-2.06-.94 2.06-2.06.94z\"/><path d=\"M17.41 7.96l-1.37-1.37c-.4-.4-.92-.59-1.43-.59-.52 0-1.04.2-1.43.59L10.3 9.45l-7.72 7.72c-.78.78-.78 2.05 0 2.83L4 21.41c.39.39.9.59 1.41.59.51 0 1.02-.2 1.41-.59l7.78-7.78 2.81-2.81c.8-.78.8-2.07 0-2.86zM5.41 20L4 18.59l7.72-7.72 1.47 1.35L5.41 20z\"/>\n",
              "  </svg>\n",
              "      </button>\n",
              "      \n",
              "  <style>\n",
              "    .colab-df-container {\n",
              "      display:flex;\n",
              "      flex-wrap:wrap;\n",
              "      gap: 12px;\n",
              "    }\n",
              "\n",
              "    .colab-df-convert {\n",
              "      background-color: #E8F0FE;\n",
              "      border: none;\n",
              "      border-radius: 50%;\n",
              "      cursor: pointer;\n",
              "      display: none;\n",
              "      fill: #1967D2;\n",
              "      height: 32px;\n",
              "      padding: 0 0 0 0;\n",
              "      width: 32px;\n",
              "    }\n",
              "\n",
              "    .colab-df-convert:hover {\n",
              "      background-color: #E2EBFA;\n",
              "      box-shadow: 0px 1px 2px rgba(60, 64, 67, 0.3), 0px 1px 3px 1px rgba(60, 64, 67, 0.15);\n",
              "      fill: #174EA6;\n",
              "    }\n",
              "\n",
              "    [theme=dark] .colab-df-convert {\n",
              "      background-color: #3B4455;\n",
              "      fill: #D2E3FC;\n",
              "    }\n",
              "\n",
              "    [theme=dark] .colab-df-convert:hover {\n",
              "      background-color: #434B5C;\n",
              "      box-shadow: 0px 1px 3px 1px rgba(0, 0, 0, 0.15);\n",
              "      filter: drop-shadow(0px 1px 2px rgba(0, 0, 0, 0.3));\n",
              "      fill: #FFFFFF;\n",
              "    }\n",
              "  </style>\n",
              "\n",
              "      <script>\n",
              "        const buttonEl =\n",
              "          document.querySelector('#df-da46f11a-887b-4729-9023-f14ff77845eb button.colab-df-convert');\n",
              "        buttonEl.style.display =\n",
              "          google.colab.kernel.accessAllowed ? 'block' : 'none';\n",
              "\n",
              "        async function convertToInteractive(key) {\n",
              "          const element = document.querySelector('#df-da46f11a-887b-4729-9023-f14ff77845eb');\n",
              "          const dataTable =\n",
              "            await google.colab.kernel.invokeFunction('convertToInteractive',\n",
              "                                                     [key], {});\n",
              "          if (!dataTable) return;\n",
              "\n",
              "          const docLinkHtml = 'Like what you see? Visit the ' +\n",
              "            '<a target=\"_blank\" href=https://colab.research.google.com/notebooks/data_table.ipynb>data table notebook</a>'\n",
              "            + ' to learn more about interactive tables.';\n",
              "          element.innerHTML = '';\n",
              "          dataTable['output_type'] = 'display_data';\n",
              "          await google.colab.output.renderOutput(dataTable, element);\n",
              "          const docLink = document.createElement('div');\n",
              "          docLink.innerHTML = docLinkHtml;\n",
              "          element.appendChild(docLink);\n",
              "        }\n",
              "      </script>\n",
              "    </div>\n",
              "  </div>\n",
              "  "
            ]
          },
          "metadata": {},
          "execution_count": 598
        }
      ],
      "source": [
        "from sklearn.preprocessing import StandardScaler\n",
        "\n",
        "#Apply standard normalization\n",
        "scaler = StandardScaler().fit(df[continous_var])\n",
        "df[continous_var] = pd.DataFrame(scaler.transform(df[continous_var]))\n",
        "df"
      ]
    },
    {
      "cell_type": "code",
      "execution_count": null,
      "metadata": {
        "id": "KwoBFo6uUw1j"
      },
      "outputs": [],
      "source": [
        "#Repeat above transformations to testing data\n",
        "\n",
        "#Drop data when majority of data is null (low variance)\n",
        "df_t=df_t.drop(columns=['Alley','PoolQC', 'MiscFeature'])\n",
        "\n",
        "#Impute missing continuous values\n",
        "df_t['LotFrontage'].fillna(df['LotFrontage'].median(), inplace=True) \n",
        "#Mean can be to impute if we have normal distribution\n",
        "df_t['MasVnrArea'].fillna(0, inplace=True)\n",
        "df_t['BsmtHalfBath'].fillna(0, inplace=True)\n",
        "df_t['BsmtFullBath'].fillna(0, inplace=True)\n",
        "df_t['BsmtFinSF1'].fillna(0, inplace=True)\n",
        "df_t['GarageCars'].fillna(0, inplace=True)\n",
        "df_t['BsmtUnfSF'].fillna(0, inplace=True)\n",
        "df_t['TotalBsmtSF'].fillna(0, inplace=True)\n",
        "df_t['GarageArea'].fillna(0, inplace=True)\n",
        "df_t['BsmtFinSF2'].fillna(0, inplace=True)\n",
        "#For this feature, na means no/0 Masonry veneer\n",
        "df_t['GarageYrBlt'].fillna(df['GarageYrBlt'].median(), inplace=True)\n",
        " #drop year data since we will calculate building age\n",
        "\n",
        "#Replace missing categorical values as 'none' \n",
        "#(meaning the houses do not have such features like garage, fence)\n",
        "df_t['Fence'].fillna('NoFence', inplace=True)\n",
        "df_t['Electrical'].fillna(df['Electrical'].mode()[0], inplace=True)\n",
        "df_t.fillna('None', inplace=True)\n",
        "\n",
        "# Add calculated features\n",
        "#the age of the house might impact the saleprice\n",
        "df_t['building_age']=df_t['YrSold']-df_t['YearRemodAdd']\n",
        "\n",
        "#the number of conditions exist in the house might impact saleprice\n",
        "df_t['condition_ct']=2-(df_t['Condition1']=='Norm').astype(int)-(df_t[\n",
        "    'Condition2']=='Norm').astype(int)\n",
        "\n",
        "#Group style of houses by # of floors\n",
        "df_t['Floor']=df_t['HouseStyle'].map({\n",
        "       '1Story':1,\n",
        "       '1.5Fin':1.5,\n",
        "       '1.5Unf':1.5,\n",
        "       '2Story':2,\n",
        "       '2.5Fin':2.5,\n",
        "       '2.5Unf':2.5,\n",
        "       'SFoyer':2,\n",
        "       'SLvl':2\n",
        "})\n",
        "\n",
        "# turn some of the quality/condition evaluations into numerics\n",
        "df_t['ExterCond2']=df_t['ExterCond'].map({\n",
        "       'Ex':5,\n",
        "       'Gd':4,\n",
        "       'TA':3,\n",
        "       'Fa':2,\n",
        "       'Po':1\n",
        "})\n",
        "df_t['ExterCond2']=df_t['ExterQual'].map({\n",
        "       'Ex':5,\n",
        "       'Gd':4,\n",
        "       'TA':3,\n",
        "       'Fa':2,\n",
        "       'Po':1\n",
        "})\n",
        "df_t['BsmtQual2']=df_t['BsmtQual'].map({\n",
        "       'Ex':5,\n",
        "       'Gd':4,\n",
        "       'TA':3,\n",
        "       'Fa':2,\n",
        "       'Po':1,\n",
        "       'None':0\n",
        "})\n",
        "df_t['BsmtCond2']=df_t['BsmtCond'].map({\n",
        "       'Ex':5,\n",
        "       'Gd':4,\n",
        "       'TA':3,\n",
        "       'Fa':2,\n",
        "       'Po':1,\n",
        "       'None':0\n",
        "})\n",
        "df_t['HeatingQC2']=df_t['HeatingQC'].map({\n",
        "       'Ex':5,\n",
        "       'Gd':4,\n",
        "       'TA':3,\n",
        "       'Fa':2,\n",
        "       'Po':1\n",
        "})\n",
        "df_t['KitchenQual2']=df_t['KitchenQual'].map({\n",
        "       'Ex':5,\n",
        "       'Gd':4,\n",
        "       'TA':3,\n",
        "       'Fa':2,\n",
        "       'Po':1,\n",
        "       'None':0\n",
        "})\n",
        "df_t['GarageCond2']=df_t['GarageCond'].map({\n",
        "       'Ex':5,\n",
        "       'Gd':4,\n",
        "       'TA':3,\n",
        "       'Fa':2,\n",
        "       'Po':1,\n",
        "       'None':0\n",
        "})\n",
        "df_t['FireplaceQu2']=df_t['FireplaceQu'].map({\n",
        "       'Ex':5,\n",
        "       'Gd':4,\n",
        "       'TA':3,\n",
        "       'Fa':2,\n",
        "       'Po':1,\n",
        "       'None':0\n",
        "})\n",
        "df_t['GarageQual2']=df_t['GarageQual'].map({\n",
        "       'Ex':5,\n",
        "       'Gd':4,\n",
        "       'TA':3,\n",
        "       'Fa':2,\n",
        "       'Po':1,\n",
        "       'None':0\n",
        "})\n",
        "df_t['GarageCond2']=df_t['GarageCond'].map({\n",
        "       'Ex':5,\n",
        "       'Gd':4,\n",
        "       'TA':3,\n",
        "       'Fa':2,\n",
        "       'Po':1,\n",
        "       'None':0\n",
        "})\n",
        "\n",
        "\n",
        "to_drop = ['Condition1','Condition2','HouseStyle','ExterCond','ExterQual',\n",
        "           'BsmtQual','BsmtCond','HeatingQC','KitchenQual','GarageCond',\n",
        "           'FireplaceQu','GarageQual','GarageCond','YearRemodAdd','YearBuilt']\n",
        "\n",
        "df_t.drop(to_drop, inplace=True, axis=1)\n",
        "\n",
        "\n",
        "#Normalization\n",
        "df_t[continous_var] = pd.DataFrame(scaler.transform(df_t[continous_var]))\n",
        "\n",
        "\n"
      ]
    },
    {
      "cell_type": "markdown",
      "metadata": {
        "id": "lc8yCGyfOUdD"
      },
      "source": [
        "######b. OHE for categorical feature\n",
        "### Question 4.Give some examples of features that you think should use a one-hot encoding and explain why."
      ]
    },
    {
      "cell_type": "markdown",
      "metadata": {
        "id": "4U2kzX0PjELl"
      },
      "source": [
        "Examples of features should use one-hot encoding:\n",
        "- LotShape\n",
        "- MSZoning\n",
        "- LandContour\n",
        "- BldgType\n",
        "- RoofStyle\n",
        "- Neighborhood\n",
        "...\n",
        "\n",
        "These are all categorical features, and in order to use them to fit the linear regression model it is necessary to apply one hot encoding, which will create a new column for each possible value of such feature, and use 1 to indicate presence of the feature value or 0 for absence of the feature value. \n",
        "\n"
      ]
    },
    {
      "cell_type": "code",
      "execution_count": null,
      "metadata": {
        "id": "gXYFLQ5n2bVq"
      },
      "outputs": [],
      "source": [
        "#List all Categorical Features\n",
        "categorical_var=['MSSubClass', 'MSZoning', 'Street', 'LotShape', 'LandContour',\n",
        "                 'Utilities','LotConfig', 'LandSlope', 'Neighborhood', \n",
        "                 'BldgType', 'RoofStyle', 'RoofMatl',\n",
        "                 'Exterior1st', 'Exterior2nd', 'MasVnrType','Foundation',\n",
        "                 'BsmtExposure', 'BsmtFinType1', 'BsmtFinType2', 'Heating', \n",
        "                 'Electrical', 'Functional', 'GarageType', 'GarageFinish', \n",
        "                 'PavedDrive', 'Fence','SaleType', 'SaleCondition','CentralAir']"
      ]
    },
    {
      "cell_type": "code",
      "execution_count": null,
      "metadata": {
        "id": "GcYgcKDr93mB"
      },
      "outputs": [],
      "source": [
        "#Use pandas get_dummies function to apply One-Hot encoding too all categorical variables\n",
        "one_hot_encoded_data = pd.get_dummies(df, columns = categorical_var)\n",
        "one_hot_encoded_test = pd.get_dummies(df_t, columns = categorical_var)\n",
        "one_hot_encoded_data, one_hot_encoded_test = one_hot_encoded_data.align(one_hot_encoded_test, \n",
        "                                                                        join='inner', axis=1) "
      ]
    },
    {
      "cell_type": "code",
      "execution_count": null,
      "metadata": {
        "colab": {
          "base_uri": "https://localhost:8080/"
        },
        "id": "rze8YJ8LjCuG",
        "outputId": "3e3fb75a-596c-4749-d17f-f151e845da1c"
      },
      "outputs": [
        {
          "output_type": "execute_result",
          "data": {
            "text/plain": [
              "['SaleCondition_Abnorml',\n",
              " 'SaleCondition_AdjLand',\n",
              " 'SaleCondition_Alloca',\n",
              " 'SaleCondition_Family',\n",
              " 'SaleCondition_Normal',\n",
              " 'SaleCondition_Partial']"
            ]
          },
          "metadata": {},
          "execution_count": 602
        }
      ],
      "source": [
        "#Check OHE result\n",
        "[c for c in one_hot_encoded_data.columns if \"SaleCondition\" in c]"
      ]
    },
    {
      "cell_type": "code",
      "execution_count": null,
      "metadata": {
        "colab": {
          "base_uri": "https://localhost:8080/"
        },
        "id": "Qwr64nBU5ohq",
        "outputId": "c30e7891-fb11-4b6c-f080-4640e21b78c7"
      },
      "outputs": [
        {
          "output_type": "execute_result",
          "data": {
            "text/plain": [
              "(1460, 231)"
            ]
          },
          "metadata": {},
          "execution_count": 603
        }
      ],
      "source": [
        "#Rename the preprocessed data as df2\n",
        "df2 = one_hot_encoded_data.copy()\n",
        "df2.shape"
      ]
    },
    {
      "cell_type": "markdown",
      "metadata": {
        "id": "EfGzjBQQw-1U"
      },
      "source": [
        "### Convert at least one feature to a one-hot encoding (you can use your own implementation, or that in pandas or scikit-learn) and visualize the results by plotting feature histograms of the original feature and its new one-hot encoding."
      ]
    },
    {
      "cell_type": "code",
      "execution_count": null,
      "metadata": {
        "colab": {
          "base_uri": "https://localhost:8080/",
          "height": 385
        },
        "id": "cX-w9eOvS32i",
        "outputId": "9b301367-d4d7-47bc-ff82-783d0e8e0b0b"
      },
      "outputs": [
        {
          "output_type": "display_data",
          "data": {
            "text/plain": [
              "<Figure size 360x360 with 1 Axes>"
            ],
            "image/png": "[encoded data removed]"
          },
          "metadata": {
            "needs_background": "light"
          }
        }
      ],
      "source": [
        "#Plot LotShape before OHE\n",
        "plt.figure\n",
        "ax= sns.catplot(x='LotShape', kind=\"count\",data=df).set(\n",
        "    title='Histogram of Lot Shape')"
      ]
    },
    {
      "cell_type": "code",
      "execution_count": null,
      "metadata": {
        "colab": {
          "base_uri": "https://localhost:8080/",
          "height": 456
        },
        "id": "9qPN9ZwPYkIw",
        "outputId": "e797198d-5b85-44b3-cb5f-611fa0c53460"
      },
      "outputs": [
        {
          "output_type": "stream",
          "name": "stderr",
          "text": [
            "/usr/local/lib/python3.7/dist-packages/seaborn/_decorators.py:43: FutureWarning: Pass the following variable as a keyword arg: x. From version 0.12, the only valid positional argument will be `data`, and passing other arguments without an explicit keyword will result in an error or misinterpretation.\n",
            "  FutureWarning\n",
            "/usr/local/lib/python3.7/dist-packages/seaborn/_decorators.py:43: FutureWarning: Pass the following variable as a keyword arg: x. From version 0.12, the only valid positional argument will be `data`, and passing other arguments without an explicit keyword will result in an error or misinterpretation.\n",
            "  FutureWarning\n",
            "/usr/local/lib/python3.7/dist-packages/seaborn/_decorators.py:43: FutureWarning: Pass the following variable as a keyword arg: x. From version 0.12, the only valid positional argument will be `data`, and passing other arguments without an explicit keyword will result in an error or misinterpretation.\n",
            "  FutureWarning\n",
            "/usr/local/lib/python3.7/dist-packages/seaborn/_decorators.py:43: FutureWarning: Pass the following variable as a keyword arg: x. From version 0.12, the only valid positional argument will be `data`, and passing other arguments without an explicit keyword will result in an error or misinterpretation.\n",
            "  FutureWarning\n"
          ]
        },
        {
          "output_type": "execute_result",
          "data": {
            "text/plain": [
              "<bound method Figure.show of <Figure size 432x288 with 4 Axes>>"
            ]
          },
          "metadata": {},
          "execution_count": 605
        },
        {
          "output_type": "display_data",
          "data": {
            "text/plain": [
              "<Figure size 432x288 with 4 Axes>"
            ],
            "image/png": "[encoded data removed]"
          },
          "metadata": {
            "needs_background": "light"
          }
        }
      ],
      "source": [
        "#Plot LotShape after OHE\n",
        "fig,ax=plt.subplots(1,4)\n",
        "sns.countplot(df2['LotShape_Reg'],ax=ax[0], palette=['#A9A9A9','#3E76A3'])\n",
        "sns.countplot(df2['LotShape_IR1'],ax=ax[1], palette=['#A9A9A9','#DA801E'])\n",
        "sns.countplot(df2['LotShape_IR2'],ax=ax[2], palette=['#A9A9A9','#479234'])\n",
        "sns.countplot(df2['LotShape_IR3'],ax=ax[3], palette=['#A9A9A9','#B83B3B'])\n",
        "fig.show"
      ]
    },
    {
      "cell_type": "markdown",
      "metadata": {
        "id": "j8-JwTcZ59qD"
      },
      "source": [
        "####4.  Split training data into Train Data and Holdout data (70:30)"
      ]
    },
    {
      "cell_type": "code",
      "execution_count": null,
      "metadata": {
        "id": "0hTY9wYG6aGs"
      },
      "outputs": [],
      "source": [
        "from sklearn.model_selection import train_test_split\n",
        "\n",
        "#Prepare X (with all remaining features) & y\n",
        "ignored=['SalePrice']\n",
        "features= [c for c in df2.columns if c not in ignored]\n",
        "X=df2[features].copy()\n",
        "y=df['SalePrice']\n",
        "\n",
        "#Split training data (70%) & validation data(30%)\n",
        "X_train, X_val, y_train, y_val = train_test_split(X, y, \n",
        "    test_size=0.3, random_state= 8)"
      ]
    },
    {
      "cell_type": "code",
      "execution_count": null,
      "metadata": {
        "colab": {
          "base_uri": "https://localhost:8080/"
        },
        "id": "NSXOCXjPnB1A",
        "outputId": "b9d55092-28e7-4aa5-8ff4-caa2dfed88f5"
      },
      "outputs": [
        {
          "output_type": "stream",
          "name": "stdout",
          "text": [
            "(1022, 231)\n",
            "(1022,)\n"
          ]
        }
      ],
      "source": [
        "print(X_train.shape)\n",
        "print(y_train.shape)"
      ]
    },
    {
      "cell_type": "markdown",
      "metadata": {
        "id": "VuuKb6RY8LQS"
      },
      "source": [
        "####5. Cherry pick variables based on correlation and check significance of variables\n"
      ]
    },
    {
      "cell_type": "code",
      "execution_count": null,
      "metadata": {
        "id": "zLJ3yk_KItHs"
      },
      "outputs": [],
      "source": [
        "from sklearn import datasets, linear_model\n",
        "import statsmodels.api as sm\n",
        "from scipy import stats"
      ]
    },
    {
      "cell_type": "code",
      "execution_count": null,
      "metadata": {
        "colab": {
          "base_uri": "https://localhost:8080/"
        },
        "id": "BmkiWjq92WpT",
        "outputId": "be1721c8-0a57-4b57-f830-a24dbf8c6bd4"
      },
      "outputs": [
        {
          "output_type": "execute_result",
          "data": {
            "text/plain": [
              "['1stFlrSF',\n",
              " 'TotRmsAbvGrd',\n",
              " 'GarageArea',\n",
              " 'Floor',\n",
              " 'FireplaceQu2',\n",
              " 'MSZoning_RM',\n",
              " 'Street_Pave',\n",
              " 'LotShape_Reg',\n",
              " 'LandSlope_Mod',\n",
              " 'Neighborhood_Somerst',\n",
              " 'BldgType_2fmCon',\n",
              " 'RoofStyle_Hip',\n",
              " 'RoofMatl_Tar&Grv',\n",
              " 'Exterior2nd_AsbShng',\n",
              " 'Exterior2nd_CBlock',\n",
              " 'Exterior2nd_HdBoard',\n",
              " 'Exterior2nd_MetalSd',\n",
              " 'Exterior2nd_VinylSd',\n",
              " 'MasVnrType_None',\n",
              " 'BsmtExposure_None',\n",
              " 'BsmtFinType1_None',\n",
              " 'BsmtFinType2_None',\n",
              " 'Electrical_SBrkr',\n",
              " 'GarageType_None',\n",
              " 'GarageFinish_None',\n",
              " 'PavedDrive_Y',\n",
              " 'SaleCondition_Partial',\n",
              " 'CentralAir_Y']"
            ]
          },
          "metadata": {},
          "execution_count": 609
        }
      ],
      "source": [
        "#Drop variable with high correlation\n",
        "all_col=list(df2.columns)\n",
        "orig_df=df2\n",
        "dropped=[]\n",
        "for col in all_col:\n",
        "  cor_matrix = orig_df.corr().abs()\n",
        "  upper_tri= cor_matrix.where(np.triu(np.ones(\n",
        "      cor_matrix.shape),k=1).astype(bool))\n",
        "  if any(upper_tri[col] > 0.8):\n",
        "    all_col.remove(col)\n",
        "    orig_df=orig_df[all_col]\n",
        "    dropped.append(col)\n",
        "\n",
        "dropped"
      ]
    },
    {
      "cell_type": "code",
      "execution_count": null,
      "metadata": {
        "id": "7uWKlrTf3ElL"
      },
      "outputs": [],
      "source": [
        "X_train2 = X_train.drop(X_train[dropped], axis=1)"
      ]
    },
    {
      "cell_type": "code",
      "execution_count": null,
      "metadata": {
        "colab": {
          "base_uri": "https://localhost:8080/"
        },
        "id": "2RsfZXVu8ZCg",
        "outputId": "266ba1ab-2d84-4a78-b3d2-6b28585dc186"
      },
      "outputs": [
        {
          "output_type": "stream",
          "name": "stdout",
          "text": [
            "                            OLS Regression Results                            \n",
            "==============================================================================\n",
            "Dep. Variable:              SalePrice   R-squared:                       0.910\n",
            "Model:                            OLS   Adj. R-squared:                  0.890\n",
            "Method:                 Least Squares   F-statistic:                     44.72\n",
            "Date:                Mon, 12 Sep 2022   Prob (F-statistic):               0.00\n",
            "Time:                        01:05:57   Log-Likelihood:                -11785.\n",
            "No. Observations:                1022   AIC:                         2.395e+04\n",
            "Df Residuals:                     833   BIC:                         2.488e+04\n",
            "Df Model:                         188                                         \n",
            "Covariance Type:            nonrobust                                         \n",
            "=========================================================================================\n",
            "                            coef    std err          t      P>|t|      [0.025      0.975]\n",
            "-----------------------------------------------------------------------------------------\n",
            "const                 -3.217e+04   8.72e+04     -0.369      0.712   -2.03e+05    1.39e+05\n",
            "LotFrontage            -706.4410   1436.688     -0.492      0.623   -3526.395    2113.513\n",
            "LotArea                6076.5018   1517.159      4.005      0.000    3098.598    9054.406\n",
            "OverallQual            8574.3419   1442.537      5.944      0.000    5742.908    1.14e+04\n",
            "OverallCond            4527.3490   1191.209      3.801      0.000    2189.225    6865.473\n",
            "MasVnrArea             8268.1180   1625.577      5.086      0.000    5077.410    1.15e+04\n",
            "BsmtFinSF1              338.7972   1417.075      0.239      0.811   -2442.661    3120.255\n",
            "BsmtFinSF2              202.4104   1692.554      0.120      0.905   -3119.762    3524.583\n",
            "BsmtUnfSF               -30.4815   1335.958     -0.023      0.982   -2652.722    2591.759\n",
            "TotalBsmtSF             395.9576   2024.016      0.196      0.845   -3576.814    4368.729\n",
            "2ndFlrSF               6376.5531   4240.860      1.504      0.133   -1947.474    1.47e+04\n",
            "LowQualFinSF             -1.3438     24.413     -0.055      0.956     -49.262      46.575\n",
            "GrLivArea              2.908e+04   4073.278      7.140      0.000    2.11e+04    3.71e+04\n",
            "BsmtFullBath           3654.1115   2960.198      1.234      0.217   -2156.213    9464.436\n",
            "BsmtHalfBath           4803.3946   4238.096      1.133      0.257   -3515.208    1.31e+04\n",
            "FullBath               8987.6281   3239.681      2.774      0.006    2628.730    1.53e+04\n",
            "HalfBath               3807.0563   3044.850      1.250      0.212   -2169.423    9783.536\n",
            "BedroomAbvGr          -5429.8333   1809.696     -3.000      0.003   -8981.934   -1877.733\n",
            "KitchenAbvGr          -8844.9727   8221.110     -1.076      0.282    -2.5e+04    7291.553\n",
            "Fireplaces             2023.0861   1879.112      1.077      0.282   -1665.265    5711.437\n",
            "GarageYrBlt             -83.6276     87.026     -0.961      0.337    -254.444      87.189\n",
            "GarageCars             1.061e+04   2462.641      4.307      0.000    5771.684    1.54e+04\n",
            "WoodDeckSF              868.4496   1085.082      0.800      0.424   -1261.368    2998.267\n",
            "OpenPorchSF             977.0533   1102.732      0.886      0.376   -1187.407    3141.513\n",
            "EnclosedPorch          -302.8210   1026.064     -0.295      0.768   -2316.796    1711.154\n",
            "3SsnPorch              -176.9644    881.305     -0.201      0.841   -1906.804    1552.875\n",
            "ScreenPorch            2573.7602   1052.887      2.444      0.015     507.137    4640.384\n",
            "PoolArea                 55.8551     25.520      2.189      0.029       5.763     105.947\n",
            "MiscVal                1528.1532   3400.536      0.449      0.653   -5146.473    8202.780\n",
            "MoSold                 -509.0318    347.637     -1.464      0.143   -1191.379     173.315\n",
            "YrSold                -1164.7283    978.924     -1.190      0.234   -3086.176     756.719\n",
            "building_age            -24.3174   1665.112     -0.015      0.988   -3292.625    3243.991\n",
            "condition_ct          -8232.5791   2711.817     -3.036      0.002   -1.36e+04   -2909.782\n",
            "ExterCond2             5486.2127   3119.427      1.759      0.079    -636.648    1.16e+04\n",
            "BsmtQual2              1.151e+04   2635.552      4.367      0.000    6336.495    1.67e+04\n",
            "BsmtCond2             -3833.2018   3680.022     -1.042      0.298   -1.11e+04    3390.004\n",
            "HeatingQC2             3056.0970   1372.787      2.226      0.026     361.569    5750.625\n",
            "KitchenQual2           5541.1768   2341.156      2.367      0.018     945.918    1.01e+04\n",
            "GarageCond2           -9957.1020   5496.679     -1.811      0.070   -2.07e+04     831.866\n",
            "GarageQual2            1.469e+04   5283.566      2.781      0.006    4320.911    2.51e+04\n",
            "MSSubClass_20          2.535e+04   9272.027      2.734      0.006    7147.613    4.35e+04\n",
            "MSSubClass_30          3.072e+04   1.02e+04      3.021      0.003    1.08e+04    5.07e+04\n",
            "MSSubClass_40          1.268e+04   2.04e+04      0.623      0.534   -2.73e+04    5.26e+04\n",
            "MSSubClass_45          2.553e+04   1.32e+04      1.929      0.054    -452.897    5.15e+04\n",
            "MSSubClass_50          1.316e+04   9615.032      1.369      0.171   -5712.913     3.2e+04\n",
            "MSSubClass_60          -791.0994   1.02e+04     -0.078      0.938   -2.08e+04    1.92e+04\n",
            "MSSubClass_70          8667.6769   1.04e+04      0.834      0.405   -1.17e+04    2.91e+04\n",
            "MSSubClass_75         -9799.8287   1.39e+04     -0.703      0.482   -3.72e+04    1.76e+04\n",
            "MSSubClass_80          1.434e+04   1.03e+04      1.390      0.165   -5907.817    3.46e+04\n",
            "MSSubClass_85          5429.3066   1.19e+04      0.456      0.649   -1.79e+04    2.88e+04\n",
            "MSSubClass_90         -1.464e+04   1.46e+04     -1.005      0.315   -4.32e+04    1.39e+04\n",
            "MSSubClass_120        -1.197e+04   1.95e+04     -0.614      0.540   -5.03e+04    2.63e+04\n",
            "MSSubClass_160        -4.913e+04   2.09e+04     -2.350      0.019   -9.02e+04   -8101.282\n",
            "MSSubClass_180        -4.787e+04   2.34e+04     -2.049      0.041   -9.37e+04   -2015.019\n",
            "MSSubClass_190        -3.384e+04   2.83e+04     -1.196      0.232   -8.94e+04    2.17e+04\n",
            "MSZoning_C (all)      -1.483e+04   1.43e+04     -1.033      0.302    -4.3e+04    1.33e+04\n",
            "MSZoning_FV             1.68e+04   1.15e+04      1.465      0.143   -5710.258    3.93e+04\n",
            "MSZoning_RH            1.167e+04   1.07e+04      1.089      0.277   -9366.811    3.27e+04\n",
            "MSZoning_RL            6390.5228   5219.898      1.224      0.221   -3855.176    1.66e+04\n",
            "Street_Grvl            -2.33e+04   1.45e+04     -1.602      0.109   -5.18e+04    5240.440\n",
            "LotShape_IR1            418.5097   2290.109      0.183      0.855   -4076.552    4913.572\n",
            "LotShape_IR2           4057.9714   6683.074      0.607      0.544   -9059.673    1.72e+04\n",
            "LotShape_IR3          -3.671e+04   1.33e+04     -2.757      0.006   -6.28e+04   -1.06e+04\n",
            "LandContour_Bnk       -1.057e+04   2.24e+04     -0.472      0.637   -5.45e+04    3.33e+04\n",
            "LandContour_HLS       -8016.0270   2.22e+04     -0.361      0.718   -5.16e+04    3.56e+04\n",
            "LandContour_Low       -6124.1547   2.29e+04     -0.267      0.790   -5.12e+04    3.89e+04\n",
            "LandContour_Lvl       -7463.4372   2.19e+04     -0.340      0.734   -5.05e+04    3.56e+04\n",
            "Utilities_AllPub       8.401e+04   3.22e+04      2.611      0.009    2.08e+04    1.47e+05\n",
            "LotConfig_Corner      -2568.8691   1.93e+04     -0.133      0.894   -4.05e+04    3.54e+04\n",
            "LotConfig_CulDSac      6151.9020   1.91e+04      0.321      0.748   -3.14e+04    4.37e+04\n",
            "LotConfig_FR2         -1.263e+04   1.94e+04     -0.650      0.516   -5.07e+04    2.55e+04\n",
            "LotConfig_FR3         -1.935e+04   2.88e+04     -0.671      0.502   -7.59e+04    3.72e+04\n",
            "LotConfig_Inside      -3774.0905   1.91e+04     -0.198      0.843   -4.12e+04    3.37e+04\n",
            "LandSlope_Gtl         -1267.6293   5793.363     -0.219      0.827   -1.26e+04    1.01e+04\n",
            "LandSlope_Sev         -2.512e+04   1.53e+04     -1.644      0.101   -5.51e+04    4871.995\n",
            "Neighborhood_Blmngtn  -1045.5482   1.32e+04     -0.079      0.937    -2.7e+04    2.49e+04\n",
            "Neighborhood_Blueste   1.715e+04    3.4e+04      0.504      0.614   -4.96e+04    8.39e+04\n",
            "Neighborhood_BrDale    2.652e+04   1.61e+04      1.645      0.100   -5128.144    5.82e+04\n",
            "Neighborhood_BrkSide  -2487.2388   1.22e+04     -0.203      0.839   -2.65e+04    2.15e+04\n",
            "Neighborhood_ClearCr  -9001.7773   1.36e+04     -0.660      0.509   -3.58e+04    1.78e+04\n",
            "Neighborhood_CollgCr  -8247.9296   9645.662     -0.855      0.393   -2.72e+04    1.07e+04\n",
            "Neighborhood_Crawfor  -2015.1088    1.2e+04     -0.168      0.866   -2.55e+04    2.15e+04\n",
            "Neighborhood_Edwards  -1.777e+04   1.08e+04     -1.641      0.101    -3.9e+04    3478.466\n",
            "Neighborhood_Gilbert  -1.075e+04   1.09e+04     -0.987      0.324   -3.21e+04    1.06e+04\n",
            "Neighborhood_IDOTRR   -1.294e+04   1.42e+04     -0.910      0.363   -4.09e+04     1.5e+04\n",
            "Neighborhood_MeadowV   1.536e+04   1.64e+04      0.935      0.350   -1.69e+04    4.76e+04\n",
            "Neighborhood_Mitchel  -1.021e+04    1.1e+04     -0.927      0.354   -3.18e+04    1.14e+04\n",
            "Neighborhood_NAmes    -8145.9430   1.04e+04     -0.784      0.433   -2.86e+04    1.23e+04\n",
            "Neighborhood_NPkVill   1.432e+04   3.08e+04      0.464      0.642   -4.62e+04    7.49e+04\n",
            "Neighborhood_NWAmes   -1.407e+04   1.07e+04     -1.310      0.191   -3.52e+04    7010.602\n",
            "Neighborhood_NoRidge   3.425e+04   1.15e+04      2.988      0.003    1.18e+04    5.68e+04\n",
            "Neighborhood_NridgHt   3.064e+04   9747.314      3.144      0.002    1.15e+04    4.98e+04\n",
            "Neighborhood_OldTown   -1.53e+04   1.23e+04     -1.239      0.216   -3.95e+04    8934.205\n",
            "Neighborhood_SWISU    -2.429e+04   1.33e+04     -1.829      0.068   -5.04e+04    1775.009\n",
            "Neighborhood_Sawyer   -6696.3603   1.09e+04     -0.616      0.538    -2.8e+04    1.46e+04\n",
            "Neighborhood_SawyerW  -7931.6793   1.07e+04     -0.742      0.458   -2.89e+04     1.3e+04\n",
            "Neighborhood_StoneBr   4.354e+04   1.15e+04      3.770      0.000    2.09e+04    6.62e+04\n",
            "Neighborhood_Timber   -7538.8298   1.12e+04     -0.676      0.499   -2.94e+04    1.44e+04\n",
            "Neighborhood_Veenker    863.1036   1.47e+04      0.059      0.953   -2.79e+04    2.96e+04\n",
            "BldgType_1Fam         -3.744e+04   3.03e+04     -1.237      0.216   -9.68e+04     2.2e+04\n",
            "BldgType_Duplex       -1.464e+04   1.46e+04     -1.005      0.315   -4.32e+04    1.39e+04\n",
            "BldgType_Twnhs        -3.444e+04   3.83e+04     -0.899      0.369    -1.1e+05    4.08e+04\n",
            "BldgType_TwnhsE       -3.396e+04   3.77e+04     -0.902      0.367   -1.08e+05       4e+04\n",
            "RoofStyle_Flat         1.541e+05   2.41e+04      6.400      0.000    1.07e+05    2.01e+05\n",
            "RoofStyle_Gable       -6230.5909   2628.708     -2.370      0.018   -1.14e+04   -1070.922\n",
            "RoofStyle_Gambrel     -1.907e+04   1.56e+04     -1.226      0.221   -4.96e+04    1.15e+04\n",
            "RoofStyle_Mansard     -5808.2897   2.18e+04     -0.267      0.790   -4.85e+04    3.69e+04\n",
            "RoofStyle_Shed         1.012e+05   2.15e+04      4.711      0.000     5.9e+04    1.43e+05\n",
            "RoofMatl_CompShg       1.722e+05   1.95e+04      8.827      0.000    1.34e+05     2.1e+05\n",
            "RoofMatl_WdShake       1.012e+05   2.15e+04      4.711      0.000     5.9e+04    1.43e+05\n",
            "RoofMatl_WdShngl       2.337e+05   2.35e+04      9.941      0.000    1.88e+05     2.8e+05\n",
            "Exterior1st_AsbShng   -1.431e+04   3.83e+04     -0.373      0.709   -8.96e+04     6.1e+04\n",
            "Exterior1st_AsphShn    2.371e-11   4.82e-11      0.492      0.623    -7.1e-11    1.18e-10\n",
            "Exterior1st_BrkComm    -3.14e+04   5.55e+04     -0.565      0.572    -1.4e+05    7.76e+04\n",
            "Exterior1st_BrkFace   -3136.8841   3.66e+04     -0.086      0.932    -7.5e+04    6.88e+04\n",
            "Exterior1st_CBlock    -2.148e+04   4.69e+04     -0.458      0.647   -1.14e+05    7.06e+04\n",
            "Exterior1st_CemntBd   -4576.3922   1.89e+04     -0.242      0.809   -4.17e+04    3.25e+04\n",
            "Exterior1st_HdBoard    -2.12e+04   3.76e+04     -0.564      0.573   -9.49e+04    5.25e+04\n",
            "Exterior1st_MetalSd   -1.767e+04   3.76e+04     -0.470      0.639   -9.15e+04    5.62e+04\n",
            "Exterior1st_Plywood   -2.307e+04   3.79e+04     -0.609      0.542   -9.74e+04    5.12e+04\n",
            "Exterior1st_Stucco    -3.203e+04   3.82e+04     -0.838      0.402   -1.07e+05     4.3e+04\n",
            "Exterior1st_VinylSd   -2.049e+04   3.75e+04     -0.546      0.585   -9.41e+04    5.31e+04\n",
            "Exterior1st_Wd Sdng   -2.379e+04   3.73e+04     -0.637      0.524   -9.71e+04    4.95e+04\n",
            "Exterior1st_WdShing   -2.301e+04   3.83e+04     -0.600      0.549   -9.82e+04    5.22e+04\n",
            "Exterior2nd_AsphShn   -4024.7471   3.58e+04     -0.112      0.910   -7.43e+04    6.62e+04\n",
            "Exterior2nd_Brk Cmn    2.163e+04   3.34e+04      0.648      0.517   -4.39e+04    8.71e+04\n",
            "Exterior2nd_BrkFace   -4900.3510    1.1e+04     -0.446      0.656   -2.65e+04    1.67e+04\n",
            "Exterior2nd_CmentBd   -4576.3922   1.89e+04     -0.242      0.809   -4.17e+04    3.25e+04\n",
            "Exterior2nd_ImStucc    4.606e+04   1.45e+04      3.174      0.002    1.76e+04    7.46e+04\n",
            "Exterior2nd_Plywood    4228.9513   6161.683      0.686      0.493   -7865.298    1.63e+04\n",
            "Exterior2nd_Stone     -1.159e+04   1.97e+04     -0.589      0.556   -5.02e+04     2.7e+04\n",
            "Exterior2nd_Stucco    -1.426e+04   1.17e+04     -1.216      0.224   -3.73e+04    8758.045\n",
            "Exterior2nd_Wd Sdng     -29.5740   7081.942     -0.004      0.997   -1.39e+04    1.39e+04\n",
            "Exterior2nd_Wd Shng   -8790.7053   8331.628     -1.055      0.292   -2.51e+04    7562.747\n",
            "MasVnrType_BrkCmn     -4847.0939   9923.945     -0.488      0.625   -2.43e+04    1.46e+04\n",
            "MasVnrType_BrkFace    -6707.2159   3311.112     -2.026      0.043   -1.32e+04    -208.112\n",
            "MasVnrType_Stone       1633.2115   4565.706      0.358      0.721   -7328.430    1.06e+04\n",
            "Foundation_BrkTil     -8455.8410   1.59e+04     -0.530      0.596   -3.97e+04    2.28e+04\n",
            "Foundation_CBlock     -4138.6538   1.54e+04     -0.268      0.789   -3.44e+04    2.62e+04\n",
            "Foundation_PConc      -3811.2261   1.59e+04     -0.240      0.810    -3.5e+04    2.73e+04\n",
            "Foundation_Slab       -8221.0674   1.89e+04     -0.435      0.663   -4.53e+04    2.88e+04\n",
            "Foundation_Stone       3228.7534   2.11e+04      0.153      0.878   -3.81e+04    4.46e+04\n",
            "Foundation_Wood       -1.077e+04   2.39e+04     -0.451      0.652   -5.77e+04    3.61e+04\n",
            "BsmtExposure_Av        1.766e+04   2.79e+04      0.633      0.527   -3.71e+04    7.24e+04\n",
            "BsmtExposure_Gd        3.776e+04   2.81e+04      1.346      0.179   -1.73e+04    9.29e+04\n",
            "BsmtExposure_Mn        8225.0932    2.8e+04      0.294      0.769   -4.68e+04    6.32e+04\n",
            "BsmtExposure_No        9694.4266   2.79e+04      0.348      0.728    -4.5e+04    6.44e+04\n",
            "BsmtFinType1_ALQ      -1.323e+04   1.67e+04     -0.791      0.429   -4.61e+04    1.96e+04\n",
            "BsmtFinType1_BLQ      -9717.7194   1.67e+04     -0.581      0.561   -4.25e+04    2.31e+04\n",
            "BsmtFinType1_GLQ      -5981.2579   1.69e+04     -0.354      0.723   -3.91e+04    2.71e+04\n",
            "BsmtFinType1_LwQ       -1.54e+04   1.68e+04     -0.914      0.361   -4.85e+04    1.77e+04\n",
            "BsmtFinType1_Rec      -1.119e+04   1.68e+04     -0.668      0.505   -4.41e+04    2.17e+04\n",
            "BsmtFinType1_Unf      -1.926e+04   1.66e+04     -1.163      0.245   -5.17e+04    1.32e+04\n",
            "BsmtFinType2_ALQ       3921.2201   1.89e+04      0.208      0.835   -3.31e+04    4.09e+04\n",
            "BsmtFinType2_BLQ      -2.444e+04   1.74e+04     -1.404      0.161   -5.86e+04    9731.167\n",
            "BsmtFinType2_GLQ      -1382.2479   1.98e+04     -0.070      0.944   -4.02e+04    3.74e+04\n",
            "BsmtFinType2_LwQ      -1.791e+04    1.7e+04     -1.055      0.292   -5.12e+04    1.54e+04\n",
            "BsmtFinType2_Rec       -1.91e+04    1.7e+04     -1.124      0.261   -5.25e+04    1.43e+04\n",
            "BsmtFinType2_Unf      -1.584e+04   1.64e+04     -0.964      0.335   -4.81e+04    1.64e+04\n",
            "Heating_GasA            4.29e+04    2.2e+04      1.952      0.051    -227.863     8.6e+04\n",
            "Heating_GasW           4.564e+04   2.39e+04      1.911      0.056   -1241.894    9.25e+04\n",
            "Heating_Grav           4.798e+04   2.45e+04      1.962      0.050     -30.900     9.6e+04\n",
            "Heating_Wall           5.956e+04   2.92e+04      2.043      0.041    2328.934    1.17e+05\n",
            "Electrical_FuseA       1584.5196   4103.550      0.386      0.699   -6469.993    9639.033\n",
            "Electrical_FuseF       -483.5965   7360.060     -0.066      0.948   -1.49e+04     1.4e+04\n",
            "Electrical_FuseP      -9434.9855   3.71e+04     -0.254      0.800   -8.23e+04    6.35e+04\n",
            "Functional_Maj1         417.6737   1.72e+04      0.024      0.981   -3.33e+04    3.41e+04\n",
            "Functional_Maj2       -1.197e+04   1.88e+04     -0.637      0.524   -4.88e+04    2.49e+04\n",
            "Functional_Min1       -6076.3739   1.55e+04     -0.391      0.696   -3.65e+04    2.44e+04\n",
            "Functional_Min2       -6120.7495   1.56e+04     -0.393      0.694   -3.67e+04    2.44e+04\n",
            "Functional_Mod        -1.599e+04   1.71e+04     -0.935      0.350   -4.96e+04    1.76e+04\n",
            "Functional_Sev         1.342e-11   1.37e-11      0.979      0.328   -1.35e-11    4.03e-11\n",
            "Functional_Typ         7574.1153   1.52e+04      0.498      0.619   -2.23e+04    3.74e+04\n",
            "GarageType_2Types     -3.134e+04   1.56e+04     -2.005      0.045    -6.2e+04    -652.485\n",
            "GarageType_Attchd     -1.032e+04   6306.428     -1.636      0.102   -2.27e+04    2061.570\n",
            "GarageType_Basment     9493.3527   9579.798      0.991      0.322   -9310.028    2.83e+04\n",
            "GarageType_BuiltIn    -5480.1794   7399.884     -0.741      0.459      -2e+04    9044.431\n",
            "GarageType_CarPort    -9814.4437   1.27e+04     -0.771      0.441   -3.48e+04    1.52e+04\n",
            "GarageType_Detchd     -4017.7862   6277.655     -0.640      0.522   -1.63e+04    8304.095\n",
            "GarageFinish_Fin      -1.512e+04   1.11e+04     -1.357      0.175    -3.7e+04    6743.035\n",
            "GarageFinish_RFn      -1.918e+04   1.11e+04     -1.726      0.085    -4.1e+04    2629.846\n",
            "GarageFinish_Unf      -1.717e+04   1.08e+04     -1.595      0.111   -3.83e+04    3964.617\n",
            "PavedDrive_N          -4510.3944   4615.364     -0.977      0.329   -1.36e+04    4548.715\n",
            "PavedDrive_P          -6386.7993   7332.646     -0.871      0.384   -2.08e+04    8005.834\n",
            "Fence_GdPrv           -9984.1386   1.81e+04     -0.552      0.581   -4.55e+04    2.55e+04\n",
            "Fence_GdWo            -2275.9787   1.82e+04     -0.125      0.900   -3.79e+04    3.34e+04\n",
            "Fence_MnPrv            -825.6856   1.77e+04     -0.047      0.963   -3.56e+04     3.4e+04\n",
            "Fence_MnWw            -1.715e+04   1.97e+04     -0.870      0.385   -5.58e+04    2.16e+04\n",
            "Fence_NoFence         -1938.6479   1.76e+04     -0.110      0.912   -3.65e+04    3.26e+04\n",
            "SaleType_COD          -2.092e+04   1.26e+04     -1.658      0.098   -4.57e+04    3845.682\n",
            "SaleType_CWD            149.8453   2.26e+04      0.007      0.995   -4.42e+04    4.45e+04\n",
            "SaleType_Con           1.309e+04    2.2e+04      0.595      0.552   -3.01e+04    5.63e+04\n",
            "SaleType_ConLD          558.6946   1.62e+04      0.034      0.973   -3.13e+04    3.24e+04\n",
            "SaleType_ConLI         3791.3989   1.89e+04      0.201      0.841   -3.32e+04    4.08e+04\n",
            "SaleType_ConLw        -2.737e+04   1.76e+04     -1.551      0.121    -6.2e+04    7268.517\n",
            "SaleType_New           2.146e+04   2.22e+04      0.968      0.333   -2.21e+04     6.5e+04\n",
            "SaleType_Oth          -4581.3723   1.91e+04     -0.240      0.810   -4.21e+04    3.29e+04\n",
            "SaleType_WD           -1.836e+04   1.18e+04     -1.561      0.119   -4.14e+04    4722.008\n",
            "SaleCondition_Abnorml  1.554e+04   2.38e+04      0.653      0.514   -3.12e+04    6.23e+04\n",
            "SaleCondition_AdjLand  1.999e+04   3.28e+04      0.609      0.543   -4.44e+04    8.44e+04\n",
            "SaleCondition_Alloca   2.119e+04   2.67e+04      0.794      0.427   -3.12e+04    7.36e+04\n",
            "SaleCondition_Family   2.698e+04    2.5e+04      1.081      0.280    -2.2e+04     7.6e+04\n",
            "SaleCondition_Normal   2.285e+04   2.36e+04      0.970      0.332   -2.34e+04    6.91e+04\n",
            "CentralAir_N          -2670.0043   5191.588     -0.514      0.607   -1.29e+04    7520.128\n",
            "==============================================================================\n",
            "Omnibus:                      267.622   Durbin-Watson:                   2.030\n",
            "Prob(Omnibus):                  0.000   Jarque-Bera (JB):             8675.283\n",
            "Skew:                           0.501   Prob(JB):                         0.00\n",
            "Kurtosis:                      17.238   Cond. No.                     2.43e+16\n",
            "==============================================================================\n",
            "\n",
            "Notes:\n",
            "[1] Standard Errors assume that the covariance matrix of the errors is correctly specified.\n",
            "[2] The smallest eigenvalue is 6.75e-24. This might indicate that there are\n",
            "strong multicollinearity problems or that the design matrix is singular.\n"
          ]
        },
        {
          "output_type": "stream",
          "name": "stderr",
          "text": [
            "/usr/local/lib/python3.7/dist-packages/statsmodels/tsa/tsatools.py:142: FutureWarning: In a future version of pandas all arguments of concat except for the argument 'objs' will be keyword-only\n",
            "  x = pd.concat(x[::order], 1)\n"
          ]
        }
      ],
      "source": [
        "#Check p values each features\n",
        "X_train3=sm.add_constant(X_train2)\n",
        "est=sm.OLS(y_train,X_train3).fit()\n",
        "print(est.summary())"
      ]
    },
    {
      "cell_type": "code",
      "execution_count": null,
      "metadata": {
        "colab": {
          "base_uri": "https://localhost:8080/"
        },
        "id": "FQiPFuGJSMu7",
        "outputId": "c9f24655-792d-4153-bc9b-178ac1b80b7b"
      },
      "outputs": [
        {
          "output_type": "stream",
          "name": "stdout",
          "text": [
            "Index(['OverallQual', 'OverallCond', 'MasVnrArea', 'GrLivArea', 'FullBath',\n",
            "       'BedroomAbvGr', 'GarageCars', 'ScreenPorch', 'PoolArea', 'condition_ct',\n",
            "       'BsmtQual2', 'HeatingQC2', 'KitchenQual2', 'GarageQual2',\n",
            "       'MSSubClass_20', 'MSSubClass_30', 'MSSubClass_160', 'MSSubClass_180',\n",
            "       'LotShape_IR3', 'Utilities_AllPub', 'Neighborhood_NoRidge',\n",
            "       'Neighborhood_NridgHt', 'Neighborhood_StoneBr', 'RoofStyle_Flat',\n",
            "       'RoofStyle_Gable', 'RoofStyle_Shed', 'RoofMatl_CompShg',\n",
            "       'RoofMatl_WdShake', 'RoofMatl_WdShngl', 'Exterior2nd_ImStucc',\n",
            "       'MasVnrType_BrkFace', 'Heating_Wall', 'GarageType_2Types'],\n",
            "      dtype='object')\n"
          ]
        }
      ],
      "source": [
        "#Select significant variable P-values < 0.05\n",
        "significant_var = est.pvalues[est.pvalues <= .05].index[1:] \n",
        "print(significant_var)"
      ]
    },
    {
      "cell_type": "code",
      "execution_count": null,
      "metadata": {
        "colab": {
          "base_uri": "https://localhost:8080/",
          "height": 299
        },
        "id": "a6QgBBw5a9iW",
        "outputId": "b6ee5699-07be-40bb-dc7c-739209f898e4"
      },
      "outputs": [
        {
          "output_type": "execute_result",
          "data": {
            "text/plain": [
              "     OverallQual  OverallCond  MasVnrArea  GrLivArea  FullBath  BedroomAbvGr  \\\n",
              "969            6            5    0.010422  -0.800425         1             2   \n",
              "273            6            6    0.442149   0.221847         2             3   \n",
              "248            7            5   -0.011718   0.290379         2             3   \n",
              "382            7            5   -0.570750   0.535953         2             3   \n",
              "553            4            5   -0.570750  -0.741411         2             2   \n",
              "\n",
              "     GarageCars  ScreenPorch  PoolArea  condition_ct  ...  RoofStyle_Flat  \\\n",
              "969           1    -0.270208         0             0  ...               0   \n",
              "273           1    -0.270208         0             1  ...               0   \n",
              "248           2    -0.270208         0             0  ...               0   \n",
              "382           2    -0.270208         0             0  ...               0   \n",
              "553           2    -0.270208         0             1  ...               0   \n",
              "\n",
              "     RoofStyle_Gable  RoofStyle_Shed  RoofMatl_CompShg  RoofMatl_WdShake  \\\n",
              "969                0               0                 1                 0   \n",
              "273                0               0                 1                 0   \n",
              "248                1               0                 1                 0   \n",
              "382                1               0                 1                 0   \n",
              "553                1               0                 1                 0   \n",
              "\n",
              "     RoofMatl_WdShngl  Exterior2nd_ImStucc  MasVnrType_BrkFace  Heating_Wall  \\\n",
              "969                 0                    0                   1             0   \n",
              "273                 0                    0                   0             0   \n",
              "248                 0                    0                   1             0   \n",
              "382                 0                    0                   0             0   \n",
              "553                 0                    0                   0             0   \n",
              "\n",
              "     GarageType_2Types  \n",
              "969                  0  \n",
              "273                  0  \n",
              "248                  0  \n",
              "382                  0  \n",
              "553                  0  \n",
              "\n",
              "[5 rows x 33 columns]"
            ],
            "text/html": [
              "\n",
              "  <div id=\"df-dde2cf9c-43b2-4957-877b-20646e24d318\">\n",
              "    <div class=\"colab-df-container\">\n",
              "      <div>\n",
              "<style scoped>\n",
              "    .dataframe tbody tr th:only-of-type {\n",
              "        vertical-align: middle;\n",
              "    }\n",
              "\n",
              "    .dataframe tbody tr th {\n",
              "        vertical-align: top;\n",
              "    }\n",
              "\n",
              "    .dataframe thead th {\n",
              "        text-align: right;\n",
              "    }\n",
              "</style>\n",
              "<table border=\"1\" class=\"dataframe\">\n",
              "  <thead>\n",
              "    <tr style=\"text-align: right;\">\n",
              "      <th></th>\n",
              "      <th>OverallQual</th>\n",
              "      <th>OverallCond</th>\n",
              "      <th>MasVnrArea</th>\n",
              "      <th>GrLivArea</th>\n",
              "      <th>FullBath</th>\n",
              "      <th>BedroomAbvGr</th>\n",
              "      <th>GarageCars</th>\n",
              "      <th>ScreenPorch</th>\n",
              "      <th>PoolArea</th>\n",
              "      <th>condition_ct</th>\n",
              "      <th>...</th>\n",
              "      <th>RoofStyle_Flat</th>\n",
              "      <th>RoofStyle_Gable</th>\n",
              "      <th>RoofStyle_Shed</th>\n",
              "      <th>RoofMatl_CompShg</th>\n",
              "      <th>RoofMatl_WdShake</th>\n",
              "      <th>RoofMatl_WdShngl</th>\n",
              "      <th>Exterior2nd_ImStucc</th>\n",
              "      <th>MasVnrType_BrkFace</th>\n",
              "      <th>Heating_Wall</th>\n",
              "      <th>GarageType_2Types</th>\n",
              "    </tr>\n",
              "  </thead>\n",
              "  <tbody>\n",
              "    <tr>\n",
              "      <th>969</th>\n",
              "      <td>6</td>\n",
              "      <td>5</td>\n",
              "      <td>0.010422</td>\n",
              "      <td>-0.800425</td>\n",
              "      <td>1</td>\n",
              "      <td>2</td>\n",
              "      <td>1</td>\n",
              "      <td>-0.270208</td>\n",
              "      <td>0</td>\n",
              "      <td>0</td>\n",
              "      <td>...</td>\n",
              "      <td>0</td>\n",
              "      <td>0</td>\n",
              "      <td>0</td>\n",
              "      <td>1</td>\n",
              "      <td>0</td>\n",
              "      <td>0</td>\n",
              "      <td>0</td>\n",
              "      <td>1</td>\n",
              "      <td>0</td>\n",
              "      <td>0</td>\n",
              "    </tr>\n",
              "    <tr>\n",
              "      <th>273</th>\n",
              "      <td>6</td>\n",
              "      <td>6</td>\n",
              "      <td>0.442149</td>\n",
              "      <td>0.221847</td>\n",
              "      <td>2</td>\n",
              "      <td>3</td>\n",
              "      <td>1</td>\n",
              "      <td>-0.270208</td>\n",
              "      <td>0</td>\n",
              "      <td>1</td>\n",
              "      <td>...</td>\n",
              "      <td>0</td>\n",
              "      <td>0</td>\n",
              "      <td>0</td>\n",
              "      <td>1</td>\n",
              "      <td>0</td>\n",
              "      <td>0</td>\n",
              "      <td>0</td>\n",
              "      <td>0</td>\n",
              "      <td>0</td>\n",
              "      <td>0</td>\n",
              "    </tr>\n",
              "    <tr>\n",
              "      <th>248</th>\n",
              "      <td>7</td>\n",
              "      <td>5</td>\n",
              "      <td>-0.011718</td>\n",
              "      <td>0.290379</td>\n",
              "      <td>2</td>\n",
              "      <td>3</td>\n",
              "      <td>2</td>\n",
              "      <td>-0.270208</td>\n",
              "      <td>0</td>\n",
              "      <td>0</td>\n",
              "      <td>...</td>\n",
              "      <td>0</td>\n",
              "      <td>1</td>\n",
              "      <td>0</td>\n",
              "      <td>1</td>\n",
              "      <td>0</td>\n",
              "      <td>0</td>\n",
              "      <td>0</td>\n",
              "      <td>1</td>\n",
              "      <td>0</td>\n",
              "      <td>0</td>\n",
              "    </tr>\n",
              "    <tr>\n",
              "      <th>382</th>\n",
              "      <td>7</td>\n",
              "      <td>5</td>\n",
              "      <td>-0.570750</td>\n",
              "      <td>0.535953</td>\n",
              "      <td>2</td>\n",
              "      <td>3</td>\n",
              "      <td>2</td>\n",
              "      <td>-0.270208</td>\n",
              "      <td>0</td>\n",
              "      <td>0</td>\n",
              "      <td>...</td>\n",
              "      <td>0</td>\n",
              "      <td>1</td>\n",
              "      <td>0</td>\n",
              "      <td>1</td>\n",
              "      <td>0</td>\n",
              "      <td>0</td>\n",
              "      <td>0</td>\n",
              "      <td>0</td>\n",
              "      <td>0</td>\n",
              "      <td>0</td>\n",
              "    </tr>\n",
              "    <tr>\n",
              "      <th>553</th>\n",
              "      <td>4</td>\n",
              "      <td>5</td>\n",
              "      <td>-0.570750</td>\n",
              "      <td>-0.741411</td>\n",
              "      <td>2</td>\n",
              "      <td>2</td>\n",
              "      <td>2</td>\n",
              "      <td>-0.270208</td>\n",
              "      <td>0</td>\n",
              "      <td>1</td>\n",
              "      <td>...</td>\n",
              "      <td>0</td>\n",
              "      <td>1</td>\n",
              "      <td>0</td>\n",
              "      <td>1</td>\n",
              "      <td>0</td>\n",
              "      <td>0</td>\n",
              "      <td>0</td>\n",
              "      <td>0</td>\n",
              "      <td>0</td>\n",
              "      <td>0</td>\n",
              "    </tr>\n",
              "  </tbody>\n",
              "</table>\n",
              "<p>5 rows × 33 columns</p>\n",
              "</div>\n",
              "      <button class=\"colab-df-convert\" onclick=\"convertToInteractive('df-dde2cf9c-43b2-4957-877b-20646e24d318')\"\n",
              "              title=\"Convert this dataframe to an interactive table.\"\n",
              "              style=\"display:none;\">\n",
              "        \n",
              "  <svg xmlns=\"http://www.w3.org/2000/svg\" height=\"24px\"viewBox=\"0 0 24 24\"\n",
              "       width=\"24px\">\n",
              "    <path d=\"M0 0h24v24H0V0z\" fill=\"none\"/>\n",
              "    <path d=\"M18.56 5.44l.94 2.06.94-2.06 2.06-.94-2.06-.94-.94-2.06-.94 2.06-2.06.94zm-11 1L8.5 8.5l.94-2.06 2.06-.94-2.06-.94L8.5 2.5l-.94 2.06-2.06.94zm10 10l.94 2.06.94-2.06 2.06-.94-2.06-.94-.94-2.06-.94 2.06-2.06.94z\"/><path d=\"M17.41 7.96l-1.37-1.37c-.4-.4-.92-.59-1.43-.59-.52 0-1.04.2-1.43.59L10.3 9.45l-7.72 7.72c-.78.78-.78 2.05 0 2.83L4 21.41c.39.39.9.59 1.41.59.51 0 1.02-.2 1.41-.59l7.78-7.78 2.81-2.81c.8-.78.8-2.07 0-2.86zM5.41 20L4 18.59l7.72-7.72 1.47 1.35L5.41 20z\"/>\n",
              "  </svg>\n",
              "      </button>\n",
              "      \n",
              "  <style>\n",
              "    .colab-df-container {\n",
              "      display:flex;\n",
              "      flex-wrap:wrap;\n",
              "      gap: 12px;\n",
              "    }\n",
              "\n",
              "    .colab-df-convert {\n",
              "      background-color: #E8F0FE;\n",
              "      border: none;\n",
              "      border-radius: 50%;\n",
              "      cursor: pointer;\n",
              "      display: none;\n",
              "      fill: #1967D2;\n",
              "      height: 32px;\n",
              "      padding: 0 0 0 0;\n",
              "      width: 32px;\n",
              "    }\n",
              "\n",
              "    .colab-df-convert:hover {\n",
              "      background-color: #E2EBFA;\n",
              "      box-shadow: 0px 1px 2px rgba(60, 64, 67, 0.3), 0px 1px 3px 1px rgba(60, 64, 67, 0.15);\n",
              "      fill: #174EA6;\n",
              "    }\n",
              "\n",
              "    [theme=dark] .colab-df-convert {\n",
              "      background-color: #3B4455;\n",
              "      fill: #D2E3FC;\n",
              "    }\n",
              "\n",
              "    [theme=dark] .colab-df-convert:hover {\n",
              "      background-color: #434B5C;\n",
              "      box-shadow: 0px 1px 3px 1px rgba(0, 0, 0, 0.15);\n",
              "      filter: drop-shadow(0px 1px 2px rgba(0, 0, 0, 0.3));\n",
              "      fill: #FFFFFF;\n",
              "    }\n",
              "  </style>\n",
              "\n",
              "      <script>\n",
              "        const buttonEl =\n",
              "          document.querySelector('#df-dde2cf9c-43b2-4957-877b-20646e24d318 button.colab-df-convert');\n",
              "        buttonEl.style.display =\n",
              "          google.colab.kernel.accessAllowed ? 'block' : 'none';\n",
              "\n",
              "        async function convertToInteractive(key) {\n",
              "          const element = document.querySelector('#df-dde2cf9c-43b2-4957-877b-20646e24d318');\n",
              "          const dataTable =\n",
              "            await google.colab.kernel.invokeFunction('convertToInteractive',\n",
              "                                                     [key], {});\n",
              "          if (!dataTable) return;\n",
              "\n",
              "          const docLinkHtml = 'Like what you see? Visit the ' +\n",
              "            '<a target=\"_blank\" href=https://colab.research.google.com/notebooks/data_table.ipynb>data table notebook</a>'\n",
              "            + ' to learn more about interactive tables.';\n",
              "          element.innerHTML = '';\n",
              "          dataTable['output_type'] = 'display_data';\n",
              "          await google.colab.output.renderOutput(dataTable, element);\n",
              "          const docLink = document.createElement('div');\n",
              "          docLink.innerHTML = docLinkHtml;\n",
              "          element.appendChild(docLink);\n",
              "        }\n",
              "      </script>\n",
              "    </div>\n",
              "  </div>\n",
              "  "
            ]
          },
          "metadata": {},
          "execution_count": 613
        }
      ],
      "source": [
        "X_train4= X_train3[significant_var]\n",
        "X_train4.head()"
      ]
    },
    {
      "cell_type": "markdown",
      "metadata": {
        "id": "YHhCV_qWZ_v1"
      },
      "source": [
        "Now we have chosen 20 variables that are non-multicollinear and statistically significant"
      ]
    },
    {
      "cell_type": "markdown",
      "metadata": {
        "id": "mZ8B8ISWfwdZ"
      },
      "source": [
        "### Question 5. Using ordinary least squares (OLS), try to predict house prices on this dataset. Choose the features (or combinations of features) you would like to use or ignore, provided you justify your choice. Evaluate your predictions on the training set using the MSE and the R2 score. For this question, you need to implement OLS from scratch without using any external libraries or packages."
      ]
    },
    {
      "cell_type": "markdown",
      "metadata": {
        "id": "RoAWIL_T9m5q"
      },
      "source": [
        "6. Select features and create OLS model using Train Data"
      ]
    },
    {
      "cell_type": "code",
      "execution_count": null,
      "metadata": {
        "id": "LwdiihKaE-aO"
      },
      "outputs": [],
      "source": [
        "#Calculate the theta\n",
        "X=np.asmatrix(X_train4)\n",
        "y=y_train.values\n",
        "X_transpose = X.transpose()"
      ]
    },
    {
      "cell_type": "code",
      "execution_count": null,
      "metadata": {
        "colab": {
          "base_uri": "https://localhost:8080/"
        },
        "id": "4nB0CvXRxEWF",
        "outputId": "6e5abee6-4dfa-4a31-cb43-95e708d2e840"
      },
      "outputs": [
        {
          "output_type": "execute_result",
          "data": {
            "text/plain": [
              "(1, 33)"
            ]
          },
          "metadata": {},
          "execution_count": 615
        }
      ],
      "source": [
        "theta=np.linalg.pinv(X_transpose.dot(X)).dot(X_transpose).dot(y)\n",
        "theta\n",
        "theta.shape"
      ]
    },
    {
      "cell_type": "code",
      "execution_count": null,
      "metadata": {
        "colab": {
          "base_uri": "https://localhost:8080/"
        },
        "id": "x0fQglZ7GO1A",
        "outputId": "e019c63d-40cd-4571-b803-154a8ea66c58"
      },
      "outputs": [
        {
          "output_type": "execute_result",
          "data": {
            "text/plain": [
              "matrix([[118278.3625534 , 180374.60443384, 198495.20257477, ...,\n",
              "         126540.76484608, 150297.15712108, 298169.80981008]])"
            ]
          },
          "metadata": {},
          "execution_count": 616
        }
      ],
      "source": [
        "#Calculate y_estimate\n",
        "y_estimate=X.dot(theta.transpose()).transpose()\n",
        "y_estimate"
      ]
    },
    {
      "cell_type": "code",
      "execution_count": null,
      "metadata": {
        "colab": {
          "base_uri": "https://localhost:8080/"
        },
        "id": "QuEpLsZAGXA2",
        "outputId": "56bea3df-2a6a-4bd8-b0fc-11ba4d98d03f"
      },
      "outputs": [
        {
          "output_type": "execute_result",
          "data": {
            "text/plain": [
              "matrix([[1.00698384e+09]])"
            ]
          },
          "metadata": {},
          "execution_count": 617
        }
      ],
      "source": [
        "#Calculate MSE\n",
        "mse=(((y-y_estimate).dot((y-y_estimate).transpose())))/len(y)\n",
        "mse"
      ]
    },
    {
      "cell_type": "code",
      "execution_count": null,
      "metadata": {
        "colab": {
          "base_uri": "https://localhost:8080/"
        },
        "id": "D4bhTIAGGdpt",
        "outputId": "62e1b53a-252b-4500-8f1e-73b4d8a09d56"
      },
      "outputs": [
        {
          "output_type": "execute_result",
          "data": {
            "text/plain": [
              "0.8504705975116206"
            ]
          },
          "metadata": {},
          "execution_count": 618
        }
      ],
      "source": [
        "#Calculate R2\n",
        "y_mean = np.mean(y)\n",
        "\n",
        "ss_tot=(y-y_mean).dot((y-y_mean).transpose())\n",
        "ss_res=((y-y_estimate).dot((y-y_estimate).transpose()))[(0,0)]\n",
        "r2=1-ss_res/ss_tot\n",
        "r2"
      ]
    },
    {
      "cell_type": "markdown",
      "metadata": {
        "id": "3KSQkX02-ZOS"
      },
      "source": [
        "7. Evaluate model to Holdout data and measure the R2"
      ]
    },
    {
      "cell_type": "code",
      "execution_count": null,
      "metadata": {
        "id": "ayk7zdyH-pfk"
      },
      "outputs": [],
      "source": [
        "X_val2= X_val[X_train4.columns] #select significant variables in holdout data\n",
        "X2=np.asmatrix(X_val2)\n",
        "y2=y_val.values\n",
        "X_transpose2 = X2.transpose()"
      ]
    },
    {
      "cell_type": "code",
      "execution_count": null,
      "metadata": {
        "id": "G6kD8Led_Glq"
      },
      "outputs": [],
      "source": [
        "#Calculate y_estimate\n",
        "y_estimate2= X2.dot(theta.transpose()).transpose()\n",
        "y_estimate2= np.array(y_estimate2[0,:])"
      ]
    },
    {
      "cell_type": "code",
      "execution_count": null,
      "metadata": {
        "colab": {
          "base_uri": "https://localhost:8080/"
        },
        "id": "v5UT4o9N_knQ",
        "outputId": "86d779ec-f719-49bf-bc26-de149035d2b8"
      },
      "outputs": [
        {
          "output_type": "execute_result",
          "data": {
            "text/plain": [
              "array([[1.1587204e+09]])"
            ]
          },
          "metadata": {},
          "execution_count": 621
        }
      ],
      "source": [
        "#Calculate MSE\n",
        "mse2=(((y2-y_estimate2).dot((y2-y_estimate2).transpose())))/len(y2)\n",
        "mse2"
      ]
    },
    {
      "cell_type": "code",
      "execution_count": null,
      "metadata": {
        "colab": {
          "base_uri": "https://localhost:8080/"
        },
        "id": "13--19dvAAdm",
        "outputId": "2b6ed155-3089-4eba-b0a8-999415b598ca"
      },
      "outputs": [
        {
          "output_type": "execute_result",
          "data": {
            "text/plain": [
              "0.7812124676646445"
            ]
          },
          "metadata": {},
          "execution_count": 622
        }
      ],
      "source": [
        "#Calculate R2\n",
        "y_mean2 = np.mean(y2)\n",
        "ss_tot2=(y2-y_mean2).dot((y2-y_mean2).transpose())\n",
        "ss_res2=((y2-y_estimate2).dot((y2-y_estimate2).transpose()))[(0,0)]\n",
        "r22=1-ss_res2/ss_tot2\n",
        "r22"
      ]
    },
    {
      "cell_type": "markdown",
      "metadata": {
        "id": "GxUNsd-5ERs8"
      },
      "source": [
        "Since the R2 forvalidation set is at pretty good level of 78%, we feel confortable with our model and would like to retain the model with all training data+validation data"
      ]
    },
    {
      "cell_type": "markdown",
      "metadata": {
        "id": "GM_9ZAJNLz9N"
      },
      "source": [
        "8.  Re-train the model now using all training dataset"
      ]
    },
    {
      "cell_type": "code",
      "execution_count": null,
      "metadata": {
        "colab": {
          "base_uri": "https://localhost:8080/",
          "height": 299
        },
        "id": "x6yLmt8YL5D6",
        "outputId": "337f2bf4-4825-4fa7-8227-dee3302278da"
      },
      "outputs": [
        {
          "output_type": "execute_result",
          "data": {
            "text/plain": [
              "     OverallQual  OverallCond  MasVnrArea  GrLivArea  FullBath  BedroomAbvGr  \\\n",
              "969            6            5    0.010422  -0.800425         1             2   \n",
              "273            6            6    0.442149   0.221847         2             3   \n",
              "248            7            5   -0.011718   0.290379         2             3   \n",
              "382            7            5   -0.570750   0.535953         2             3   \n",
              "553            4            5   -0.570750  -0.741411         2             2   \n",
              "\n",
              "     GarageCars  ScreenPorch  PoolArea  condition_ct  ...  RoofStyle_Flat  \\\n",
              "969           1    -0.270208         0             0  ...               0   \n",
              "273           1    -0.270208         0             1  ...               0   \n",
              "248           2    -0.270208         0             0  ...               0   \n",
              "382           2    -0.270208         0             0  ...               0   \n",
              "553           2    -0.270208         0             1  ...               0   \n",
              "\n",
              "     RoofStyle_Gable  RoofStyle_Shed  RoofMatl_CompShg  RoofMatl_WdShake  \\\n",
              "969                0               0                 1                 0   \n",
              "273                0               0                 1                 0   \n",
              "248                1               0                 1                 0   \n",
              "382                1               0                 1                 0   \n",
              "553                1               0                 1                 0   \n",
              "\n",
              "     RoofMatl_WdShngl  Exterior2nd_ImStucc  MasVnrType_BrkFace  Heating_Wall  \\\n",
              "969                 0                    0                   1             0   \n",
              "273                 0                    0                   0             0   \n",
              "248                 0                    0                   1             0   \n",
              "382                 0                    0                   0             0   \n",
              "553                 0                    0                   0             0   \n",
              "\n",
              "     GarageType_2Types  \n",
              "969                  0  \n",
              "273                  0  \n",
              "248                  0  \n",
              "382                  0  \n",
              "553                  0  \n",
              "\n",
              "[5 rows x 33 columns]"
            ],
            "text/html": [
              "\n",
              "  <div id=\"df-0a234d17-405a-4f55-a1b8-4f243512aabb\">\n",
              "    <div class=\"colab-df-container\">\n",
              "      <div>\n",
              "<style scoped>\n",
              "    .dataframe tbody tr th:only-of-type {\n",
              "        vertical-align: middle;\n",
              "    }\n",
              "\n",
              "    .dataframe tbody tr th {\n",
              "        vertical-align: top;\n",
              "    }\n",
              "\n",
              "    .dataframe thead th {\n",
              "        text-align: right;\n",
              "    }\n",
              "</style>\n",
              "<table border=\"1\" class=\"dataframe\">\n",
              "  <thead>\n",
              "    <tr style=\"text-align: right;\">\n",
              "      <th></th>\n",
              "      <th>OverallQual</th>\n",
              "      <th>OverallCond</th>\n",
              "      <th>MasVnrArea</th>\n",
              "      <th>GrLivArea</th>\n",
              "      <th>FullBath</th>\n",
              "      <th>BedroomAbvGr</th>\n",
              "      <th>GarageCars</th>\n",
              "      <th>ScreenPorch</th>\n",
              "      <th>PoolArea</th>\n",
              "      <th>condition_ct</th>\n",
              "      <th>...</th>\n",
              "      <th>RoofStyle_Flat</th>\n",
              "      <th>RoofStyle_Gable</th>\n",
              "      <th>RoofStyle_Shed</th>\n",
              "      <th>RoofMatl_CompShg</th>\n",
              "      <th>RoofMatl_WdShake</th>\n",
              "      <th>RoofMatl_WdShngl</th>\n",
              "      <th>Exterior2nd_ImStucc</th>\n",
              "      <th>MasVnrType_BrkFace</th>\n",
              "      <th>Heating_Wall</th>\n",
              "      <th>GarageType_2Types</th>\n",
              "    </tr>\n",
              "  </thead>\n",
              "  <tbody>\n",
              "    <tr>\n",
              "      <th>969</th>\n",
              "      <td>6</td>\n",
              "      <td>5</td>\n",
              "      <td>0.010422</td>\n",
              "      <td>-0.800425</td>\n",
              "      <td>1</td>\n",
              "      <td>2</td>\n",
              "      <td>1</td>\n",
              "      <td>-0.270208</td>\n",
              "      <td>0</td>\n",
              "      <td>0</td>\n",
              "      <td>...</td>\n",
              "      <td>0</td>\n",
              "      <td>0</td>\n",
              "      <td>0</td>\n",
              "      <td>1</td>\n",
              "      <td>0</td>\n",
              "      <td>0</td>\n",
              "      <td>0</td>\n",
              "      <td>1</td>\n",
              "      <td>0</td>\n",
              "      <td>0</td>\n",
              "    </tr>\n",
              "    <tr>\n",
              "      <th>273</th>\n",
              "      <td>6</td>\n",
              "      <td>6</td>\n",
              "      <td>0.442149</td>\n",
              "      <td>0.221847</td>\n",
              "      <td>2</td>\n",
              "      <td>3</td>\n",
              "      <td>1</td>\n",
              "      <td>-0.270208</td>\n",
              "      <td>0</td>\n",
              "      <td>1</td>\n",
              "      <td>...</td>\n",
              "      <td>0</td>\n",
              "      <td>0</td>\n",
              "      <td>0</td>\n",
              "      <td>1</td>\n",
              "      <td>0</td>\n",
              "      <td>0</td>\n",
              "      <td>0</td>\n",
              "      <td>0</td>\n",
              "      <td>0</td>\n",
              "      <td>0</td>\n",
              "    </tr>\n",
              "    <tr>\n",
              "      <th>248</th>\n",
              "      <td>7</td>\n",
              "      <td>5</td>\n",
              "      <td>-0.011718</td>\n",
              "      <td>0.290379</td>\n",
              "      <td>2</td>\n",
              "      <td>3</td>\n",
              "      <td>2</td>\n",
              "      <td>-0.270208</td>\n",
              "      <td>0</td>\n",
              "      <td>0</td>\n",
              "      <td>...</td>\n",
              "      <td>0</td>\n",
              "      <td>1</td>\n",
              "      <td>0</td>\n",
              "      <td>1</td>\n",
              "      <td>0</td>\n",
              "      <td>0</td>\n",
              "      <td>0</td>\n",
              "      <td>1</td>\n",
              "      <td>0</td>\n",
              "      <td>0</td>\n",
              "    </tr>\n",
              "    <tr>\n",
              "      <th>382</th>\n",
              "      <td>7</td>\n",
              "      <td>5</td>\n",
              "      <td>-0.570750</td>\n",
              "      <td>0.535953</td>\n",
              "      <td>2</td>\n",
              "      <td>3</td>\n",
              "      <td>2</td>\n",
              "      <td>-0.270208</td>\n",
              "      <td>0</td>\n",
              "      <td>0</td>\n",
              "      <td>...</td>\n",
              "      <td>0</td>\n",
              "      <td>1</td>\n",
              "      <td>0</td>\n",
              "      <td>1</td>\n",
              "      <td>0</td>\n",
              "      <td>0</td>\n",
              "      <td>0</td>\n",
              "      <td>0</td>\n",
              "      <td>0</td>\n",
              "      <td>0</td>\n",
              "    </tr>\n",
              "    <tr>\n",
              "      <th>553</th>\n",
              "      <td>4</td>\n",
              "      <td>5</td>\n",
              "      <td>-0.570750</td>\n",
              "      <td>-0.741411</td>\n",
              "      <td>2</td>\n",
              "      <td>2</td>\n",
              "      <td>2</td>\n",
              "      <td>-0.270208</td>\n",
              "      <td>0</td>\n",
              "      <td>1</td>\n",
              "      <td>...</td>\n",
              "      <td>0</td>\n",
              "      <td>1</td>\n",
              "      <td>0</td>\n",
              "      <td>1</td>\n",
              "      <td>0</td>\n",
              "      <td>0</td>\n",
              "      <td>0</td>\n",
              "      <td>0</td>\n",
              "      <td>0</td>\n",
              "      <td>0</td>\n",
              "    </tr>\n",
              "  </tbody>\n",
              "</table>\n",
              "<p>5 rows × 33 columns</p>\n",
              "</div>\n",
              "      <button class=\"colab-df-convert\" onclick=\"convertToInteractive('df-0a234d17-405a-4f55-a1b8-4f243512aabb')\"\n",
              "              title=\"Convert this dataframe to an interactive table.\"\n",
              "              style=\"display:none;\">\n",
              "        \n",
              "  <svg xmlns=\"http://www.w3.org/2000/svg\" height=\"24px\"viewBox=\"0 0 24 24\"\n",
              "       width=\"24px\">\n",
              "    <path d=\"M0 0h24v24H0V0z\" fill=\"none\"/>\n",
              "    <path d=\"M18.56 5.44l.94 2.06.94-2.06 2.06-.94-2.06-.94-.94-2.06-.94 2.06-2.06.94zm-11 1L8.5 8.5l.94-2.06 2.06-.94-2.06-.94L8.5 2.5l-.94 2.06-2.06.94zm10 10l.94 2.06.94-2.06 2.06-.94-2.06-.94-.94-2.06-.94 2.06-2.06.94z\"/><path d=\"M17.41 7.96l-1.37-1.37c-.4-.4-.92-.59-1.43-.59-.52 0-1.04.2-1.43.59L10.3 9.45l-7.72 7.72c-.78.78-.78 2.05 0 2.83L4 21.41c.39.39.9.59 1.41.59.51 0 1.02-.2 1.41-.59l7.78-7.78 2.81-2.81c.8-.78.8-2.07 0-2.86zM5.41 20L4 18.59l7.72-7.72 1.47 1.35L5.41 20z\"/>\n",
              "  </svg>\n",
              "      </button>\n",
              "      \n",
              "  <style>\n",
              "    .colab-df-container {\n",
              "      display:flex;\n",
              "      flex-wrap:wrap;\n",
              "      gap: 12px;\n",
              "    }\n",
              "\n",
              "    .colab-df-convert {\n",
              "      background-color: #E8F0FE;\n",
              "      border: none;\n",
              "      border-radius: 50%;\n",
              "      cursor: pointer;\n",
              "      display: none;\n",
              "      fill: #1967D2;\n",
              "      height: 32px;\n",
              "      padding: 0 0 0 0;\n",
              "      width: 32px;\n",
              "    }\n",
              "\n",
              "    .colab-df-convert:hover {\n",
              "      background-color: #E2EBFA;\n",
              "      box-shadow: 0px 1px 2px rgba(60, 64, 67, 0.3), 0px 1px 3px 1px rgba(60, 64, 67, 0.15);\n",
              "      fill: #174EA6;\n",
              "    }\n",
              "\n",
              "    [theme=dark] .colab-df-convert {\n",
              "      background-color: #3B4455;\n",
              "      fill: #D2E3FC;\n",
              "    }\n",
              "\n",
              "    [theme=dark] .colab-df-convert:hover {\n",
              "      background-color: #434B5C;\n",
              "      box-shadow: 0px 1px 3px 1px rgba(0, 0, 0, 0.15);\n",
              "      filter: drop-shadow(0px 1px 2px rgba(0, 0, 0, 0.3));\n",
              "      fill: #FFFFFF;\n",
              "    }\n",
              "  </style>\n",
              "\n",
              "      <script>\n",
              "        const buttonEl =\n",
              "          document.querySelector('#df-0a234d17-405a-4f55-a1b8-4f243512aabb button.colab-df-convert');\n",
              "        buttonEl.style.display =\n",
              "          google.colab.kernel.accessAllowed ? 'block' : 'none';\n",
              "\n",
              "        async function convertToInteractive(key) {\n",
              "          const element = document.querySelector('#df-0a234d17-405a-4f55-a1b8-4f243512aabb');\n",
              "          const dataTable =\n",
              "            await google.colab.kernel.invokeFunction('convertToInteractive',\n",
              "                                                     [key], {});\n",
              "          if (!dataTable) return;\n",
              "\n",
              "          const docLinkHtml = 'Like what you see? Visit the ' +\n",
              "            '<a target=\"_blank\" href=https://colab.research.google.com/notebooks/data_table.ipynb>data table notebook</a>'\n",
              "            + ' to learn more about interactive tables.';\n",
              "          element.innerHTML = '';\n",
              "          dataTable['output_type'] = 'display_data';\n",
              "          await google.colab.output.renderOutput(dataTable, element);\n",
              "          const docLink = document.createElement('div');\n",
              "          docLink.innerHTML = docLinkHtml;\n",
              "          element.appendChild(docLink);\n",
              "        }\n",
              "      </script>\n",
              "    </div>\n",
              "  </div>\n",
              "  "
            ]
          },
          "metadata": {},
          "execution_count": 623
        }
      ],
      "source": [
        "#Train model\n",
        "\n",
        "X_train_all= pd.concat([X_train4, X_val2])\n",
        "Y_train_all=pd.concat([y_train,y_val])\n",
        "X_train_all.head()"
      ]
    },
    {
      "cell_type": "code",
      "execution_count": null,
      "metadata": {
        "colab": {
          "base_uri": "https://localhost:8080/"
        },
        "id": "kXboKAl8EFFM",
        "outputId": "2047a76d-020a-4275-ab64-4c26ed38b683"
      },
      "outputs": [
        {
          "output_type": "execute_result",
          "data": {
            "text/plain": [
              "matrix([[ 1.18274393e+04,  3.74927431e+03,  6.96985921e+03,\n",
              "          3.13203151e+04,  4.78508396e+03, -6.30666757e+03,\n",
              "          1.41875744e+04,  2.15946519e+03,  1.95949015e+01,\n",
              "         -1.25042909e+04,  1.09978004e+04,  2.02083179e+03,\n",
              "          1.10979524e+04, -2.99890832e+03,  1.90223176e+04,\n",
              "          2.54700914e+03, -2.87643113e+04, -6.28178591e+03,\n",
              "         -6.31599289e+03, -7.77103659e+04,  4.24307855e+04,\n",
              "          4.05971009e+04,  5.26513756e+04,  7.09102805e+04,\n",
              "         -5.82559526e+03,  2.95896526e+04,  7.22299561e+04,\n",
              "          5.36327959e+04,  1.63448945e+05,  2.41452693e+04,\n",
              "         -7.95042145e+03,  2.38670266e+04, -2.27377577e+04]])"
            ]
          },
          "metadata": {},
          "execution_count": 624
        }
      ],
      "source": [
        "#Calculate theta\n",
        "X=np.asmatrix(X_train_all)\n",
        "y=Y_train_all.values\n",
        "X_transpose = X.transpose()\n",
        "theta_all=np.linalg.pinv(X_transpose.dot(X)).dot(X_transpose).dot(y)\n",
        "theta_all"
      ]
    },
    {
      "cell_type": "code",
      "execution_count": null,
      "metadata": {
        "colab": {
          "base_uri": "https://localhost:8080/"
        },
        "id": "n4TsQkgGprZr",
        "outputId": "1b4bd308-4ee7-4438-8065-577fd016289f"
      },
      "outputs": [
        {
          "output_type": "execute_result",
          "data": {
            "text/plain": [
              "(1, 33)"
            ]
          },
          "metadata": {},
          "execution_count": 625
        }
      ],
      "source": [
        "theta_all.shape"
      ]
    },
    {
      "cell_type": "markdown",
      "metadata": {
        "id": "ktJEYr_4FkOy"
      },
      "source": [
        "9. Predict the housing price using test data"
      ]
    },
    {
      "cell_type": "markdown",
      "metadata": {
        "id": "x75zf2P40z90"
      },
      "source": [
        "Cleaning test data by imputing null values, normalizing continous variable, and encoding categorical values,- just as what we've done for training data"
      ]
    },
    {
      "cell_type": "code",
      "execution_count": null,
      "metadata": {
        "id": "Hj2SR9MmUlnR"
      },
      "outputs": [],
      "source": [
        "df_t2= one_hot_encoded_test.copy()"
      ]
    },
    {
      "cell_type": "code",
      "execution_count": null,
      "metadata": {
        "colab": {
          "base_uri": "https://localhost:8080/"
        },
        "id": "uClpdiRiTHZq",
        "outputId": "b2a980b9-9061-4a61-a339-e10dfc136bfc"
      },
      "outputs": [
        {
          "output_type": "execute_result",
          "data": {
            "text/plain": [
              "LotFrontage            0\n",
              "Exterior2nd_Plywood    0\n",
              "Exterior2nd_Stucco     0\n",
              "Exterior2nd_VinylSd    0\n",
              "Exterior2nd_Wd Sdng    0\n",
              "Exterior2nd_Wd Shng    0\n",
              "MasVnrType_BrkCmn      0\n",
              "MasVnrType_BrkFace     0\n",
              "MasVnrType_None        0\n",
              "MasVnrType_Stone       0\n",
              "dtype: int64"
            ]
          },
          "metadata": {},
          "execution_count": 627
        }
      ],
      "source": [
        "df_t2.isnull().sum().sort_values(ascending=False).head(10)"
      ]
    },
    {
      "cell_type": "code",
      "execution_count": null,
      "metadata": {
        "colab": {
          "base_uri": "https://localhost:8080/",
          "height": 299
        },
        "id": "gITJcLWdLLHb",
        "outputId": "89d4bfe2-07cf-4776-e8e5-b2a71a3d860c"
      },
      "outputs": [
        {
          "output_type": "execute_result",
          "data": {
            "text/plain": [
              "   OverallQual  OverallCond  MasVnrArea  GrLivArea  FullBath  BedroomAbvGr  \\\n",
              "0            5            6   -0.570750  -1.179256         1             2   \n",
              "1            6            6    0.027027  -0.354966         1             3   \n",
              "2            5            5   -0.570750   0.216136         2             3   \n",
              "3            6            6   -0.460051   0.168544         2             3   \n",
              "4            8            5   -0.570750  -0.448246         2             2   \n",
              "\n",
              "   GarageCars  ScreenPorch  PoolArea  condition_ct  ...  RoofStyle_Flat  \\\n",
              "0         1.0     1.882709         0             1  ...               0   \n",
              "1         1.0    -0.270208         0             0  ...               0   \n",
              "2         2.0    -0.270208         0             0  ...               0   \n",
              "3         2.0    -0.270208         0             0  ...               0   \n",
              "4         2.0     2.313293         0             0  ...               0   \n",
              "\n",
              "   RoofStyle_Gable  RoofStyle_Shed  RoofMatl_CompShg  RoofMatl_WdShake  \\\n",
              "0                1               0                 1                 0   \n",
              "1                0               0                 1                 0   \n",
              "2                1               0                 1                 0   \n",
              "3                1               0                 1                 0   \n",
              "4                1               0                 1                 0   \n",
              "\n",
              "   RoofMatl_WdShngl  Exterior2nd_ImStucc  MasVnrType_BrkFace  Heating_Wall  \\\n",
              "0                 0                    0                   0             0   \n",
              "1                 0                    0                   1             0   \n",
              "2                 0                    0                   0             0   \n",
              "3                 0                    0                   1             0   \n",
              "4                 0                    0                   0             0   \n",
              "\n",
              "   GarageType_2Types  \n",
              "0                  0  \n",
              "1                  0  \n",
              "2                  0  \n",
              "3                  0  \n",
              "4                  0  \n",
              "\n",
              "[5 rows x 33 columns]"
            ],
            "text/html": [
              "\n",
              "  <div id=\"df-c0434e71-4690-4966-a963-36337a653a22\">\n",
              "    <div class=\"colab-df-container\">\n",
              "      <div>\n",
              "<style scoped>\n",
              "    .dataframe tbody tr th:only-of-type {\n",
              "        vertical-align: middle;\n",
              "    }\n",
              "\n",
              "    .dataframe tbody tr th {\n",
              "        vertical-align: top;\n",
              "    }\n",
              "\n",
              "    .dataframe thead th {\n",
              "        text-align: right;\n",
              "    }\n",
              "</style>\n",
              "<table border=\"1\" class=\"dataframe\">\n",
              "  <thead>\n",
              "    <tr style=\"text-align: right;\">\n",
              "      <th></th>\n",
              "      <th>OverallQual</th>\n",
              "      <th>OverallCond</th>\n",
              "      <th>MasVnrArea</th>\n",
              "      <th>GrLivArea</th>\n",
              "      <th>FullBath</th>\n",
              "      <th>BedroomAbvGr</th>\n",
              "      <th>GarageCars</th>\n",
              "      <th>ScreenPorch</th>\n",
              "      <th>PoolArea</th>\n",
              "      <th>condition_ct</th>\n",
              "      <th>...</th>\n",
              "      <th>RoofStyle_Flat</th>\n",
              "      <th>RoofStyle_Gable</th>\n",
              "      <th>RoofStyle_Shed</th>\n",
              "      <th>RoofMatl_CompShg</th>\n",
              "      <th>RoofMatl_WdShake</th>\n",
              "      <th>RoofMatl_WdShngl</th>\n",
              "      <th>Exterior2nd_ImStucc</th>\n",
              "      <th>MasVnrType_BrkFace</th>\n",
              "      <th>Heating_Wall</th>\n",
              "      <th>GarageType_2Types</th>\n",
              "    </tr>\n",
              "  </thead>\n",
              "  <tbody>\n",
              "    <tr>\n",
              "      <th>0</th>\n",
              "      <td>5</td>\n",
              "      <td>6</td>\n",
              "      <td>-0.570750</td>\n",
              "      <td>-1.179256</td>\n",
              "      <td>1</td>\n",
              "      <td>2</td>\n",
              "      <td>1.0</td>\n",
              "      <td>1.882709</td>\n",
              "      <td>0</td>\n",
              "      <td>1</td>\n",
              "      <td>...</td>\n",
              "      <td>0</td>\n",
              "      <td>1</td>\n",
              "      <td>0</td>\n",
              "      <td>1</td>\n",
              "      <td>0</td>\n",
              "      <td>0</td>\n",
              "      <td>0</td>\n",
              "      <td>0</td>\n",
              "      <td>0</td>\n",
              "      <td>0</td>\n",
              "    </tr>\n",
              "    <tr>\n",
              "      <th>1</th>\n",
              "      <td>6</td>\n",
              "      <td>6</td>\n",
              "      <td>0.027027</td>\n",
              "      <td>-0.354966</td>\n",
              "      <td>1</td>\n",
              "      <td>3</td>\n",
              "      <td>1.0</td>\n",
              "      <td>-0.270208</td>\n",
              "      <td>0</td>\n",
              "      <td>0</td>\n",
              "      <td>...</td>\n",
              "      <td>0</td>\n",
              "      <td>0</td>\n",
              "      <td>0</td>\n",
              "      <td>1</td>\n",
              "      <td>0</td>\n",
              "      <td>0</td>\n",
              "      <td>0</td>\n",
              "      <td>1</td>\n",
              "      <td>0</td>\n",
              "      <td>0</td>\n",
              "    </tr>\n",
              "    <tr>\n",
              "      <th>2</th>\n",
              "      <td>5</td>\n",
              "      <td>5</td>\n",
              "      <td>-0.570750</td>\n",
              "      <td>0.216136</td>\n",
              "      <td>2</td>\n",
              "      <td>3</td>\n",
              "      <td>2.0</td>\n",
              "      <td>-0.270208</td>\n",
              "      <td>0</td>\n",
              "      <td>0</td>\n",
              "      <td>...</td>\n",
              "      <td>0</td>\n",
              "      <td>1</td>\n",
              "      <td>0</td>\n",
              "      <td>1</td>\n",
              "      <td>0</td>\n",
              "      <td>0</td>\n",
              "      <td>0</td>\n",
              "      <td>0</td>\n",
              "      <td>0</td>\n",
              "      <td>0</td>\n",
              "    </tr>\n",
              "    <tr>\n",
              "      <th>3</th>\n",
              "      <td>6</td>\n",
              "      <td>6</td>\n",
              "      <td>-0.460051</td>\n",
              "      <td>0.168544</td>\n",
              "      <td>2</td>\n",
              "      <td>3</td>\n",
              "      <td>2.0</td>\n",
              "      <td>-0.270208</td>\n",
              "      <td>0</td>\n",
              "      <td>0</td>\n",
              "      <td>...</td>\n",
              "      <td>0</td>\n",
              "      <td>1</td>\n",
              "      <td>0</td>\n",
              "      <td>1</td>\n",
              "      <td>0</td>\n",
              "      <td>0</td>\n",
              "      <td>0</td>\n",
              "      <td>1</td>\n",
              "      <td>0</td>\n",
              "      <td>0</td>\n",
              "    </tr>\n",
              "    <tr>\n",
              "      <th>4</th>\n",
              "      <td>8</td>\n",
              "      <td>5</td>\n",
              "      <td>-0.570750</td>\n",
              "      <td>-0.448246</td>\n",
              "      <td>2</td>\n",
              "      <td>2</td>\n",
              "      <td>2.0</td>\n",
              "      <td>2.313293</td>\n",
              "      <td>0</td>\n",
              "      <td>0</td>\n",
              "      <td>...</td>\n",
              "      <td>0</td>\n",
              "      <td>1</td>\n",
              "      <td>0</td>\n",
              "      <td>1</td>\n",
              "      <td>0</td>\n",
              "      <td>0</td>\n",
              "      <td>0</td>\n",
              "      <td>0</td>\n",
              "      <td>0</td>\n",
              "      <td>0</td>\n",
              "    </tr>\n",
              "  </tbody>\n",
              "</table>\n",
              "<p>5 rows × 33 columns</p>\n",
              "</div>\n",
              "      <button class=\"colab-df-convert\" onclick=\"convertToInteractive('df-c0434e71-4690-4966-a963-36337a653a22')\"\n",
              "              title=\"Convert this dataframe to an interactive table.\"\n",
              "              style=\"display:none;\">\n",
              "        \n",
              "  <svg xmlns=\"http://www.w3.org/2000/svg\" height=\"24px\"viewBox=\"0 0 24 24\"\n",
              "       width=\"24px\">\n",
              "    <path d=\"M0 0h24v24H0V0z\" fill=\"none\"/>\n",
              "    <path d=\"M18.56 5.44l.94 2.06.94-2.06 2.06-.94-2.06-.94-.94-2.06-.94 2.06-2.06.94zm-11 1L8.5 8.5l.94-2.06 2.06-.94-2.06-.94L8.5 2.5l-.94 2.06-2.06.94zm10 10l.94 2.06.94-2.06 2.06-.94-2.06-.94-.94-2.06-.94 2.06-2.06.94z\"/><path d=\"M17.41 7.96l-1.37-1.37c-.4-.4-.92-.59-1.43-.59-.52 0-1.04.2-1.43.59L10.3 9.45l-7.72 7.72c-.78.78-.78 2.05 0 2.83L4 21.41c.39.39.9.59 1.41.59.51 0 1.02-.2 1.41-.59l7.78-7.78 2.81-2.81c.8-.78.8-2.07 0-2.86zM5.41 20L4 18.59l7.72-7.72 1.47 1.35L5.41 20z\"/>\n",
              "  </svg>\n",
              "      </button>\n",
              "      \n",
              "  <style>\n",
              "    .colab-df-container {\n",
              "      display:flex;\n",
              "      flex-wrap:wrap;\n",
              "      gap: 12px;\n",
              "    }\n",
              "\n",
              "    .colab-df-convert {\n",
              "      background-color: #E8F0FE;\n",
              "      border: none;\n",
              "      border-radius: 50%;\n",
              "      cursor: pointer;\n",
              "      display: none;\n",
              "      fill: #1967D2;\n",
              "      height: 32px;\n",
              "      padding: 0 0 0 0;\n",
              "      width: 32px;\n",
              "    }\n",
              "\n",
              "    .colab-df-convert:hover {\n",
              "      background-color: #E2EBFA;\n",
              "      box-shadow: 0px 1px 2px rgba(60, 64, 67, 0.3), 0px 1px 3px 1px rgba(60, 64, 67, 0.15);\n",
              "      fill: #174EA6;\n",
              "    }\n",
              "\n",
              "    [theme=dark] .colab-df-convert {\n",
              "      background-color: #3B4455;\n",
              "      fill: #D2E3FC;\n",
              "    }\n",
              "\n",
              "    [theme=dark] .colab-df-convert:hover {\n",
              "      background-color: #434B5C;\n",
              "      box-shadow: 0px 1px 3px 1px rgba(0, 0, 0, 0.15);\n",
              "      filter: drop-shadow(0px 1px 2px rgba(0, 0, 0, 0.3));\n",
              "      fill: #FFFFFF;\n",
              "    }\n",
              "  </style>\n",
              "\n",
              "      <script>\n",
              "        const buttonEl =\n",
              "          document.querySelector('#df-c0434e71-4690-4966-a963-36337a653a22 button.colab-df-convert');\n",
              "        buttonEl.style.display =\n",
              "          google.colab.kernel.accessAllowed ? 'block' : 'none';\n",
              "\n",
              "        async function convertToInteractive(key) {\n",
              "          const element = document.querySelector('#df-c0434e71-4690-4966-a963-36337a653a22');\n",
              "          const dataTable =\n",
              "            await google.colab.kernel.invokeFunction('convertToInteractive',\n",
              "                                                     [key], {});\n",
              "          if (!dataTable) return;\n",
              "\n",
              "          const docLinkHtml = 'Like what you see? Visit the ' +\n",
              "            '<a target=\"_blank\" href=https://colab.research.google.com/notebooks/data_table.ipynb>data table notebook</a>'\n",
              "            + ' to learn more about interactive tables.';\n",
              "          element.innerHTML = '';\n",
              "          dataTable['output_type'] = 'display_data';\n",
              "          await google.colab.output.renderOutput(dataTable, element);\n",
              "          const docLink = document.createElement('div');\n",
              "          docLink.innerHTML = docLinkHtml;\n",
              "          element.appendChild(docLink);\n",
              "        }\n",
              "      </script>\n",
              "    </div>\n",
              "  </div>\n",
              "  "
            ]
          },
          "metadata": {},
          "execution_count": 628
        }
      ],
      "source": [
        "X_test=df_t2[X_train_all.columns]\n",
        "X_test.head()"
      ]
    },
    {
      "cell_type": "code",
      "execution_count": null,
      "metadata": {
        "id": "8-Yu2cvy3Jqu"
      },
      "outputs": [],
      "source": [
        "X_test2=np.asmatrix(X_test)\n",
        "X_test2_transpose = X_test2.transpose()"
      ]
    },
    {
      "cell_type": "code",
      "execution_count": null,
      "metadata": {
        "id": "Vqwx4XkVPmfE"
      },
      "outputs": [],
      "source": [
        "#Calculate y_estimate\n",
        "y_test_predict= X_test2.dot(theta_all.transpose()).transpose()\n",
        "y_test_predict= np.array(y_test_predict[0,:])"
      ]
    },
    {
      "cell_type": "code",
      "execution_count": null,
      "metadata": {
        "colab": {
          "base_uri": "https://localhost:8080/"
        },
        "id": "_xM9U-WsL0SE",
        "outputId": "ec771bae-266e-4b41-acc5-ec8f22a56a28"
      },
      "outputs": [
        {
          "output_type": "execute_result",
          "data": {
            "text/plain": [
              "array([[109710.14022785, 162042.62887655, 164182.43079139, ...,\n",
              "        146487.00764819,  98706.12054458, 221841.98817681]])"
            ]
          },
          "metadata": {},
          "execution_count": 631
        }
      ],
      "source": [
        "y_test_predict"
      ]
    },
    {
      "cell_type": "code",
      "execution_count": null,
      "metadata": {
        "id": "sxQ_cWF0cNnv"
      },
      "outputs": [],
      "source": [
        "output = pd.DataFrame({'Id':df_t['Id'].values,'SalePrice': y_test_predict[0,:]},\n",
        "                      columns=['Id','SalePrice'])"
      ]
    },
    {
      "cell_type": "code",
      "execution_count": null,
      "metadata": {
        "colab": {
          "base_uri": "https://localhost:8080/"
        },
        "id": "G7G7B2S1dWtn",
        "outputId": "02475417-d7d7-4d0a-ba14-09aa4ae67a45"
      },
      "outputs": [
        {
          "output_type": "stream",
          "name": "stdout",
          "text": [
            "Drive already mounted at /drive; to attempt to forcibly remount, call drive.mount(\"/drive\", force_remount=True).\n"
          ]
        }
      ],
      "source": [
        "from google.colab import drive\n",
        "drive.mount('/drive')"
      ]
    },
    {
      "cell_type": "code",
      "execution_count": null,
      "metadata": {
        "id": "b_d-4WuYehQc"
      },
      "outputs": [],
      "source": [
        "output.to_csv('/drive/My Drive/houseprice4.csv',index=False)"
      ]
    }
  ],
  "metadata": {
    "colab": {
      "collapsed_sections": [],
      "provenance": []
    },
    "kernelspec": {
      "display_name": "Python 3",
      "name": "python3"
    },
    "language_info": {
      "name": "python"
    }
  },
  "nbformat": 4,
  "nbformat_minor": 0
}