{
  "nbformat": 4,
  "nbformat_minor": 0,
  "metadata": {
    "colab": {
      "provenance": []
    },
    "kernelspec": {
      "name": "python3",
      "display_name": "Python 3"
    },
    "language_info": {
      "name": "python"
    }
  },
  "cells": [
    {
      "cell_type": "markdown",
      "source": [
        "##1. Convolutional Neural Networks"
      ],
      "metadata": {
        "id": "NDLBVbl63zuh"
      }
    },
    {
      "cell_type": "code",
      "source": [
        "import pandas as pd\n",
        "import numpy as np\n",
        "from scipy import misc\n",
        "from matplotlib import pylab as plt\n",
        "from matplotlib.pyplot import imread\n",
        "from matplotlib.pyplot import imshow\n",
        "import matplotlib.cm as cm\n",
        "\n",
        "import tensorflow as tf\n",
        "from tensorflow import keras\n",
        "\n",
        "import matplotlib.style\n",
        "import matplotlib as mpl"
      ],
      "metadata": {
        "id": "BKG4qRbYnvzS"
      },
      "execution_count": 5,
      "outputs": []
    },
    {
      "cell_type": "code",
      "execution_count": 6,
      "metadata": {
        "colab": {
          "base_uri": "https://localhost:8080/",
          "height": 36
        },
        "id": "azv0NE-JnS2O",
        "outputId": "1e13f562-2183-4283-86fd-88fb415910f0"
      },
      "outputs": [
        {
          "output_type": "execute_result",
          "data": {
            "text/plain": [
              "'2.9.0'"
            ],
            "application/vnd.google.colaboratory.intrinsic+json": {
              "type": "string"
            }
          },
          "metadata": {},
          "execution_count": 6
        }
      ],
      "source": [
        "import keras\n",
        "keras . __version__"
      ]
    },
    {
      "cell_type": "markdown",
      "source": [
        "# a. Loading dataset"
      ],
      "metadata": {
        "id": "9EjNNjG_gLoa"
      }
    },
    {
      "cell_type": "code",
      "source": [
        "from keras . datasets import mnist\n",
        "( train_X , train_Y ), ( test_X , test_Y ) = mnist . load_data ()"
      ],
      "metadata": {
        "id": "Jq0aBtNdnZyM"
      },
      "execution_count": 7,
      "outputs": []
    },
    {
      "cell_type": "code",
      "source": [
        "print(train_X.shape)\n",
        "print(train_Y.shape)\n",
        "print(test_X.shape)\n",
        "print(test_Y.shape)"
      ],
      "metadata": {
        "colab": {
          "base_uri": "https://localhost:8080/",
          "height": 0
        },
        "id": "79bMn2LKnbbt",
        "outputId": "2374b77e-500e-4d87-f802-cec96df6a763"
      },
      "execution_count": 8,
      "outputs": [
        {
          "output_type": "stream",
          "name": "stdout",
          "text": [
            "(60000, 28, 28)\n",
            "(60000,)\n",
            "(10000, 28, 28)\n",
            "(10000,)\n"
          ]
        }
      ]
    },
    {
      "cell_type": "code",
      "source": [
        "imshow(train_X[2])"
      ],
      "metadata": {
        "colab": {
          "base_uri": "https://localhost:8080/",
          "height": 283
        },
        "id": "_5Hh26Ctok9D",
        "outputId": "df72be16-043b-4759-c48f-07beb11caf79"
      },
      "execution_count": 9,
      "outputs": [
        {
          "output_type": "execute_result",
          "data": {
            "text/plain": [
              "<matplotlib.image.AxesImage at 0x7f2a6a977e90>"
            ]
          },
          "metadata": {},
          "execution_count": 9
        },
        {
          "output_type": "display_data",
          "data": {
            "text/plain": [
              "<Figure size 432x288 with 1 Axes>"
            ],
            "image/png": "[encoded data removed]"
          },
          "metadata": {
            "needs_background": "light"
          }
        }
      ]
    },
    {
      "cell_type": "code",
      "source": [
        "imshow(train_X[16])"
      ],
      "metadata": {
        "colab": {
          "base_uri": "https://localhost:8080/",
          "height": 283
        },
        "id": "Vdf3bgVL4bNN",
        "outputId": "bfc6ff76-d54a-4292-bc8a-9d93865747fc"
      },
      "execution_count": 10,
      "outputs": [
        {
          "output_type": "execute_result",
          "data": {
            "text/plain": [
              "<matplotlib.image.AxesImage at 0x7f2a6a4611d0>"
            ]
          },
          "metadata": {},
          "execution_count": 10
        },
        {
          "output_type": "display_data",
          "data": {
            "text/plain": [
              "<Figure size 432x288 with 1 Axes>"
            ],
            "image/png": "[encoded data removed]"
          },
          "metadata": {
            "needs_background": "light"
          }
        }
      ]
    },
    {
      "cell_type": "markdown",
      "source": [
        "# b. Preprocessing\n",
        "\n",
        "- The output variable can be\n",
        "converted into a one-hot vector to categorical\n",
        "- Scale the pixel values such that they lie between 0.0 and 1.0 (make sure to use appropriate conversion to float)"
      ],
      "metadata": {
        "id": "rxvSdsvf4kRl"
      }
    },
    {
      "cell_type": "code",
      "source": [
        "#reshaping the date\n",
        "train_X, test_X = train_X.reshape(-1,28,28,1), test_X.reshape(-1,28,28,1) "
      ],
      "metadata": {
        "id": "inmT_TrUrKu0"
      },
      "execution_count": 11,
      "outputs": []
    },
    {
      "cell_type": "code",
      "source": [
        "#One hot vector\n",
        "from keras.utils import to_categorical\n",
        "\n",
        "train_Y = to_categorical(train_Y)\n",
        "test_Y = to_categorical(test_Y)"
      ],
      "metadata": {
        "id": "tPsDgJ02caGf"
      },
      "execution_count": 12,
      "outputs": []
    },
    {
      "cell_type": "code",
      "source": [
        "#normalize the pixel value\n",
        "\n",
        "train_X_norm = train_X.astype('float32')/255.0\n",
        "test_X_norm = test_X.astype('float32')/255.0"
      ],
      "metadata": {
        "id": "xs3gCn5CcoOi"
      },
      "execution_count": 13,
      "outputs": []
    },
    {
      "cell_type": "code",
      "source": [
        "print(train_X_norm.shape)\n",
        "print(train_Y.shape)\n",
        "print(test_X_norm.shape)\n",
        "print(test_Y.shape)"
      ],
      "metadata": {
        "colab": {
          "base_uri": "https://localhost:8080/",
          "height": 0
        },
        "id": "PC9r_7Krekpl",
        "outputId": "c3699bc1-fa30-4118-e031-991fc42f2da4"
      },
      "execution_count": 14,
      "outputs": [
        {
          "output_type": "stream",
          "name": "stdout",
          "text": [
            "(60000, 28, 28, 1)\n",
            "(60000, 10)\n",
            "(10000, 28, 28, 1)\n",
            "(10000, 10)\n"
          ]
        }
      ]
    },
    {
      "cell_type": "code",
      "source": [
        "imshow(train_X_norm[0,:,:,0])"
      ],
      "metadata": {
        "colab": {
          "base_uri": "https://localhost:8080/",
          "height": 283
        },
        "id": "Wn1JmrVVdnVz",
        "outputId": "deedee6c-40a7-4ac4-ff66-7f08b4b316a7"
      },
      "execution_count": 15,
      "outputs": [
        {
          "output_type": "execute_result",
          "data": {
            "text/plain": [
              "<matplotlib.image.AxesImage at 0x7f2a6a3cbf90>"
            ]
          },
          "metadata": {},
          "execution_count": 15
        },
        {
          "output_type": "display_data",
          "data": {
            "text/plain": [
              "<Figure size 432x288 with 1 Axes>"
            ],
            "image/png": "[encoded data removed]"
          },
          "metadata": {
            "needs_background": "light"
          }
        }
      ]
    },
    {
      "cell_type": "markdown",
      "source": [
        "## c. Implementation\n",
        "\n",
        "- A single convolutional layer with 3 x 3 sized window for computing the convolution, with 32 filters\n",
        "- Maxpooling layer with 2 x 2 window size.\n",
        "- Flatten resulting features to reshape your output appropriately\n",
        "- Dense layer on top of this (100 neurons) with ReLU activation \n",
        "- Dense layer with 10 neurons for calculating softmax output (Our classification result will\n",
        "output one of the ten possible classes, corresponding to our digits)\n",
        "\n",
        "After definid the model, use Stochastic Gradient Descent (SGD) optimizer and cost-entropy loss to compile model with learning rate 0.01 and momentum 0.9."
      ],
      "metadata": {
        "id": "H-VHpTWFgVhP"
      }
    },
    {
      "cell_type": "code",
      "source": [
        "from keras.models import Sequential\n",
        "from keras.layers import Conv2D\n",
        "from keras.layers import MaxPooling2D\n",
        "from keras.layers import Dense\n",
        "from keras.layers import Flatten\n",
        "from keras.optimizers import SGD\n",
        "\n",
        "def create_cnn ():\n",
        "# define using Sequential\n",
        "  model = Sequential ( )\n",
        "  # Convolution layer\n",
        "  model.add(\n",
        "    Conv2D(32,(3,3),\n",
        "    activation= 'relu',\n",
        "    kernel_initializer = 'he_uniform',\n",
        "    input_shape =(28 , 28 , 1))\n",
        "    )\n",
        "  # Maxpooling layer\n",
        "  model.add(MaxPooling2D( ( 2,2) ) )\n",
        "  # Flatten output\n",
        "  model.add(Flatten ( ) )\n",
        "  # Dense layer of 100 neurons\n",
        "  model.add(\n",
        "    Dense (100 ,\n",
        "    activation= 'relu' ,\n",
        "    kernel_initializer = 'he_uniform' )\n",
        "    )\n",
        "  model.add(Dense(10 , activation= 'softmax'))\n",
        "  # initialize optimizer\n",
        "  opt = SGD(learning_rate =0.01 , momentum=0.9)\n",
        "  # compile model\n",
        "  model.compile(\n",
        "    optimizer=opt ,\n",
        "    loss= 'categorical_crossentropy' ,\n",
        "    metrics =[ 'accuracy' ]\n",
        "    )\n",
        "  return model"
      ],
      "metadata": {
        "id": "jF6JMx3khvph"
      },
      "execution_count": 17,
      "outputs": []
    },
    {
      "cell_type": "code",
      "source": [
        "model=create_cnn ()"
      ],
      "metadata": {
        "id": "MmTmMf_jXArC"
      },
      "execution_count": 24,
      "outputs": []
    },
    {
      "cell_type": "code",
      "source": [
        "print(model.layers)"
      ],
      "metadata": {
        "colab": {
          "base_uri": "https://localhost:8080/",
          "height": 0
        },
        "id": "J6rhHXWBXXT6",
        "outputId": "0901ea1a-d023-4280-95af-df81a8ca8312"
      },
      "execution_count": 25,
      "outputs": [
        {
          "output_type": "stream",
          "name": "stdout",
          "text": [
            "[<keras.layers.convolutional.conv2d.Conv2D object at 0x7fe710e83c50>, <keras.layers.pooling.max_pooling2d.MaxPooling2D object at 0x7fe70ed2f150>, <keras.layers.reshaping.flatten.Flatten object at 0x7fe712240310>, <keras.layers.core.dense.Dense object at 0x7fe71224d590>, <keras.layers.core.dense.Dense object at 0x7fe70a96a950>]\n"
          ]
        }
      ]
    },
    {
      "cell_type": "markdown",
      "source": [
        "## d. Training and Evaluating CNN"
      ],
      "metadata": {
        "id": "4o7jNwbnXmEi"
      }
    },
    {
      "cell_type": "code",
      "source": [
        "model.fit(train_X_norm, train_Y,batch_size =32,epochs =10,validation_split =0.1)"
      ],
      "metadata": {
        "colab": {
          "base_uri": "https://localhost:8080/",
          "height": 0
        },
        "id": "eP178IJcXoz4",
        "outputId": "43c5629a-433a-4553-87bc-0b5453e1d423"
      },
      "execution_count": 26,
      "outputs": [
        {
          "output_type": "stream",
          "name": "stdout",
          "text": [
            "Epoch 1/10\n",
            "1688/1688 [==============================] - 37s 21ms/step - loss: 0.1788 - accuracy: 0.9464 - val_loss: 0.0725 - val_accuracy: 0.9810\n",
            "Epoch 2/10\n",
            "1688/1688 [==============================] - 39s 23ms/step - loss: 0.0612 - accuracy: 0.9816 - val_loss: 0.0533 - val_accuracy: 0.9857\n",
            "Epoch 3/10\n",
            "1688/1688 [==============================] - 38s 22ms/step - loss: 0.0383 - accuracy: 0.9884 - val_loss: 0.0570 - val_accuracy: 0.9845\n",
            "Epoch 4/10\n",
            "1688/1688 [==============================] - 39s 23ms/step - loss: 0.0264 - accuracy: 0.9919 - val_loss: 0.0499 - val_accuracy: 0.9877\n",
            "Epoch 5/10\n",
            "1688/1688 [==============================] - 37s 22ms/step - loss: 0.0178 - accuracy: 0.9949 - val_loss: 0.0598 - val_accuracy: 0.9848\n",
            "Epoch 6/10\n",
            "1688/1688 [==============================] - 38s 23ms/step - loss: 0.0129 - accuracy: 0.9966 - val_loss: 0.0541 - val_accuracy: 0.9873\n",
            "Epoch 7/10\n",
            "1688/1688 [==============================] - 37s 22ms/step - loss: 0.0085 - accuracy: 0.9979 - val_loss: 0.0489 - val_accuracy: 0.9887\n",
            "Epoch 8/10\n",
            "1688/1688 [==============================] - 48s 29ms/step - loss: 0.0052 - accuracy: 0.9988 - val_loss: 0.0514 - val_accuracy: 0.9880\n",
            "Epoch 9/10\n",
            "1688/1688 [==============================] - 38s 22ms/step - loss: 0.0033 - accuracy: 0.9995 - val_loss: 0.0509 - val_accuracy: 0.9895\n",
            "Epoch 10/10\n",
            "1688/1688 [==============================] - 37s 22ms/step - loss: 0.0023 - accuracy: 0.9997 - val_loss: 0.0562 - val_accuracy: 0.9883\n"
          ]
        },
        {
          "output_type": "execute_result",
          "data": {
            "text/plain": [
              "<keras.callbacks.History at 0x7fe70a8f2e50>"
            ]
          },
          "metadata": {},
          "execution_count": 26
        }
      ]
    },
    {
      "cell_type": "code",
      "source": [
        "score = model.evaluate ( test_X_norm , test_Y , verbose =0)"
      ],
      "metadata": {
        "id": "YRhyi8CRDSRS"
      },
      "execution_count": 27,
      "outputs": []
    },
    {
      "cell_type": "code",
      "source": [
        "print(score)"
      ],
      "metadata": {
        "colab": {
          "base_uri": "https://localhost:8080/",
          "height": 0
        },
        "id": "uZMk1FAjDgu1",
        "outputId": "5871249c-c4cd-40f1-de84-d53f3d3a8abe"
      },
      "execution_count": 28,
      "outputs": [
        {
          "output_type": "stream",
          "name": "stdout",
          "text": [
            "[0.04048396274447441, 0.9882000088691711]\n"
          ]
        }
      ]
    },
    {
      "cell_type": "markdown",
      "source": [
        "# e. Experimentation"
      ],
      "metadata": {
        "id": "A8azmy0-Dk2H"
      }
    },
    {
      "cell_type": "markdown",
      "source": [
        "i) Run the above training for 50 epochs. Is there a steady improvement for both training and\n",
        "validation accuracy?"
      ],
      "metadata": {
        "id": "DLpqCatx8Yus"
      }
    },
    {
      "cell_type": "code",
      "source": [
        "from sklearn.model_selection import KFold\n",
        "\n",
        "def evaluate_model(dataX, dataY):\n",
        "  accuracy, val_accuracy = list(), list()\n",
        "  # define model\n",
        "  model2 = create_cnn()\n",
        "  epoch_history = model2.fit(train_X_norm, train_Y,batch_size =32,epochs =50,\n",
        "                             validation_split =0.1)\n",
        "  for i in [0,9,19,29,39,49]:\n",
        "    acc=epoch_history.history [ 'accuracy' ][i]\n",
        "    val_acc=epoch_history.history [ 'val_accuracy' ][i]\n",
        "\t\t# stores accuracies\n",
        "    accuracy.append(acc)\n",
        "    val_accuracy.append(val_acc)\n",
        "  return accuracy, val_accuracy\n",
        "\n",
        "accuracy, val_accuracy=evaluate_model(train_X_norm, train_Y)"
      ],
      "metadata": {
        "colab": {
          "base_uri": "https://localhost:8080/",
          "height": 0
        },
        "id": "MJwVKbSLDjrr",
        "outputId": "62f58355-2551-4a08-90ba-ec921c628071"
      },
      "execution_count": 29,
      "outputs": [
        {
          "output_type": "stream",
          "name": "stdout",
          "text": [
            "Epoch 1/50\n",
            "1688/1688 [==============================] - 42s 24ms/step - loss: 0.1912 - accuracy: 0.9412 - val_loss: 0.0817 - val_accuracy: 0.9778\n",
            "Epoch 2/50\n",
            "1688/1688 [==============================] - 40s 24ms/step - loss: 0.0644 - accuracy: 0.9807 - val_loss: 0.0532 - val_accuracy: 0.9857\n",
            "Epoch 3/50\n",
            "1688/1688 [==============================] - 38s 22ms/step - loss: 0.0398 - accuracy: 0.9881 - val_loss: 0.0519 - val_accuracy: 0.9863\n",
            "Epoch 4/50\n",
            "1688/1688 [==============================] - 37s 22ms/step - loss: 0.0274 - accuracy: 0.9921 - val_loss: 0.0452 - val_accuracy: 0.9878\n",
            "Epoch 5/50\n",
            "1688/1688 [==============================] - 39s 23ms/step - loss: 0.0194 - accuracy: 0.9940 - val_loss: 0.0553 - val_accuracy: 0.9860\n",
            "Epoch 6/50\n",
            "1688/1688 [==============================] - 40s 24ms/step - loss: 0.0118 - accuracy: 0.9967 - val_loss: 0.0498 - val_accuracy: 0.9880\n",
            "Epoch 7/50\n",
            "1688/1688 [==============================] - 36s 22ms/step - loss: 0.0087 - accuracy: 0.9976 - val_loss: 0.0516 - val_accuracy: 0.9898\n",
            "Epoch 8/50\n",
            "1688/1688 [==============================] - 38s 22ms/step - loss: 0.0056 - accuracy: 0.9987 - val_loss: 0.0542 - val_accuracy: 0.9892\n",
            "Epoch 9/50\n",
            "1688/1688 [==============================] - 36s 22ms/step - loss: 0.0038 - accuracy: 0.9994 - val_loss: 0.0527 - val_accuracy: 0.9898\n",
            "Epoch 10/50\n",
            "1688/1688 [==============================] - 38s 22ms/step - loss: 0.0026 - accuracy: 0.9996 - val_loss: 0.0553 - val_accuracy: 0.9900\n",
            "Epoch 11/50\n",
            "1688/1688 [==============================] - 37s 22ms/step - loss: 0.0015 - accuracy: 0.9999 - val_loss: 0.0524 - val_accuracy: 0.9898\n",
            "Epoch 12/50\n",
            "1688/1688 [==============================] - 38s 22ms/step - loss: 0.0011 - accuracy: 0.9999 - val_loss: 0.0543 - val_accuracy: 0.9897\n",
            "Epoch 13/50\n",
            "1688/1688 [==============================] - 37s 22ms/step - loss: 7.8329e-04 - accuracy: 1.0000 - val_loss: 0.0535 - val_accuracy: 0.9903\n",
            "Epoch 14/50\n",
            "1688/1688 [==============================] - 38s 23ms/step - loss: 5.9565e-04 - accuracy: 1.0000 - val_loss: 0.0556 - val_accuracy: 0.9900\n",
            "Epoch 15/50\n",
            "1688/1688 [==============================] - 36s 22ms/step - loss: 5.2068e-04 - accuracy: 1.0000 - val_loss: 0.0564 - val_accuracy: 0.9902\n",
            "Epoch 16/50\n",
            "1688/1688 [==============================] - 38s 22ms/step - loss: 4.6387e-04 - accuracy: 1.0000 - val_loss: 0.0578 - val_accuracy: 0.9898\n",
            "Epoch 17/50\n",
            "1688/1688 [==============================] - 37s 22ms/step - loss: 3.9907e-04 - accuracy: 1.0000 - val_loss: 0.0583 - val_accuracy: 0.9902\n",
            "Epoch 18/50\n",
            "1688/1688 [==============================] - 38s 22ms/step - loss: 3.5434e-04 - accuracy: 1.0000 - val_loss: 0.0598 - val_accuracy: 0.9902\n",
            "Epoch 19/50\n",
            "1688/1688 [==============================] - 38s 22ms/step - loss: 3.3511e-04 - accuracy: 1.0000 - val_loss: 0.0588 - val_accuracy: 0.9900\n",
            "Epoch 20/50\n",
            "1688/1688 [==============================] - 37s 22ms/step - loss: 3.0308e-04 - accuracy: 1.0000 - val_loss: 0.0593 - val_accuracy: 0.9902\n",
            "Epoch 21/50\n",
            "1688/1688 [==============================] - 38s 22ms/step - loss: 2.8010e-04 - accuracy: 1.0000 - val_loss: 0.0607 - val_accuracy: 0.9897\n",
            "Epoch 22/50\n",
            "1688/1688 [==============================] - 37s 22ms/step - loss: 2.6105e-04 - accuracy: 1.0000 - val_loss: 0.0605 - val_accuracy: 0.9898\n",
            "Epoch 23/50\n",
            "1688/1688 [==============================] - 38s 22ms/step - loss: 2.4220e-04 - accuracy: 1.0000 - val_loss: 0.0613 - val_accuracy: 0.9900\n",
            "Epoch 24/50\n",
            "1688/1688 [==============================] - 37s 22ms/step - loss: 2.2630e-04 - accuracy: 1.0000 - val_loss: 0.0620 - val_accuracy: 0.9900\n",
            "Epoch 25/50\n",
            "1688/1688 [==============================] - 38s 22ms/step - loss: 2.1255e-04 - accuracy: 1.0000 - val_loss: 0.0622 - val_accuracy: 0.9897\n",
            "Epoch 26/50\n",
            "1688/1688 [==============================] - 36s 22ms/step - loss: 2.0358e-04 - accuracy: 1.0000 - val_loss: 0.0627 - val_accuracy: 0.9900\n",
            "Epoch 27/50\n",
            "1688/1688 [==============================] - 38s 22ms/step - loss: 1.9149e-04 - accuracy: 1.0000 - val_loss: 0.0628 - val_accuracy: 0.9897\n",
            "Epoch 28/50\n",
            "1688/1688 [==============================] - 37s 22ms/step - loss: 1.8097e-04 - accuracy: 1.0000 - val_loss: 0.0637 - val_accuracy: 0.9898\n",
            "Epoch 29/50\n",
            "1688/1688 [==============================] - 38s 22ms/step - loss: 1.7378e-04 - accuracy: 1.0000 - val_loss: 0.0636 - val_accuracy: 0.9900\n",
            "Epoch 30/50\n",
            "1688/1688 [==============================] - 38s 22ms/step - loss: 1.6574e-04 - accuracy: 1.0000 - val_loss: 0.0649 - val_accuracy: 0.9898\n",
            "Epoch 31/50\n",
            "1688/1688 [==============================] - 39s 23ms/step - loss: 1.5780e-04 - accuracy: 1.0000 - val_loss: 0.0648 - val_accuracy: 0.9897\n",
            "Epoch 32/50\n",
            "1688/1688 [==============================] - 38s 22ms/step - loss: 1.5158e-04 - accuracy: 1.0000 - val_loss: 0.0650 - val_accuracy: 0.9900\n",
            "Epoch 33/50\n",
            "1688/1688 [==============================] - 38s 23ms/step - loss: 1.4487e-04 - accuracy: 1.0000 - val_loss: 0.0651 - val_accuracy: 0.9897\n",
            "Epoch 34/50\n",
            "1688/1688 [==============================] - 38s 23ms/step - loss: 1.3893e-04 - accuracy: 1.0000 - val_loss: 0.0654 - val_accuracy: 0.9897\n",
            "Epoch 35/50\n",
            "1688/1688 [==============================] - 38s 22ms/step - loss: 1.3338e-04 - accuracy: 1.0000 - val_loss: 0.0661 - val_accuracy: 0.9897\n",
            "Epoch 36/50\n",
            "1688/1688 [==============================] - 39s 23ms/step - loss: 1.2880e-04 - accuracy: 1.0000 - val_loss: 0.0661 - val_accuracy: 0.9897\n",
            "Epoch 37/50\n",
            "1688/1688 [==============================] - 38s 22ms/step - loss: 1.2339e-04 - accuracy: 1.0000 - val_loss: 0.0661 - val_accuracy: 0.9902\n",
            "Epoch 38/50\n",
            "1688/1688 [==============================] - 38s 23ms/step - loss: 1.2047e-04 - accuracy: 1.0000 - val_loss: 0.0667 - val_accuracy: 0.9900\n",
            "Epoch 39/50\n",
            "1688/1688 [==============================] - 37s 22ms/step - loss: 1.1636e-04 - accuracy: 1.0000 - val_loss: 0.0674 - val_accuracy: 0.9898\n",
            "Epoch 40/50\n",
            "1688/1688 [==============================] - 38s 23ms/step - loss: 1.1250e-04 - accuracy: 1.0000 - val_loss: 0.0672 - val_accuracy: 0.9898\n",
            "Epoch 41/50\n",
            "1688/1688 [==============================] - 38s 22ms/step - loss: 1.0860e-04 - accuracy: 1.0000 - val_loss: 0.0678 - val_accuracy: 0.9898\n",
            "Epoch 42/50\n",
            "1688/1688 [==============================] - 40s 23ms/step - loss: 1.0514e-04 - accuracy: 1.0000 - val_loss: 0.0679 - val_accuracy: 0.9897\n",
            "Epoch 43/50\n",
            "1688/1688 [==============================] - 42s 25ms/step - loss: 1.0218e-04 - accuracy: 1.0000 - val_loss: 0.0677 - val_accuracy: 0.9897\n",
            "Epoch 44/50\n",
            "1688/1688 [==============================] - 38s 23ms/step - loss: 9.9067e-05 - accuracy: 1.0000 - val_loss: 0.0681 - val_accuracy: 0.9898\n",
            "Epoch 45/50\n",
            "1688/1688 [==============================] - 39s 23ms/step - loss: 9.6974e-05 - accuracy: 1.0000 - val_loss: 0.0687 - val_accuracy: 0.9898\n",
            "Epoch 46/50\n",
            "1688/1688 [==============================] - 38s 23ms/step - loss: 9.3649e-05 - accuracy: 1.0000 - val_loss: 0.0685 - val_accuracy: 0.9898\n",
            "Epoch 47/50\n",
            "1688/1688 [==============================] - 38s 23ms/step - loss: 9.1466e-05 - accuracy: 1.0000 - val_loss: 0.0689 - val_accuracy: 0.9898\n",
            "Epoch 48/50\n",
            "1688/1688 [==============================] - 37s 22ms/step - loss: 8.9201e-05 - accuracy: 1.0000 - val_loss: 0.0692 - val_accuracy: 0.9898\n",
            "Epoch 49/50\n",
            "1688/1688 [==============================] - 39s 23ms/step - loss: 8.6660e-05 - accuracy: 1.0000 - val_loss: 0.0691 - val_accuracy: 0.9898\n",
            "Epoch 50/50\n",
            "1688/1688 [==============================] - 38s 22ms/step - loss: 8.4242e-05 - accuracy: 1.0000 - val_loss: 0.0695 - val_accuracy: 0.9900\n"
          ]
        }
      ]
    },
    {
      "cell_type": "code",
      "source": [
        "# visualize model performance\n",
        "\n",
        "# plot accuracy\n",
        "#plt.subplot(2, 1, 1)\n",
        "plt.title('Classification Accuracy')\n",
        "y_axis= ('1','10','20','30','40','50')\n",
        "y_pos= np.arange(len(y_axis))\n",
        "plt.plot(y_pos, accuracy, color='blue', label='train')\n",
        "plt.xticks(y_pos, y_axis)\n",
        "plt.xlabel('Epochs')\n",
        "plt.ylabel('Accuracy')\n",
        "plt.show()"
      ],
      "metadata": {
        "colab": {
          "base_uri": "https://localhost:8080/",
          "height": 295
        },
        "id": "FcmTAvfTMvmg",
        "outputId": "2a68fbf5-194c-403f-9a4d-d1bed748cb2a"
      },
      "execution_count": 32,
      "outputs": [
        {
          "output_type": "display_data",
          "data": {
            "text/plain": [
              "<Figure size 432x288 with 1 Axes>"
            ],
            "image/png": "[encoded data removed]"
          },
          "metadata": {
            "needs_background": "light"
          }
        }
      ]
    },
    {
      "cell_type": "code",
      "source": [
        "# plot validation accuracy\n",
        "#plt.subplot(2, 1, 2)\n",
        "plt.title('Validation Accuracy')\n",
        "y_axis= ('1','10','20','30','40','50')\n",
        "y_pos= np.arange(len(y_axis))\n",
        "plt.plot(y_pos, val_accuracy, color='orange', label='validation')\n",
        "plt.xticks(y_pos, y_axis)\n",
        "plt.xlabel('Epochs')\n",
        "plt.ylabel('Accuracy')\n",
        " "
      ],
      "metadata": {
        "colab": {
          "base_uri": "https://localhost:8080/",
          "height": 313
        },
        "id": "G6d_h4MYHIKu",
        "outputId": "69f088ce-28aa-4072-d72d-b548946b8fa6"
      },
      "execution_count": 33,
      "outputs": [
        {
          "output_type": "execute_result",
          "data": {
            "text/plain": [
              "Text(0, 0.5, 'Accuracy')"
            ]
          },
          "metadata": {},
          "execution_count": 33
        },
        {
          "output_type": "display_data",
          "data": {
            "text/plain": [
              "<Figure size 432x288 with 1 Axes>"
            ],
            "image/png": "[encoded data removed]"
          },
          "metadata": {
            "needs_background": "light"
          }
        }
      ]
    },
    {
      "cell_type": "markdown",
      "source": [
        "As we can see from the accuracy plot above, starting from epoch 1 to 10, our train accuracy is already quite high around 0.97-0.99 with steady improvement. However, we can see that training accuracy becomes very steady at 1.00 starting from epoch 13.\n",
        "\n",
        "On the other hand, for validation accuracy, steady improvement is found from epoch 1 to 15 but slightly decreasing afterwards with \n",
        "some minor fluctuation that might indicates overfitting since our model doesn't learn the data but just memorizes it."
      ],
      "metadata": {
        "id": "D540pOdd6T9F"
      }
    },
    {
      "cell_type": "markdown",
      "source": [
        "ii) Dropout to avoid overfitting"
      ],
      "metadata": {
        "id": "OaxOf2RhT_yn"
      }
    },
    {
      "cell_type": "code",
      "source": [
        "from keras.layers import Dropout\n",
        "\n",
        "def create_cnn2 ():\n",
        "# define using Sequential\n",
        "  model = Sequential ( )\n",
        "  # Convolution layer\n",
        "  model.add(\n",
        "    Conv2D(32,(3,3),\n",
        "    activation= 'relu',\n",
        "    kernel_initializer = 'he_uniform',\n",
        "    input_shape =(28 , 28 , 1))\n",
        "    )\n",
        "  # Maxpooling layer\n",
        "  model.add(MaxPooling2D( ( 2,2) ) )\n",
        "  # Flatten output\n",
        "  model.add(Flatten ( ) )\n",
        "  # drop out random units\n",
        "  model.add(Dropout(0.5))\n",
        "  # Dense layer of 100 neurons\n",
        "  model.add(\n",
        "    Dense (100 ,\n",
        "    activation= 'relu' ,\n",
        "    kernel_initializer = 'he_uniform' )\n",
        "    )\n",
        "  model.add(Dense(10 , activation= 'softmax'))\n",
        "  # initialize optimizer\n",
        "  opt = SGD(learning_rate =0.01 , momentum=0.9)\n",
        "  # compile model\n",
        "  model.compile(\n",
        "    optimizer=opt ,\n",
        "    loss= 'categorical_crossentropy' ,\n",
        "    metrics =[ 'accuracy' ]\n",
        "    )\n",
        "  return model\n",
        "\n",
        "\n",
        "def evaluate_model2(dataX, dataY):\n",
        "  accuracy, val_accuracy = list(), list()\n",
        "  # define model\n",
        "  model2 = create_cnn2()\n",
        "  epoch_history = model2.fit(train_X_norm, train_Y,batch_size =32,epochs =50,\n",
        "                             validation_split =0.1)\n",
        "  for i in [0,9,19,29,39,49]:\n",
        "    acc=epoch_history.history [ 'accuracy' ][i]\n",
        "    val_acc=epoch_history.history [ 'val_accuracy' ][i]\n",
        "\t\t# stores accuracies\n",
        "    accuracy.append(acc)\n",
        "    val_accuracy.append(val_acc)\n",
        "  return accuracy, val_accuracy\n",
        "\n",
        "accuracy, val_accuracy=evaluate_model2(train_X_norm, train_Y)"
      ],
      "metadata": {
        "id": "1qOWHuyM8VF5",
        "colab": {
          "base_uri": "https://localhost:8080/",
          "height": 0
        },
        "outputId": "8c6588fd-f299-4e9c-fbb2-aa813683b11a"
      },
      "execution_count": 23,
      "outputs": [
        {
          "output_type": "stream",
          "name": "stdout",
          "text": [
            "Epoch 1/50\n",
            "1688/1688 [==============================] - 49s 29ms/step - loss: 0.2209 - accuracy: 0.9304 - val_loss: 0.0686 - val_accuracy: 0.9802\n",
            "Epoch 2/50\n",
            "1688/1688 [==============================] - 42s 25ms/step - loss: 0.0877 - accuracy: 0.9725 - val_loss: 0.0501 - val_accuracy: 0.9857\n",
            "Epoch 3/50\n",
            "1688/1688 [==============================] - 42s 25ms/step - loss: 0.0657 - accuracy: 0.9799 - val_loss: 0.0464 - val_accuracy: 0.9870\n",
            "Epoch 4/50\n",
            "1688/1688 [==============================] - 42s 25ms/step - loss: 0.0509 - accuracy: 0.9835 - val_loss: 0.0406 - val_accuracy: 0.9888\n",
            "Epoch 5/50\n",
            "1688/1688 [==============================] - 42s 25ms/step - loss: 0.0442 - accuracy: 0.9852 - val_loss: 0.0404 - val_accuracy: 0.9907\n",
            "Epoch 6/50\n",
            "1688/1688 [==============================] - 41s 25ms/step - loss: 0.0374 - accuracy: 0.9880 - val_loss: 0.0375 - val_accuracy: 0.9902\n",
            "Epoch 7/50\n",
            "1688/1688 [==============================] - 42s 25ms/step - loss: 0.0335 - accuracy: 0.9891 - val_loss: 0.0358 - val_accuracy: 0.9912\n",
            "Epoch 8/50\n",
            "1688/1688 [==============================] - 42s 25ms/step - loss: 0.0292 - accuracy: 0.9901 - val_loss: 0.0410 - val_accuracy: 0.9897\n",
            "Epoch 9/50\n",
            "1688/1688 [==============================] - 42s 25ms/step - loss: 0.0253 - accuracy: 0.9913 - val_loss: 0.0372 - val_accuracy: 0.9905\n",
            "Epoch 10/50\n",
            "1688/1688 [==============================] - 41s 24ms/step - loss: 0.0238 - accuracy: 0.9915 - val_loss: 0.0422 - val_accuracy: 0.9887\n",
            "Epoch 11/50\n",
            "1688/1688 [==============================] - 41s 24ms/step - loss: 0.0215 - accuracy: 0.9927 - val_loss: 0.0386 - val_accuracy: 0.9907\n",
            "Epoch 12/50\n",
            "1688/1688 [==============================] - 41s 24ms/step - loss: 0.0194 - accuracy: 0.9931 - val_loss: 0.0378 - val_accuracy: 0.9903\n",
            "Epoch 13/50\n",
            "1688/1688 [==============================] - 41s 25ms/step - loss: 0.0188 - accuracy: 0.9934 - val_loss: 0.0377 - val_accuracy: 0.9907\n",
            "Epoch 14/50\n",
            "1688/1688 [==============================] - 42s 25ms/step - loss: 0.0148 - accuracy: 0.9952 - val_loss: 0.0417 - val_accuracy: 0.9895\n",
            "Epoch 15/50\n",
            "1688/1688 [==============================] - 42s 25ms/step - loss: 0.0163 - accuracy: 0.9941 - val_loss: 0.0416 - val_accuracy: 0.9897\n",
            "Epoch 16/50\n",
            "1688/1688 [==============================] - 42s 25ms/step - loss: 0.0148 - accuracy: 0.9950 - val_loss: 0.0431 - val_accuracy: 0.9902\n",
            "Epoch 17/50\n",
            "1688/1688 [==============================] - 41s 25ms/step - loss: 0.0138 - accuracy: 0.9953 - val_loss: 0.0425 - val_accuracy: 0.9907\n",
            "Epoch 18/50\n",
            "1688/1688 [==============================] - 41s 25ms/step - loss: 0.0128 - accuracy: 0.9956 - val_loss: 0.0421 - val_accuracy: 0.9893\n",
            "Epoch 19/50\n",
            "1688/1688 [==============================] - 42s 25ms/step - loss: 0.0116 - accuracy: 0.9961 - val_loss: 0.0394 - val_accuracy: 0.9902\n",
            "Epoch 20/50\n",
            "1688/1688 [==============================] - 41s 25ms/step - loss: 0.0104 - accuracy: 0.9964 - val_loss: 0.0391 - val_accuracy: 0.9915\n",
            "Epoch 21/50\n",
            "1688/1688 [==============================] - 41s 25ms/step - loss: 0.0104 - accuracy: 0.9963 - val_loss: 0.0439 - val_accuracy: 0.9905\n",
            "Epoch 22/50\n",
            "1688/1688 [==============================] - 42s 25ms/step - loss: 0.0096 - accuracy: 0.9967 - val_loss: 0.0404 - val_accuracy: 0.9915\n",
            "Epoch 23/50\n",
            "1688/1688 [==============================] - 42s 25ms/step - loss: 0.0095 - accuracy: 0.9968 - val_loss: 0.0401 - val_accuracy: 0.9910\n",
            "Epoch 24/50\n",
            "1688/1688 [==============================] - 41s 25ms/step - loss: 0.0085 - accuracy: 0.9971 - val_loss: 0.0390 - val_accuracy: 0.9918\n",
            "Epoch 25/50\n",
            "1688/1688 [==============================] - 41s 25ms/step - loss: 0.0079 - accuracy: 0.9974 - val_loss: 0.0384 - val_accuracy: 0.9922\n",
            "Epoch 26/50\n",
            "1688/1688 [==============================] - 41s 25ms/step - loss: 0.0078 - accuracy: 0.9976 - val_loss: 0.0437 - val_accuracy: 0.9912\n",
            "Epoch 27/50\n",
            "1688/1688 [==============================] - 41s 25ms/step - loss: 0.0078 - accuracy: 0.9974 - val_loss: 0.0424 - val_accuracy: 0.9915\n",
            "Epoch 28/50\n",
            "1688/1688 [==============================] - 41s 25ms/step - loss: 0.0074 - accuracy: 0.9974 - val_loss: 0.0401 - val_accuracy: 0.9902\n",
            "Epoch 29/50\n",
            "1688/1688 [==============================] - 42s 25ms/step - loss: 0.0068 - accuracy: 0.9975 - val_loss: 0.0422 - val_accuracy: 0.9907\n",
            "Epoch 30/50\n",
            "1688/1688 [==============================] - 42s 25ms/step - loss: 0.0075 - accuracy: 0.9976 - val_loss: 0.0386 - val_accuracy: 0.9908\n",
            "Epoch 31/50\n",
            "1688/1688 [==============================] - 43s 25ms/step - loss: 0.0067 - accuracy: 0.9976 - val_loss: 0.0370 - val_accuracy: 0.9917\n",
            "Epoch 32/50\n",
            "1688/1688 [==============================] - 41s 24ms/step - loss: 0.0082 - accuracy: 0.9974 - val_loss: 0.0420 - val_accuracy: 0.9912\n",
            "Epoch 33/50\n",
            "1688/1688 [==============================] - 41s 25ms/step - loss: 0.0058 - accuracy: 0.9980 - val_loss: 0.0458 - val_accuracy: 0.9908\n",
            "Epoch 34/50\n",
            "1688/1688 [==============================] - 42s 25ms/step - loss: 0.0065 - accuracy: 0.9979 - val_loss: 0.0462 - val_accuracy: 0.9912\n",
            "Epoch 35/50\n",
            "1688/1688 [==============================] - 41s 24ms/step - loss: 0.0057 - accuracy: 0.9982 - val_loss: 0.0480 - val_accuracy: 0.9913\n",
            "Epoch 36/50\n",
            "1688/1688 [==============================] - 42s 25ms/step - loss: 0.0064 - accuracy: 0.9977 - val_loss: 0.0489 - val_accuracy: 0.9913\n",
            "Epoch 37/50\n",
            "1688/1688 [==============================] - 41s 24ms/step - loss: 0.0056 - accuracy: 0.9981 - val_loss: 0.0471 - val_accuracy: 0.9913\n",
            "Epoch 38/50\n",
            "1688/1688 [==============================] - 41s 24ms/step - loss: 0.0057 - accuracy: 0.9980 - val_loss: 0.0423 - val_accuracy: 0.9915\n",
            "Epoch 39/50\n",
            "1688/1688 [==============================] - 42s 25ms/step - loss: 0.0055 - accuracy: 0.9981 - val_loss: 0.0411 - val_accuracy: 0.9917\n",
            "Epoch 40/50\n",
            "1688/1688 [==============================] - 42s 25ms/step - loss: 0.0055 - accuracy: 0.9984 - val_loss: 0.0478 - val_accuracy: 0.9902\n",
            "Epoch 41/50\n",
            "1688/1688 [==============================] - 42s 25ms/step - loss: 0.0057 - accuracy: 0.9980 - val_loss: 0.0442 - val_accuracy: 0.9910\n",
            "Epoch 42/50\n",
            "1688/1688 [==============================] - 42s 25ms/step - loss: 0.0053 - accuracy: 0.9984 - val_loss: 0.0457 - val_accuracy: 0.9920\n",
            "Epoch 43/50\n",
            "1688/1688 [==============================] - 42s 25ms/step - loss: 0.0052 - accuracy: 0.9982 - val_loss: 0.0426 - val_accuracy: 0.9918\n",
            "Epoch 44/50\n",
            "1688/1688 [==============================] - 40s 24ms/step - loss: 0.0053 - accuracy: 0.9982 - val_loss: 0.0434 - val_accuracy: 0.9917\n",
            "Epoch 45/50\n",
            "1688/1688 [==============================] - 42s 25ms/step - loss: 0.0054 - accuracy: 0.9982 - val_loss: 0.0526 - val_accuracy: 0.9902\n",
            "Epoch 46/50\n",
            "1688/1688 [==============================] - 41s 25ms/step - loss: 0.0046 - accuracy: 0.9982 - val_loss: 0.0529 - val_accuracy: 0.9912\n",
            "Epoch 47/50\n",
            "1688/1688 [==============================] - 41s 25ms/step - loss: 0.0053 - accuracy: 0.9982 - val_loss: 0.0478 - val_accuracy: 0.9917\n",
            "Epoch 48/50\n",
            "1688/1688 [==============================] - 42s 25ms/step - loss: 0.0045 - accuracy: 0.9985 - val_loss: 0.0473 - val_accuracy: 0.9920\n",
            "Epoch 49/50\n",
            "1688/1688 [==============================] - 42s 25ms/step - loss: 0.0039 - accuracy: 0.9986 - val_loss: 0.0487 - val_accuracy: 0.9913\n",
            "Epoch 50/50\n",
            "1688/1688 [==============================] - 43s 25ms/step - loss: 0.0046 - accuracy: 0.9984 - val_loss: 0.0544 - val_accuracy: 0.9907\n"
          ]
        }
      ]
    },
    {
      "cell_type": "code",
      "source": [
        "# plot accuracy\n",
        "plt.subplot(2, 1, 1)\n",
        "plt.title('Classification Accuracy')\n",
        "y_axis= ('1','10','20','30','40','50')\n",
        "y_pos= np.arange(len(y_axis))\n",
        "plt.plot(y_pos, accuracy, color='blue', label='validation')\n",
        "plt.xticks(y_pos, y_axis)\n",
        "plt.xlabel('Epoch')\n",
        "plt.ylabel('Accuracy')\n",
        "\t\n",
        "# plot validation accuracy\n",
        "plt.subplot(2, 1, 2)\n",
        "plt.title('Validation Accuracy')\n",
        "y_axis= ('1','10','20','30','40','50')\n",
        "y_pos= np.arange(len(y_axis))\n",
        "plt.plot(y_pos, val_accuracy, color='orange', label='validation')\n",
        "plt.xticks(y_pos, y_axis)\n",
        "plt.xlabel('Epochs')\n",
        "plt.ylabel('Accuracy')\n",
        " \n",
        "plt.show()"
      ],
      "metadata": {
        "colab": {
          "base_uri": "https://localhost:8080/",
          "height": 295
        },
        "id": "gVipN7s45qRs",
        "outputId": "127f92cc-aab3-48c3-a9bc-dc1c85e12768"
      },
      "execution_count": 25,
      "outputs": [
        {
          "output_type": "display_data",
          "data": {
            "text/plain": [
              "<Figure size 432x288 with 2 Axes>"
            ],
            "image/png": "[encoded data removed]"
          },
          "metadata": {
            "needs_background": "light"
          }
        }
      ]
    },
    {
      "cell_type": "markdown",
      "source": [
        "iii) Add another convolution layer & maxpooling layer"
      ],
      "metadata": {
        "id": "eqpxjYU2Wsk4"
      }
    },
    {
      "cell_type": "code",
      "source": [
        "def create_cnn3 ():\n",
        "# define using Sequential\n",
        "  model = Sequential ( )\n",
        "  # Convolution layer\n",
        "  model.add(\n",
        "    Conv2D(32,(3,3),\n",
        "    activation= 'relu',\n",
        "    kernel_initializer = 'he_uniform',\n",
        "    input_shape =(28 , 28 , 1))\n",
        "    )\n",
        "  # Maxpooling layer\n",
        "  model.add(MaxPooling2D( ( 2,2) ) )\n",
        "  # Another convolution layer with 64 output filter\n",
        "  model.add(Conv2D(64, (3, 3), activation='relu', \n",
        "                   kernel_initializer='he_uniform'))\n",
        "  # Another Maxpooling layer\n",
        "  model.add(MaxPooling2D((2, 2)))\n",
        "  # Flatten output\n",
        "  model.add(Flatten ( ) )\n",
        "  # drop out random units\n",
        "  model.add(Dropout(0.5))\n",
        "  # Dense layer of 100 neurons\n",
        "  model.add(\n",
        "    Dense (100 ,\n",
        "    activation= 'relu' ,\n",
        "    kernel_initializer = 'he_uniform' )\n",
        "    )\n",
        "  model.add(Dense(10 , activation= 'softmax'))\n",
        "  # initialize optimizer\n",
        "  opt = SGD(learning_rate =0.01 , momentum=0.9)\n",
        "  # compile model\n",
        "  model.compile(\n",
        "    optimizer=opt ,\n",
        "    loss= 'categorical_crossentropy' ,\n",
        "    metrics =[ 'accuracy' ]\n",
        "    )\n",
        "  return model"
      ],
      "metadata": {
        "id": "_XGUtQVPWpYX"
      },
      "execution_count": null,
      "outputs": []
    },
    {
      "cell_type": "code",
      "source": [
        "model3=create_cnn3 ()"
      ],
      "metadata": {
        "id": "su6QNwa3XSMV"
      },
      "execution_count": null,
      "outputs": []
    },
    {
      "cell_type": "code",
      "source": [
        "model3.fit(train_X_norm, train_Y,batch_size =32,epochs =10,\n",
        "           validation_split =0.1)"
      ],
      "metadata": {
        "colab": {
          "base_uri": "https://localhost:8080/"
        },
        "id": "4S7ctpz-XYYA",
        "outputId": "bf0fd542-1ff4-4c2d-be40-2fc1c5321d47"
      },
      "execution_count": null,
      "outputs": [
        {
          "output_type": "stream",
          "name": "stdout",
          "text": [
            "Epoch 1/10\n",
            "1688/1688 [==============================] - 43s 25ms/step - loss: 0.1999 - accuracy: 0.9361 - val_loss: 0.0602 - val_accuracy: 0.9815\n",
            "Epoch 2/10\n",
            "1688/1688 [==============================] - 42s 25ms/step - loss: 0.0812 - accuracy: 0.9751 - val_loss: 0.0433 - val_accuracy: 0.9873\n",
            "Epoch 3/10\n",
            "1688/1688 [==============================] - 42s 25ms/step - loss: 0.0601 - accuracy: 0.9812 - val_loss: 0.0364 - val_accuracy: 0.9900\n",
            "Epoch 4/10\n",
            "1688/1688 [==============================] - 41s 25ms/step - loss: 0.0508 - accuracy: 0.9837 - val_loss: 0.0297 - val_accuracy: 0.9907\n",
            "Epoch 5/10\n",
            "1688/1688 [==============================] - 42s 25ms/step - loss: 0.0467 - accuracy: 0.9854 - val_loss: 0.0325 - val_accuracy: 0.9905\n",
            "Epoch 6/10\n",
            "1688/1688 [==============================] - 42s 25ms/step - loss: 0.0411 - accuracy: 0.9871 - val_loss: 0.0290 - val_accuracy: 0.9907\n",
            "Epoch 7/10\n",
            "1688/1688 [==============================] - 42s 25ms/step - loss: 0.0368 - accuracy: 0.9884 - val_loss: 0.0281 - val_accuracy: 0.9915\n",
            "Epoch 8/10\n",
            "1688/1688 [==============================] - 42s 25ms/step - loss: 0.0352 - accuracy: 0.9886 - val_loss: 0.0295 - val_accuracy: 0.9913\n",
            "Epoch 9/10\n",
            "1688/1688 [==============================] - 42s 25ms/step - loss: 0.0316 - accuracy: 0.9890 - val_loss: 0.0278 - val_accuracy: 0.9918\n",
            "Epoch 10/10\n",
            "1688/1688 [==============================] - 43s 25ms/step - loss: 0.0286 - accuracy: 0.9911 - val_loss: 0.0305 - val_accuracy: 0.9910\n"
          ]
        },
        {
          "output_type": "execute_result",
          "data": {
            "text/plain": [
              "<keras.callbacks.History at 0x7f9ce2117ed0>"
            ]
          },
          "metadata": {},
          "execution_count": 22
        }
      ]
    },
    {
      "cell_type": "code",
      "source": [
        "score3 = model3.evaluate ( test_X_norm , test_Y , verbose =0)\n",
        "print (score3)"
      ],
      "metadata": {
        "colab": {
          "base_uri": "https://localhost:8080/"
        },
        "id": "9FmwXqINXbEc",
        "outputId": "dedf4319-acfc-42a7-89a4-444bd5c689b6"
      },
      "execution_count": null,
      "outputs": [
        {
          "output_type": "stream",
          "name": "stdout",
          "text": [
            "[0.026333706453442574, 0.9911999702453613]\n"
          ]
        }
      ]
    },
    {
      "cell_type": "markdown",
      "source": [
        "iv) Experiment in learning rate"
      ],
      "metadata": {
        "id": "RWBdamXFaDen"
      }
    },
    {
      "cell_type": "markdown",
      "source": [
        "a. Learning rate = 0.001"
      ],
      "metadata": {
        "id": "l8EdLG7cO4iZ"
      }
    },
    {
      "cell_type": "code",
      "source": [
        "def create_cnn4 ():\n",
        "# define using Sequential\n",
        "  model = Sequential ( )\n",
        "  # Convolution layer\n",
        "  model.add(\n",
        "    Conv2D(32,(3,3),\n",
        "    activation= 'relu',\n",
        "    kernel_initializer = 'he_uniform',\n",
        "    input_shape =(28 , 28 , 1))\n",
        "    )\n",
        "  # Maxpooling layer\n",
        "  model.add(MaxPooling2D( ( 2,2) ) )\n",
        "  # Another convolution layer with 64 output filter\n",
        "  model.add(Conv2D(64, (3, 3), activation='relu', \n",
        "                   kernel_initializer='he_uniform'))\n",
        "  # Another Maxpooling layer\n",
        "  model.add(MaxPooling2D((2, 2)))\n",
        "  # Flatten output\n",
        "  model.add(Flatten ( ) )\n",
        "  # drop out random units\n",
        "  model.add(Dropout(0.5))\n",
        "  # Dense layer of 100 neurons\n",
        "  model.add(\n",
        "    Dense (100 ,\n",
        "    activation= 'relu' ,\n",
        "    kernel_initializer = 'he_uniform' )\n",
        "    )\n",
        "  model.add(Dense(10 , activation= 'softmax'))\n",
        "  # initialize optimizer\n",
        "  opt = SGD(learning_rate =0.001 , momentum=0.9)\n",
        "  # compile model\n",
        "  model.compile(\n",
        "    optimizer=opt ,\n",
        "    loss= 'categorical_crossentropy' ,\n",
        "    metrics =[ 'accuracy' ]\n",
        "    )\n",
        "  return model"
      ],
      "metadata": {
        "id": "nMOb2yuRaG6_"
      },
      "execution_count": null,
      "outputs": []
    },
    {
      "cell_type": "code",
      "source": [
        "model4=create_cnn4 ()"
      ],
      "metadata": {
        "id": "OmAYloEVb7DX"
      },
      "execution_count": null,
      "outputs": []
    },
    {
      "cell_type": "code",
      "source": [
        "model4.fit(train_X_norm, train_Y,batch_size =32,epochs =10,\n",
        "           validation_split =0.1)"
      ],
      "metadata": {
        "colab": {
          "base_uri": "https://localhost:8080/"
        },
        "id": "Z78RMG4Nb_gF",
        "outputId": "a40edb12-66ad-4b80-f465-1d0fa4616301"
      },
      "execution_count": null,
      "outputs": [
        {
          "output_type": "stream",
          "name": "stdout",
          "text": [
            "Epoch 1/10\n",
            "1688/1688 [==============================] - 45s 26ms/step - loss: 0.4172 - accuracy: 0.8681 - val_loss: 0.1060 - val_accuracy: 0.9715\n",
            "Epoch 2/10\n",
            "1688/1688 [==============================] - 44s 26ms/step - loss: 0.1686 - accuracy: 0.9473 - val_loss: 0.0803 - val_accuracy: 0.9777\n",
            "Epoch 3/10\n",
            "1688/1688 [==============================] - 44s 26ms/step - loss: 0.1316 - accuracy: 0.9596 - val_loss: 0.0670 - val_accuracy: 0.9807\n",
            "Epoch 4/10\n",
            "1688/1688 [==============================] - 44s 26ms/step - loss: 0.1100 - accuracy: 0.9662 - val_loss: 0.0613 - val_accuracy: 0.9825\n",
            "Epoch 5/10\n",
            "1688/1688 [==============================] - 44s 26ms/step - loss: 0.0961 - accuracy: 0.9706 - val_loss: 0.0511 - val_accuracy: 0.9863\n",
            "Epoch 6/10\n",
            "1688/1688 [==============================] - 44s 26ms/step - loss: 0.0865 - accuracy: 0.9737 - val_loss: 0.0472 - val_accuracy: 0.9873\n",
            "Epoch 7/10\n",
            "1688/1688 [==============================] - 45s 26ms/step - loss: 0.0822 - accuracy: 0.9749 - val_loss: 0.0435 - val_accuracy: 0.9872\n",
            "Epoch 8/10\n",
            "1688/1688 [==============================] - 46s 27ms/step - loss: 0.0740 - accuracy: 0.9773 - val_loss: 0.0437 - val_accuracy: 0.9877\n",
            "Epoch 9/10\n",
            "1688/1688 [==============================] - 46s 27ms/step - loss: 0.0702 - accuracy: 0.9782 - val_loss: 0.0420 - val_accuracy: 0.9875\n",
            "Epoch 10/10\n",
            "1688/1688 [==============================] - 45s 27ms/step - loss: 0.0655 - accuracy: 0.9795 - val_loss: 0.0392 - val_accuracy: 0.9892\n"
          ]
        },
        {
          "output_type": "execute_result",
          "data": {
            "text/plain": [
              "<keras.callbacks.History at 0x7f9ce1e4da50>"
            ]
          },
          "metadata": {},
          "execution_count": 26
        }
      ]
    },
    {
      "cell_type": "code",
      "source": [
        "score4 = model4.evaluate ( test_X_norm , test_Y , verbose =0)\n",
        "print (score4)"
      ],
      "metadata": {
        "colab": {
          "base_uri": "https://localhost:8080/"
        },
        "id": "x0HqIYDQcEs4",
        "outputId": "66a090bc-26b8-4690-ef21-dbd62c76a4a8"
      },
      "execution_count": null,
      "outputs": [
        {
          "output_type": "stream",
          "name": "stdout",
          "text": [
            "[0.03706914186477661, 0.9873999953269958]\n"
          ]
        }
      ]
    },
    {
      "cell_type": "markdown",
      "source": [
        "b. Learning rate = 0.1"
      ],
      "metadata": {
        "id": "4kGKGg7dQ-SB"
      }
    },
    {
      "cell_type": "code",
      "source": [
        "def create_cnn5 ():\n",
        "# define using Sequential\n",
        "  model = Sequential ( )\n",
        "  # Convolution layer\n",
        "  model.add(\n",
        "    Conv2D(32,(3,3),\n",
        "    activation= 'relu',\n",
        "    kernel_initializer = 'he_uniform',\n",
        "    input_shape =(28 , 28 , 1))\n",
        "    )\n",
        "  # Maxpooling layer\n",
        "  model.add(MaxPooling2D( ( 2,2) ) )\n",
        "  # Another convolution layer with 64 output filter\n",
        "  model.add(Conv2D(64, (3, 3), activation='relu', \n",
        "                   kernel_initializer='he_uniform'))\n",
        "  # Another Maxpooling layer\n",
        "  model.add(MaxPooling2D((2, 2)))\n",
        "  # Flatten output\n",
        "  model.add(Flatten ( ) )\n",
        "  # drop out random units\n",
        "  model.add(Dropout(0.5))\n",
        "  # Dense layer of 100 neurons\n",
        "  model.add(\n",
        "    Dense (100 ,\n",
        "    activation= 'relu' ,\n",
        "    kernel_initializer = 'he_uniform' )\n",
        "    )\n",
        "  model.add(Dense(10 , activation= 'softmax'))\n",
        "  # initialize optimizer\n",
        "  opt = SGD(learning_rate =0.1 , momentum=0.9)\n",
        "  # compile model\n",
        "  model.compile(\n",
        "    optimizer=opt ,\n",
        "    loss= 'categorical_crossentropy' ,\n",
        "    metrics =[ 'accuracy' ]\n",
        "    )\n",
        "  return model"
      ],
      "metadata": {
        "id": "_gbj-WHLcMIm"
      },
      "execution_count": 19,
      "outputs": []
    },
    {
      "cell_type": "code",
      "source": [
        "model5=create_cnn5 ()"
      ],
      "metadata": {
        "id": "8DRoVHV4cTWP"
      },
      "execution_count": null,
      "outputs": []
    },
    {
      "cell_type": "code",
      "source": [
        "model5.fit(train_X_norm, train_Y,batch_size =32,epochs =10,\n",
        "           validation_split =0.1)"
      ],
      "metadata": {
        "colab": {
          "base_uri": "https://localhost:8080/"
        },
        "id": "Z9RtrMDkcU9S",
        "outputId": "158326fd-dc1a-46f4-c8f7-15f45e54d2a3"
      },
      "execution_count": null,
      "outputs": [
        {
          "output_type": "stream",
          "name": "stdout",
          "text": [
            "Epoch 1/10\n",
            "1688/1688 [==============================] - 44s 26ms/step - loss: 1.1727 - accuracy: 0.6614 - val_loss: 0.8609 - val_accuracy: 0.7157\n",
            "Epoch 2/10\n",
            "1688/1688 [==============================] - 44s 26ms/step - loss: 1.7653 - accuracy: 0.4052 - val_loss: 2.3056 - val_accuracy: 0.1045\n",
            "Epoch 3/10\n",
            "1688/1688 [==============================] - 44s 26ms/step - loss: 2.3079 - accuracy: 0.1048 - val_loss: 2.3085 - val_accuracy: 0.1000\n",
            "Epoch 4/10\n",
            "1688/1688 [==============================] - 43s 26ms/step - loss: 2.3084 - accuracy: 0.1049 - val_loss: 2.3061 - val_accuracy: 0.1045\n",
            "Epoch 5/10\n",
            "1688/1688 [==============================] - 43s 26ms/step - loss: 2.3085 - accuracy: 0.1050 - val_loss: 2.3054 - val_accuracy: 0.0995\n",
            "Epoch 6/10\n",
            "1688/1688 [==============================] - 43s 25ms/step - loss: 2.3083 - accuracy: 0.1040 - val_loss: 2.3118 - val_accuracy: 0.1045\n",
            "Epoch 7/10\n",
            "1688/1688 [==============================] - 43s 25ms/step - loss: 2.3091 - accuracy: 0.1045 - val_loss: 2.3096 - val_accuracy: 0.1050\n",
            "Epoch 8/10\n",
            "1688/1688 [==============================] - 42s 25ms/step - loss: 2.3080 - accuracy: 0.1052 - val_loss: 2.3126 - val_accuracy: 0.1050\n",
            "Epoch 9/10\n",
            "1688/1688 [==============================] - 42s 25ms/step - loss: 2.3081 - accuracy: 0.1069 - val_loss: 2.3083 - val_accuracy: 0.1113\n",
            "Epoch 10/10\n",
            "1688/1688 [==============================] - 42s 25ms/step - loss: 2.3078 - accuracy: 0.1064 - val_loss: 2.3063 - val_accuracy: 0.1045\n"
          ]
        },
        {
          "output_type": "execute_result",
          "data": {
            "text/plain": [
              "<keras.callbacks.History at 0x7f9cdef0d510>"
            ]
          },
          "metadata": {},
          "execution_count": 30
        }
      ]
    },
    {
      "cell_type": "code",
      "source": [
        "score5 = model5.evaluate ( test_X_norm , test_Y , verbose =0)\n",
        "print (score5)"
      ],
      "metadata": {
        "colab": {
          "base_uri": "https://localhost:8080/"
        },
        "id": "v0-mDjf2cYTK",
        "outputId": "97008c88-15c0-4d12-c23a-fb83cafdf35d"
      },
      "execution_count": null,
      "outputs": [
        {
          "output_type": "stream",
          "name": "stdout",
          "text": [
            "[2.305046796798706, 0.10100000351667404]\n"
          ]
        }
      ]
    },
    {
      "cell_type": "markdown",
      "source": [
        "# f. Analysis"
      ],
      "metadata": {
        "id": "NjMkKk9mccI5"
      }
    },
    {
      "cell_type": "markdown",
      "source": [
        "i) Explain how the trends in validation and train accuracy change after using the dropout layer in the experiments.\n",
        "- After adding the dropout layer, the train accuracy trend does not really change because it becomes very close to 1 after 10 epoches just as before; however, the validation accuracy kept improving when we increase the epoches, unlike before the validation accuracy stops improving after 10 epochs and even decreased with more training.\n",
        "\n",
        "\n",
        "\n",
        "ii) How does the performance of CNN with two convolution layers differ as compared to CNN with a single convolution layer in your experiments?\n",
        "- The test accuracy improved after addinng 2 convolution layers, showing better performance of this deeper CNN model.\n",
        "\n",
        "\n",
        "\n",
        "iii) How did changing learning rates change your experimental results in part (iv)?\n",
        "- Using learning rate of 0.001 does not improve the test accuracy much, while using learning rate of 0.1 make the test accuracy become extremely low. Therefore it is appropriate t ouse the leaning rate of 0.01 for both accuracy and efficiency purpose."
      ],
      "metadata": {
        "id": "bL-qoJMwc2Zx"
      }
    }
  ]
}